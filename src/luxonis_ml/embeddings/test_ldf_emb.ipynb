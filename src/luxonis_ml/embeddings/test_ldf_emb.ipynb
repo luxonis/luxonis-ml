{
 "cells": [
  {
   "cell_type": "markdown",
   "metadata": {},
   "source": [
    "# LuxonisDatasetFormat - testing embeddings methods"
   ]
  },
  {
   "cell_type": "code",
   "execution_count": 1,
   "metadata": {},
   "outputs": [
    {
     "name": "stderr",
     "output_type": "stream",
     "text": [
      "/home/paperspace/Luxonis/lux-ml/lib/python3.9/site-packages/tqdm/auto.py:21: TqdmWarning: IProgress not found. Please update jupyter and ipywidgets. See https://ipywidgets.readthedocs.io/en/stable/user_install.html\n",
      "  from .autonotebook import tqdm as notebook_tqdm\n"
     ]
    }
   ],
   "source": [
    "import os\n",
    "import cv2\n",
    "import numpy as np\n",
    "\n",
    "import torch\n",
    "import torch.onnx\n",
    "import onnx\n",
    "import onnxruntime\n",
    "\n",
    "from qdrant_client import QdrantClient\n",
    "from qdrant_client.models import Distance\n",
    "\n",
    "from luxonis_ml.data.dataset import HType, IType, LDFComponent, LuxonisDataset, BucketStorage\n",
    "\n",
    "from luxonis_ml.embeddings.data_utils import *\n",
    "from luxonis_ml.embeddings.model_utils import *\n",
    "from luxonis_ml.embeddings.embedding_utils import *\n",
    "from luxonis_ml.embeddings.qdrant_utils import *\n",
    "from luxonis_ml.embeddings.ldf_emb import *"
   ]
  },
  {
   "cell_type": "markdown",
   "metadata": {},
   "source": [
    "## Pytorch examples"
   ]
  },
  {
   "cell_type": "code",
   "execution_count": 2,
   "metadata": {},
   "outputs": [],
   "source": [
    "# Load the data\n",
    "data_loader = load_mnist_data(save_path='./mnist', num_samples=640, batch_size=64)"
   ]
  },
  {
   "cell_type": "code",
   "execution_count": 3,
   "metadata": {},
   "outputs": [],
   "source": [
    "\n",
    "# Load the model\n",
    "model = load_model_resnet50_minuslastlayer()"
   ]
  },
  {
   "cell_type": "code",
   "execution_count": 4,
   "metadata": {},
   "outputs": [],
   "source": [
    "\n",
    "# Extract embeddings from the dataset\n",
    "embeddings, labels = extract_embeddings(model, data_loader)"
   ]
  },
  {
   "cell_type": "code",
   "execution_count": 5,
   "metadata": {},
   "outputs": [],
   "source": [
    "\n",
    "save_embeddings(embeddings, labels)"
   ]
  },
  {
   "cell_type": "markdown",
   "metadata": {},
   "source": [
    "## ONNX models and Qdrant"
   ]
  },
  {
   "cell_type": "code",
   "execution_count": 6,
   "metadata": {},
   "outputs": [],
   "source": [
    "# Load the data\n",
    "data_loader = load_mnist_data(save_path='./mnist', num_samples=640, batch_size=64)"
   ]
  },
  {
   "cell_type": "code",
   "execution_count": 7,
   "metadata": {},
   "outputs": [],
   "source": [
    "# Load the model\n",
    "model = load_model()\n",
    "\n",
    "# Export the model to ONNX\n",
    "export_model_onnx(model, model_path_out=\"resnet50.onnx\")\n",
    "\n",
    "# Load the ONNX model\n",
    "onnx_model = load_model_onnx(model_path=\"resnet50.onnx\")\n",
    "\n",
    "# Extend the ONNX model with an intermediate output layer\n",
    "onnx_model = extend_output_onnx(onnx_model, intermediate_tensor_name=\"/Flatten_output_0\")\n",
    "\n",
    "# Save the ONNX model\n",
    "onnx.save(onnx_model, \"resnet50-1.onnx\")"
   ]
  },
  {
   "cell_type": "code",
   "execution_count": 8,
   "metadata": {},
   "outputs": [],
   "source": [
    "# Create an ONNX Runtime session\n",
    "provider = ['CUDAExecutionProvider'] if torch.cuda.is_available() and 'CUDAExecutionProvider' in onnxruntime.get_available_providers() else None\n",
    "ort_session = onnxruntime.InferenceSession(\"resnet50-1.onnx\", providers=provider)\n",
    "\n",
    "# Extract embeddings from the dataset\n",
    "embeddings, labels = extract_embeddings_onnx(ort_session, data_loader)\n",
    "\n",
    "# Save the embeddings and labels to a file\n",
    "save_embeddings(embeddings, labels)"
   ]
  },
  {
   "cell_type": "code",
   "execution_count": 9,
   "metadata": {},
   "outputs": [],
   "source": [
    "embeddings, labels = load_embeddings()"
   ]
  },
  {
   "cell_type": "code",
   "execution_count": 10,
   "metadata": {},
   "outputs": [
    {
     "name": "stdout",
     "output_type": "stream",
     "text": [
      "Collection already exists\n",
      "No new embeddings to insert for batch 0-50\n",
      "No new embeddings to insert for batch 50-100\n",
      "No new embeddings to insert for batch 100-150\n",
      "No new embeddings to insert for batch 150-200\n",
      "No new embeddings to insert for batch 200-250\n",
      "No new embeddings to insert for batch 250-300\n"
     ]
    },
    {
     "name": "stdout",
     "output_type": "stream",
     "text": [
      "No new embeddings to insert for batch 300-350\n",
      "No new embeddings to insert for batch 350-400\n",
      "No new embeddings to insert for batch 400-450\n",
      "No new embeddings to insert for batch 450-500\n",
      "No new embeddings to insert for batch 500-550\n",
      "No new embeddings to insert for batch 550-600\n",
      "No new embeddings to insert for batch 600-640\n"
     ]
    }
   ],
   "source": [
    "# Connect to Qdrant\n",
    "client = connect_to_qdrant()\n",
    "\n",
    "# Create a collection\n",
    "vector_size = embeddings.shape[1]\n",
    "create_collection(client, collection_name=\"mnist2\", vector_size=vector_size, distance=Distance.COSINE)\n",
    "\n",
    "# Insert the embeddings into the collection\n",
    "# insert_embeddings(client, embeddings, labels, collection_name=\"mnist\")\n",
    "# insert_embeddings_nooverwrite(client, embeddings, labels, collection_name=\"mnist\")\n",
    "batch_insert_embeddings_nooverwrite(client, embeddings, labels, batch_size=50, collection_name=\"mnist2\")"
   ]
  },
  {
   "cell_type": "code",
   "execution_count": 11,
   "metadata": {},
   "outputs": [
    {
     "name": "stdout",
     "output_type": "stream",
     "text": [
      "[ScoredPoint(id=310, version=6, score=1.0000001, payload={'label': 0}, vector=None)\n",
      " ScoredPoint(id=264, version=5, score=0.9203315, payload={'label': 0}, vector=None)\n",
      " ScoredPoint(id=416, version=8, score=0.9195281, payload={'label': 3}, vector=None)\n",
      " ScoredPoint(id=382, version=7, score=0.91846496, payload={'label': 6}, vector=None)\n",
      " ScoredPoint(id=631, version=12, score=0.91662145, payload={'label': 0}, vector=None)]\n"
     ]
    }
   ],
   "source": [
    "# Search for the nearest neighbors\n",
    "search_results = search_embeddings(client, embeddings[0], collection_name=\"mnist2\", top=5)\n",
    "\n",
    "# Print the search results\n",
    "print(np.array(search_results))"
   ]
  },
  {
   "cell_type": "markdown",
   "metadata": {},
   "source": [
    "## LuxonisDatasetFormat, ONNX and Qdrant"
   ]
  },
  {
   "cell_type": "code",
   "execution_count": 12,
   "metadata": {},
   "outputs": [],
   "source": [
    "def train_test_val_split(NUM_SAMPLES, train=0.8, val=0.1, test=0.1, seed=42):\n",
    "    if train + val + test != 1.0:\n",
    "        raise ValueError(\"TRAIN + VAL + TEST must equal 1.0\")\n",
    "    \n",
    "    np.random.seed(seed)\n",
    "    # generate random indices for train, val, test splits\n",
    "    indices = np.random.permutation(NUM_SAMPLES)\n",
    "    train_indices, val_indices, test_indices = indices[:int(train * NUM_SAMPLES)], indices[int(train * NUM_SAMPLES):int((train + val) * NUM_SAMPLES)], indices[int((train + val) * NUM_SAMPLES):]\n",
    "    train_test_val = np.array([\"train\"]*NUM_SAMPLES)\n",
    "    train_test_val[train_indices] = \"train\"\n",
    "    train_test_val[val_indices] = \"val\"\n",
    "    train_test_val[test_indices] = \"test\"\n",
    "\n",
    "    return train_test_val\n"
   ]
  },
  {
   "cell_type": "code",
   "execution_count": 13,
   "metadata": {},
   "outputs": [],
   "source": [
    "BUCKET_STORAGE = BucketStorage.LOCAL\n",
    "NUM_SAMPLES = 6400 #-1 # minus one is equivalent to all samples\n",
    "BATCH_SIZE = 64\n",
    "TRAIN,VAL,TEST = 0.8,0.1,0.1"
   ]
  },
  {
   "cell_type": "code",
   "execution_count": 14,
   "metadata": {},
   "outputs": [
    {
     "name": "stdout",
     "output_type": "stream",
     "text": [
      "Number of samples: 6400\n"
     ]
    }
   ],
   "source": [
    "\n",
    "# Load the MNIST data\n",
    "data_loader = load_mnist_data(save_path='./mnist', num_samples=NUM_SAMPLES, batch_size=BATCH_SIZE)\n",
    "NUM_SAMPLES = len(data_loader.dataset)\n",
    "print(f\"Number of samples: {NUM_SAMPLES}\")\n"
   ]
  },
  {
   "cell_type": "code",
   "execution_count": 15,
   "metadata": {},
   "outputs": [],
   "source": [
    "\n",
    "# Split the data into train, val, test\n",
    "train_test_val = train_test_val_split(NUM_SAMPLES, train=TRAIN, val=VAL, test=TEST)\n"
   ]
  },
  {
   "cell_type": "code",
   "execution_count": 16,
   "metadata": {},
   "outputs": [],
   "source": [
    "# Create a tmp directory to store the images\n",
    "mnist_image_dir = './mnist_images'\n",
    "if not os.path.exists(mnist_image_dir):\n",
    "    os.makedirs(mnist_image_dir)\n"
   ]
  },
  {
   "cell_type": "code",
   "execution_count": 17,
   "metadata": {},
   "outputs": [],
   "source": [
    "\n",
    "# Convert MNIST data to Luxonis ML format\n",
    "additions = []\n",
    "batch_num = 0\n",
    "for batch in data_loader:\n",
    "    images, labels = batch\n",
    "    for i, (image, label) in enumerate(zip(images, labels)):\n",
    "        img_ix = batch_num*BATCH_SIZE + i\n",
    "        \n",
    "        # Save image to disk\n",
    "        image_path = os.path.join(mnist_image_dir, f\"mnist_{img_ix}.jpg\")\n",
    "        torchvision.utils.save_image(image, image_path)\n",
    "        \n",
    "        # Create dictionary structure for Luxonis ML\n",
    "        additions.append({\n",
    "            'image': {\n",
    "                'filepath': image_path,\n",
    "                'split': train_test_val[img_ix],\n",
    "                'class': str(label.item())\n",
    "            }\n",
    "        })\n",
    "    batch_num += 1\n",
    "\n",
    "# original_additions = deepcopy(additions)\n"
   ]
  },
  {
   "cell_type": "code",
   "execution_count": 18,
   "metadata": {},
   "outputs": [
    {
     "name": "stdout",
     "output_type": "stream",
     "text": [
      "Dataset ID: 64e7566cca1096d3483cb822\n"
     ]
    }
   ],
   "source": [
    "\n",
    "# 2. Load the MNIST Data into LDF\n",
    "team_id = \"luxonis_id\"\n",
    "team_name = \"luxonis_team\"\n",
    "dataset_name = \"mnist_dataset\"\n",
    "\n",
    "# Create a new dataset in LDF\n",
    "dataset_id = LuxonisDataset.create(\n",
    "    team_id=team_id,\n",
    "    team_name=team_name,\n",
    "    dataset_name=dataset_name\n",
    ")\n",
    "\n",
    "print(f\"Dataset ID: {dataset_id}\")\n"
   ]
  },
  {
   "cell_type": "code",
   "execution_count": 19,
   "metadata": {},
   "outputs": [
    {
     "name": "stderr",
     "output_type": "stream",
     "text": [
      "2023-08-24 14:15:03,265 [WARNING] Updating from a previously saved source!\n"
     ]
    },
    {
     "name": "stderr",
     "output_type": "stream",
     "text": [
      "2023-08-24 14:15:05,097 [INFO] Checking for additions or modifications...\n",
      "100%|██████████| 6400/6400 [00:13<00:00, 466.16it/s]\n",
      "2023-08-24 14:15:18,832 [INFO] Extracting dataset media...\n",
      "100%|██████████| 6400/6400 [00:00<00:00, 65996.49it/s]\n",
      "2023-08-24 14:15:18,931 [INFO] Executing changes to dataset...\n",
      "100%|██████████| 2155/2155 [00:07<00:00, 294.17it/s]\n",
      "2023-08-24 14:15:26,316 [INFO] Creating new version...\n",
      "100%|██████████| 2155/2155 [00:56<00:00, 38.14it/s]\n"
     ]
    }
   ],
   "source": [
    "\n",
    "# Add the MNIST data to the dataset\n",
    "with LuxonisDataset(\n",
    "    team_id=team_id,\n",
    "    dataset_id=dataset_id,\n",
    "    team_name=team_name,\n",
    "    dataset_name=dataset_name,\n",
    "    bucket_storage=BUCKET_STORAGE\n",
    ") as dataset:\n",
    "    dataset.create_source(\n",
    "        'mnist',\n",
    "        custom_components=[\n",
    "            LDFComponent('image', HType.IMAGE, IType.BGR)\n",
    "        ]\n",
    "    )\n",
    "    dataset.set_classes(['0', '1', '2', '3', '4', '5', '6', '7', '8', '9'])\n",
    "    dataset.add(additions)\n",
    "    dataset.create_version(note=\"Adding MNIST data\")\n"
   ]
  },
  {
   "cell_type": "code",
   "execution_count": 20,
   "metadata": {},
   "outputs": [
    {
     "name": "stdout",
     "output_type": "stream",
     "text": [
      "<Sample: {\n",
      "    'id': '64e758bbca1096d3483d0327',\n",
      "    'media_type': 'image',\n",
      "    'filepath': '/luxonis_id/datasets/64e7566cca1096d3483cb822/image/b1e7fbba-46bb-5050-b4f6-f84d41fe4e8f.jpg',\n",
      "    'tags': [],\n",
      "    'metadata': None,\n",
      "    'mnist': <Group: {'id': '64e756a6ca1096d3483cb826', 'name': 'image'}>,\n",
      "    'version': 1.0,\n",
      "    'latest': False,\n",
      "    'split': 'train',\n",
      "    'class': <Classifications: {\n",
      "        'classifications': [\n",
      "            <Classification: {\n",
      "                'id': '64e758b7ca1096d3483cea27',\n",
      "                'tags': [],\n",
      "                'label': '5',\n",
      "                'confidence': None,\n",
      "                'logits': None,\n",
      "            }>,\n",
      "        ],\n",
      "        'logits': None,\n",
      "    }>,\n",
      "    'instance_id': 'b1e7fbba-46bb-5050-b4f6-f84d41fe4e8f',\n",
      "    'tid': '64e756a6ca1096d3483cb827',\n",
      "}>\n"
     ]
    },
    {
     "data": {
      "image/png": "[encoded data removed]",
      "text/plain": [
       "<Figure size 640x480 with 1 Axes>"
      ]
     },
     "metadata": {},
     "output_type": "display_data"
    }
   ],
   "source": [
    "from matplotlib import pyplot as plt\n",
    "\n",
    "with LuxonisDataset(    \n",
    "    team_id=team_id,\n",
    "    dataset_id=dataset_id\n",
    ") as dataset:\n",
    "    \n",
    "    for sample in dataset.fo_dataset:\n",
    "        # img_path = f\"{str(Path.home())}/.cache/luxonis_ml/data/{sample.filepath}\"\n",
    "        print(sample)\n",
    "        id_sub = dataset.path.split('/')[-1]\n",
    "        img_rel_path = sample.filepath.split(id_sub)[-1]\n",
    "        img_path = dataset.path + img_rel_path\n",
    "\n",
    "        img = cv2.imread(img_path)\n",
    "        plt.imshow(img)\n",
    "        plt.show()\n",
    "        break\n",
    "    "
   ]
  },
  {
   "cell_type": "code",
   "execution_count": 21,
   "metadata": {},
   "outputs": [],
   "source": [
    "\n",
    "# Initialize the ONNX Runtime session for the model\n",
    "provider = ['CUDAExecutionProvider'] if torch.cuda.is_available() and 'CUDAExecutionProvider' in onnxruntime.get_available_providers() else None\n",
    "ort_session = onnxruntime.InferenceSession(\"resnet50-1.onnx\", providers=provider)\n"
   ]
  },
  {
   "cell_type": "code",
   "execution_count": 25,
   "metadata": {},
   "outputs": [
    {
     "name": "stderr",
     "output_type": "stream",
     "text": [
      "2023-08-24 14:17:44,095 [INFO] HTTP Request: GET http://localhost:6333/collections/mnist3 \"HTTP/1.1 404 Not Found\"\n",
      "2023-08-24 14:17:44,098 [INFO] HTTP Request: DELETE http://localhost:6333/collections/mnist3 \"HTTP/1.1 200 OK\"\n",
      "2023-08-24 14:17:44,191 [INFO] HTTP Request: PUT http://localhost:6333/collections/mnist3 \"HTTP/1.1 200 OK\"\n"
     ]
    },
    {
     "name": "stdout",
     "output_type": "stream",
     "text": [
      "Container is already running.\n"
     ]
    }
   ],
   "source": [
    "\n",
    "# Start the Qdrant Docker container\n",
    "start_docker_qdrant()\n",
    "\n",
    "# Initialize the Qdrant client\n",
    "qdrant_client = connect_to_qdrant()\n",
    "create_collection(qdrant_client, collection_name=\"mnist3\", vector_size=2048, distance=Distance.COSINE)\n"
   ]
  },
  {
   "cell_type": "code",
   "execution_count": 26,
   "metadata": {},
   "outputs": [
    {
     "name": "stderr",
     "output_type": "stream",
     "text": [
      "2023-08-24 14:17:47,273 [INFO] HTTP Request: POST http://localhost:6333/collections/mnist3/points \"HTTP/1.1 200 OK\"\n",
      "2023-08-24 14:18:12,961 [INFO] HTTP Request: PUT http://localhost:6333/collections/mnist3/points?wait=true \"HTTP/1.1 200 OK\"\n",
      "2023-08-24 14:18:13,005 [INFO] HTTP Request: PUT http://localhost:6333/collections/mnist3/points?wait=true \"HTTP/1.1 200 OK\"\n",
      "2023-08-24 14:18:13,045 [INFO] HTTP Request: PUT http://localhost:6333/collections/mnist3/points?wait=true \"HTTP/1.1 200 OK\"\n",
      "2023-08-24 14:18:13,091 [INFO] HTTP Request: PUT http://localhost:6333/collections/mnist3/points?wait=true \"HTTP/1.1 200 OK\"\n",
      "2023-08-24 14:18:13,135 [INFO] HTTP Request: PUT http://localhost:6333/collections/mnist3/points?wait=true \"HTTP/1.1 200 OK\"\n"
     ]
    },
    {
     "name": "stdout",
     "output_type": "stream",
     "text": [
      "Upserted batch 1 / 168 of size 64 to Qdrant.\n",
      "Upserted batch 2 / 168 of size 64 to Qdrant.\n",
      "Upserted batch 3 / 168 of size 64 to Qdrant.\n",
      "Upserted batch 4 / 168 of size 64 to Qdrant.\n",
      "Upserted batch 5 / 168 of size 64 to Qdrant.\n"
     ]
    },
    {
     "name": "stderr",
     "output_type": "stream",
     "text": [
      "2023-08-24 14:18:13,178 [INFO] HTTP Request: PUT http://localhost:6333/collections/mnist3/points?wait=true \"HTTP/1.1 200 OK\"\n",
      "2023-08-24 14:18:13,224 [INFO] HTTP Request: PUT http://localhost:6333/collections/mnist3/points?wait=true \"HTTP/1.1 200 OK\"\n",
      "2023-08-24 14:18:13,300 [INFO] HTTP Request: PUT http://localhost:6333/collections/mnist3/points?wait=true \"HTTP/1.1 200 OK\"\n",
      "2023-08-24 14:18:13,341 [INFO] HTTP Request: PUT http://localhost:6333/collections/mnist3/points?wait=true \"HTTP/1.1 200 OK\"\n",
      "2023-08-24 14:18:13,385 [INFO] HTTP Request: PUT http://localhost:6333/collections/mnist3/points?wait=true \"HTTP/1.1 200 OK\"\n"
     ]
    },
    {
     "name": "stdout",
     "output_type": "stream",
     "text": [
      "Upserted batch 6 / 168 of size 64 to Qdrant.\n",
      "Upserted batch 7 / 168 of size 64 to Qdrant.\n",
      "Upserted batch 8 / 168 of size 64 to Qdrant.\n",
      "Upserted batch 9 / 168 of size 64 to Qdrant.\n",
      "Upserted batch 10 / 168 of size 64 to Qdrant.\n"
     ]
    },
    {
     "name": "stderr",
     "output_type": "stream",
     "text": [
      "2023-08-24 14:18:13,427 [INFO] HTTP Request: PUT http://localhost:6333/collections/mnist3/points?wait=true \"HTTP/1.1 200 OK\"\n",
      "2023-08-24 14:18:13,470 [INFO] HTTP Request: PUT http://localhost:6333/collections/mnist3/points?wait=true \"HTTP/1.1 200 OK\"\n",
      "2023-08-24 14:18:13,512 [INFO] HTTP Request: PUT http://localhost:6333/collections/mnist3/points?wait=true \"HTTP/1.1 200 OK\"\n",
      "2023-08-24 14:18:13,555 [INFO] HTTP Request: PUT http://localhost:6333/collections/mnist3/points?wait=true \"HTTP/1.1 200 OK\"\n",
      "2023-08-24 14:18:13,598 [INFO] HTTP Request: PUT http://localhost:6333/collections/mnist3/points?wait=true \"HTTP/1.1 200 OK\"\n"
     ]
    },
    {
     "name": "stdout",
     "output_type": "stream",
     "text": [
      "Upserted batch 11 / 168 of size 64 to Qdrant.\n",
      "Upserted batch 12 / 168 of size 64 to Qdrant.\n",
      "Upserted batch 13 / 168 of size 64 to Qdrant.\n",
      "Upserted batch 14 / 168 of size 64 to Qdrant.\n",
      "Upserted batch 15 / 168 of size 64 to Qdrant.\n"
     ]
    },
    {
     "name": "stderr",
     "output_type": "stream",
     "text": [
      "2023-08-24 14:18:13,636 [INFO] HTTP Request: PUT http://localhost:6333/collections/mnist3/points?wait=true \"HTTP/1.1 200 OK\"\n",
      "2023-08-24 14:18:13,673 [INFO] HTTP Request: PUT http://localhost:6333/collections/mnist3/points?wait=true \"HTTP/1.1 200 OK\"\n",
      "2023-08-24 14:18:13,715 [INFO] HTTP Request: PUT http://localhost:6333/collections/mnist3/points?wait=true \"HTTP/1.1 200 OK\"\n",
      "2023-08-24 14:18:13,755 [INFO] HTTP Request: PUT http://localhost:6333/collections/mnist3/points?wait=true \"HTTP/1.1 200 OK\"\n",
      "2023-08-24 14:18:13,798 [INFO] HTTP Request: PUT http://localhost:6333/collections/mnist3/points?wait=true \"HTTP/1.1 200 OK\"\n",
      "2023-08-24 14:18:13,842 [INFO] HTTP Request: PUT http://localhost:6333/collections/mnist3/points?wait=true \"HTTP/1.1 200 OK\"\n"
     ]
    },
    {
     "name": "stdout",
     "output_type": "stream",
     "text": [
      "Upserted batch 16 / 168 of size 64 to Qdrant.\n",
      "Upserted batch 17 / 168 of size 64 to Qdrant.\n",
      "Upserted batch 18 / 168 of size 64 to Qdrant.\n",
      "Upserted batch 19 / 168 of size 64 to Qdrant.\n",
      "Upserted batch 20 / 168 of size 64 to Qdrant.\n",
      "Upserted batch 21 / 168 of size 64 to Qdrant.\n"
     ]
    },
    {
     "name": "stderr",
     "output_type": "stream",
     "text": [
      "2023-08-24 14:18:13,883 [INFO] HTTP Request: PUT http://localhost:6333/collections/mnist3/points?wait=true \"HTTP/1.1 200 OK\"\n",
      "2023-08-24 14:18:13,923 [INFO] HTTP Request: PUT http://localhost:6333/collections/mnist3/points?wait=true \"HTTP/1.1 200 OK\"\n",
      "2023-08-24 14:18:13,962 [INFO] HTTP Request: PUT http://localhost:6333/collections/mnist3/points?wait=true \"HTTP/1.1 200 OK\"\n",
      "2023-08-24 14:18:13,999 [INFO] HTTP Request: PUT http://localhost:6333/collections/mnist3/points?wait=true \"HTTP/1.1 200 OK\"\n",
      "2023-08-24 14:18:14,042 [INFO] HTTP Request: PUT http://localhost:6333/collections/mnist3/points?wait=true \"HTTP/1.1 200 OK\"\n",
      "2023-08-24 14:18:14,083 [INFO] HTTP Request: PUT http://localhost:6333/collections/mnist3/points?wait=true \"HTTP/1.1 200 OK\"\n"
     ]
    },
    {
     "name": "stdout",
     "output_type": "stream",
     "text": [
      "Upserted batch 22 / 168 of size 64 to Qdrant.\n",
      "Upserted batch 23 / 168 of size 64 to Qdrant.\n",
      "Upserted batch 24 / 168 of size 64 to Qdrant.\n",
      "Upserted batch 25 / 168 of size 64 to Qdrant.\n",
      "Upserted batch 26 / 168 of size 64 to Qdrant.\n",
      "Upserted batch 27 / 168 of size 64 to Qdrant.\n"
     ]
    },
    {
     "name": "stderr",
     "output_type": "stream",
     "text": [
      "2023-08-24 14:18:14,138 [INFO] HTTP Request: PUT http://localhost:6333/collections/mnist3/points?wait=true \"HTTP/1.1 200 OK\"\n",
      "2023-08-24 14:18:14,193 [INFO] HTTP Request: PUT http://localhost:6333/collections/mnist3/points?wait=true \"HTTP/1.1 200 OK\"\n",
      "2023-08-24 14:18:14,238 [INFO] HTTP Request: PUT http://localhost:6333/collections/mnist3/points?wait=true \"HTTP/1.1 200 OK\"\n",
      "2023-08-24 14:18:14,282 [INFO] HTTP Request: PUT http://localhost:6333/collections/mnist3/points?wait=true \"HTTP/1.1 200 OK\"\n",
      "2023-08-24 14:18:14,327 [INFO] HTTP Request: PUT http://localhost:6333/collections/mnist3/points?wait=true \"HTTP/1.1 200 OK\"\n"
     ]
    },
    {
     "name": "stdout",
     "output_type": "stream",
     "text": [
      "Upserted batch 28 / 168 of size 64 to Qdrant.\n",
      "Upserted batch 29 / 168 of size 64 to Qdrant.\n",
      "Upserted batch 30 / 168 of size 64 to Qdrant.\n",
      "Upserted batch 31 / 168 of size 64 to Qdrant.\n",
      "Upserted batch 32 / 168 of size 64 to Qdrant.\n"
     ]
    },
    {
     "name": "stderr",
     "output_type": "stream",
     "text": [
      "2023-08-24 14:18:14,374 [INFO] HTTP Request: PUT http://localhost:6333/collections/mnist3/points?wait=true \"HTTP/1.1 200 OK\"\n",
      "2023-08-24 14:18:14,411 [INFO] HTTP Request: PUT http://localhost:6333/collections/mnist3/points?wait=true \"HTTP/1.1 200 OK\"\n",
      "2023-08-24 14:18:14,451 [INFO] HTTP Request: PUT http://localhost:6333/collections/mnist3/points?wait=true \"HTTP/1.1 200 OK\"\n",
      "2023-08-24 14:18:14,491 [INFO] HTTP Request: PUT http://localhost:6333/collections/mnist3/points?wait=true \"HTTP/1.1 200 OK\"\n",
      "2023-08-24 14:18:14,528 [INFO] HTTP Request: PUT http://localhost:6333/collections/mnist3/points?wait=true \"HTTP/1.1 200 OK\"\n",
      "2023-08-24 14:18:14,574 [INFO] HTTP Request: PUT http://localhost:6333/collections/mnist3/points?wait=true \"HTTP/1.1 200 OK\"\n"
     ]
    },
    {
     "name": "stdout",
     "output_type": "stream",
     "text": [
      "Upserted batch 33 / 168 of size 64 to Qdrant.\n",
      "Upserted batch 34 / 168 of size 64 to Qdrant.\n",
      "Upserted batch 35 / 168 of size 64 to Qdrant.\n",
      "Upserted batch 36 / 168 of size 64 to Qdrant.\n",
      "Upserted batch 37 / 168 of size 64 to Qdrant.\n",
      "Upserted batch 38 / 168 of size 64 to Qdrant.\n"
     ]
    },
    {
     "name": "stderr",
     "output_type": "stream",
     "text": [
      "2023-08-24 14:18:14,613 [INFO] HTTP Request: PUT http://localhost:6333/collections/mnist3/points?wait=true \"HTTP/1.1 200 OK\"\n",
      "2023-08-24 14:18:14,652 [INFO] HTTP Request: PUT http://localhost:6333/collections/mnist3/points?wait=true \"HTTP/1.1 200 OK\"\n",
      "2023-08-24 14:18:14,692 [INFO] HTTP Request: PUT http://localhost:6333/collections/mnist3/points?wait=true \"HTTP/1.1 200 OK\"\n",
      "2023-08-24 14:18:14,738 [INFO] HTTP Request: PUT http://localhost:6333/collections/mnist3/points?wait=true \"HTTP/1.1 200 OK\"\n",
      "2023-08-24 14:18:14,780 [INFO] HTTP Request: PUT http://localhost:6333/collections/mnist3/points?wait=true \"HTTP/1.1 200 OK\"\n",
      "2023-08-24 14:18:14,822 [INFO] HTTP Request: PUT http://localhost:6333/collections/mnist3/points?wait=true \"HTTP/1.1 200 OK\"\n"
     ]
    },
    {
     "name": "stdout",
     "output_type": "stream",
     "text": [
      "Upserted batch 39 / 168 of size 64 to Qdrant.\n",
      "Upserted batch 40 / 168 of size 64 to Qdrant.\n",
      "Upserted batch 41 / 168 of size 64 to Qdrant.\n",
      "Upserted batch 42 / 168 of size 64 to Qdrant.\n",
      "Upserted batch 43 / 168 of size 64 to Qdrant.\n",
      "Upserted batch 44 / 168 of size 64 to Qdrant.\n"
     ]
    },
    {
     "name": "stderr",
     "output_type": "stream",
     "text": [
      "2023-08-24 14:18:14,868 [INFO] HTTP Request: PUT http://localhost:6333/collections/mnist3/points?wait=true \"HTTP/1.1 200 OK\"\n",
      "2023-08-24 14:18:14,911 [INFO] HTTP Request: PUT http://localhost:6333/collections/mnist3/points?wait=true \"HTTP/1.1 200 OK\"\n",
      "2023-08-24 14:18:14,953 [INFO] HTTP Request: PUT http://localhost:6333/collections/mnist3/points?wait=true \"HTTP/1.1 200 OK\"\n",
      "2023-08-24 14:18:14,996 [INFO] HTTP Request: PUT http://localhost:6333/collections/mnist3/points?wait=true \"HTTP/1.1 200 OK\"\n",
      "2023-08-24 14:18:15,037 [INFO] HTTP Request: PUT http://localhost:6333/collections/mnist3/points?wait=true \"HTTP/1.1 200 OK\"\n"
     ]
    },
    {
     "name": "stdout",
     "output_type": "stream",
     "text": [
      "Upserted batch 45 / 168 of size 64 to Qdrant.\n",
      "Upserted batch 46 / 168 of size 64 to Qdrant.\n",
      "Upserted batch 47 / 168 of size 64 to Qdrant.\n",
      "Upserted batch 48 / 168 of size 64 to Qdrant.\n",
      "Upserted batch 49 / 168 of size 64 to Qdrant.\n"
     ]
    },
    {
     "name": "stderr",
     "output_type": "stream",
     "text": [
      "2023-08-24 14:18:15,080 [INFO] HTTP Request: PUT http://localhost:6333/collections/mnist3/points?wait=true \"HTTP/1.1 200 OK\"\n",
      "2023-08-24 14:18:15,120 [INFO] HTTP Request: PUT http://localhost:6333/collections/mnist3/points?wait=true \"HTTP/1.1 200 OK\"\n",
      "2023-08-24 14:18:15,158 [INFO] HTTP Request: PUT http://localhost:6333/collections/mnist3/points?wait=true \"HTTP/1.1 200 OK\"\n",
      "2023-08-24 14:18:15,196 [INFO] HTTP Request: PUT http://localhost:6333/collections/mnist3/points?wait=true \"HTTP/1.1 200 OK\"\n",
      "2023-08-24 14:18:15,276 [INFO] HTTP Request: PUT http://localhost:6333/collections/mnist3/points?wait=true \"HTTP/1.1 200 OK\"\n"
     ]
    },
    {
     "name": "stdout",
     "output_type": "stream",
     "text": [
      "Upserted batch 50 / 168 of size 64 to Qdrant.\n",
      "Upserted batch 51 / 168 of size 64 to Qdrant.\n",
      "Upserted batch 52 / 168 of size 64 to Qdrant.\n",
      "Upserted batch 53 / 168 of size 64 to Qdrant.\n",
      "Upserted batch 54 / 168 of size 64 to Qdrant.\n"
     ]
    },
    {
     "name": "stderr",
     "output_type": "stream",
     "text": [
      "2023-08-24 14:18:15,315 [INFO] HTTP Request: PUT http://localhost:6333/collections/mnist3/points?wait=true \"HTTP/1.1 200 OK\"\n",
      "2023-08-24 14:18:15,353 [INFO] HTTP Request: PUT http://localhost:6333/collections/mnist3/points?wait=true \"HTTP/1.1 200 OK\"\n",
      "2023-08-24 14:18:15,395 [INFO] HTTP Request: PUT http://localhost:6333/collections/mnist3/points?wait=true \"HTTP/1.1 200 OK\"\n",
      "2023-08-24 14:18:15,439 [INFO] HTTP Request: PUT http://localhost:6333/collections/mnist3/points?wait=true \"HTTP/1.1 200 OK\"\n",
      "2023-08-24 14:18:15,477 [INFO] HTTP Request: PUT http://localhost:6333/collections/mnist3/points?wait=true \"HTTP/1.1 200 OK\"\n",
      "2023-08-24 14:18:15,517 [INFO] HTTP Request: PUT http://localhost:6333/collections/mnist3/points?wait=true \"HTTP/1.1 200 OK\"\n"
     ]
    },
    {
     "name": "stdout",
     "output_type": "stream",
     "text": [
      "Upserted batch 55 / 168 of size 64 to Qdrant.\n",
      "Upserted batch 56 / 168 of size 64 to Qdrant.\n",
      "Upserted batch 57 / 168 of size 64 to Qdrant.\n",
      "Upserted batch 58 / 168 of size 64 to Qdrant.\n",
      "Upserted batch 59 / 168 of size 64 to Qdrant.\n",
      "Upserted batch 60 / 168 of size 64 to Qdrant.\n"
     ]
    },
    {
     "name": "stderr",
     "output_type": "stream",
     "text": [
      "2023-08-24 14:18:15,558 [INFO] HTTP Request: PUT http://localhost:6333/collections/mnist3/points?wait=true \"HTTP/1.1 200 OK\"\n",
      "2023-08-24 14:18:15,598 [INFO] HTTP Request: PUT http://localhost:6333/collections/mnist3/points?wait=true \"HTTP/1.1 200 OK\"\n",
      "2023-08-24 14:18:15,634 [INFO] HTTP Request: PUT http://localhost:6333/collections/mnist3/points?wait=true \"HTTP/1.1 200 OK\"\n",
      "2023-08-24 14:18:15,676 [INFO] HTTP Request: PUT http://localhost:6333/collections/mnist3/points?wait=true \"HTTP/1.1 200 OK\"\n",
      "2023-08-24 14:18:15,716 [INFO] HTTP Request: PUT http://localhost:6333/collections/mnist3/points?wait=true \"HTTP/1.1 200 OK\"\n",
      "2023-08-24 14:18:15,756 [INFO] HTTP Request: PUT http://localhost:6333/collections/mnist3/points?wait=true \"HTTP/1.1 200 OK\"\n"
     ]
    },
    {
     "name": "stdout",
     "output_type": "stream",
     "text": [
      "Upserted batch 61 / 168 of size 64 to Qdrant.\n",
      "Upserted batch 62 / 168 of size 64 to Qdrant.\n",
      "Upserted batch 63 / 168 of size 64 to Qdrant.\n",
      "Upserted batch 64 / 168 of size 64 to Qdrant.\n",
      "Upserted batch 65 / 168 of size 64 to Qdrant.\n",
      "Upserted batch 66 / 168 of size 64 to Qdrant.\n"
     ]
    },
    {
     "name": "stderr",
     "output_type": "stream",
     "text": [
      "2023-08-24 14:18:15,804 [INFO] HTTP Request: PUT http://localhost:6333/collections/mnist3/points?wait=true \"HTTP/1.1 200 OK\"\n",
      "2023-08-24 14:18:15,842 [INFO] HTTP Request: PUT http://localhost:6333/collections/mnist3/points?wait=true \"HTTP/1.1 200 OK\"\n",
      "2023-08-24 14:18:15,881 [INFO] HTTP Request: PUT http://localhost:6333/collections/mnist3/points?wait=true \"HTTP/1.1 200 OK\"\n",
      "2023-08-24 14:18:15,924 [INFO] HTTP Request: PUT http://localhost:6333/collections/mnist3/points?wait=true \"HTTP/1.1 200 OK\"\n",
      "2023-08-24 14:18:15,965 [INFO] HTTP Request: PUT http://localhost:6333/collections/mnist3/points?wait=true \"HTTP/1.1 200 OK\"\n",
      "2023-08-24 14:18:16,004 [INFO] HTTP Request: PUT http://localhost:6333/collections/mnist3/points?wait=true \"HTTP/1.1 200 OK\"\n"
     ]
    },
    {
     "name": "stdout",
     "output_type": "stream",
     "text": [
      "Upserted batch 67 / 168 of size 64 to Qdrant.\n",
      "Upserted batch 68 / 168 of size 64 to Qdrant.\n",
      "Upserted batch 69 / 168 of size 64 to Qdrant.\n",
      "Upserted batch 70 / 168 of size 64 to Qdrant.\n",
      "Upserted batch 71 / 168 of size 64 to Qdrant.\n",
      "Upserted batch 72 / 168 of size 64 to Qdrant.\n"
     ]
    },
    {
     "name": "stderr",
     "output_type": "stream",
     "text": [
      "2023-08-24 14:18:16,052 [INFO] HTTP Request: PUT http://localhost:6333/collections/mnist3/points?wait=true \"HTTP/1.1 200 OK\"\n",
      "2023-08-24 14:18:16,095 [INFO] HTTP Request: PUT http://localhost:6333/collections/mnist3/points?wait=true \"HTTP/1.1 200 OK\"\n",
      "2023-08-24 14:18:16,136 [INFO] HTTP Request: PUT http://localhost:6333/collections/mnist3/points?wait=true \"HTTP/1.1 200 OK\"\n",
      "2023-08-24 14:18:16,174 [INFO] HTTP Request: PUT http://localhost:6333/collections/mnist3/points?wait=true \"HTTP/1.1 200 OK\"\n",
      "2023-08-24 14:18:16,210 [INFO] HTTP Request: PUT http://localhost:6333/collections/mnist3/points?wait=true \"HTTP/1.1 200 OK\"\n",
      "2023-08-24 14:18:16,250 [INFO] HTTP Request: PUT http://localhost:6333/collections/mnist3/points?wait=true \"HTTP/1.1 200 OK\"\n"
     ]
    },
    {
     "name": "stdout",
     "output_type": "stream",
     "text": [
      "Upserted batch 73 / 168 of size 64 to Qdrant.\n",
      "Upserted batch 74 / 168 of size 64 to Qdrant.\n",
      "Upserted batch 75 / 168 of size 64 to Qdrant.\n",
      "Upserted batch 76 / 168 of size 64 to Qdrant.\n",
      "Upserted batch 77 / 168 of size 64 to Qdrant.\n",
      "Upserted batch 78 / 168 of size 64 to Qdrant.\n"
     ]
    },
    {
     "name": "stderr",
     "output_type": "stream",
     "text": [
      "2023-08-24 14:18:16,298 [INFO] HTTP Request: PUT http://localhost:6333/collections/mnist3/points?wait=true \"HTTP/1.1 200 OK\"\n",
      "2023-08-24 14:18:16,338 [INFO] HTTP Request: PUT http://localhost:6333/collections/mnist3/points?wait=true \"HTTP/1.1 200 OK\"\n",
      "2023-08-24 14:18:16,377 [INFO] HTTP Request: PUT http://localhost:6333/collections/mnist3/points?wait=true \"HTTP/1.1 200 OK\"\n",
      "2023-08-24 14:18:16,417 [INFO] HTTP Request: PUT http://localhost:6333/collections/mnist3/points?wait=true \"HTTP/1.1 200 OK\"\n",
      "2023-08-24 14:18:16,469 [INFO] HTTP Request: PUT http://localhost:6333/collections/mnist3/points?wait=true \"HTTP/1.1 200 OK\"\n",
      "2023-08-24 14:18:16,509 [INFO] HTTP Request: PUT http://localhost:6333/collections/mnist3/points?wait=true \"HTTP/1.1 200 OK\"\n"
     ]
    },
    {
     "name": "stdout",
     "output_type": "stream",
     "text": [
      "Upserted batch 79 / 168 of size 64 to Qdrant.\n",
      "Upserted batch 80 / 168 of size 64 to Qdrant.\n",
      "Upserted batch 81 / 168 of size 64 to Qdrant.\n",
      "Upserted batch 82 / 168 of size 64 to Qdrant.\n",
      "Upserted batch 83 / 168 of size 64 to Qdrant.\n",
      "Upserted batch 84 / 168 of size 64 to Qdrant.\n"
     ]
    },
    {
     "name": "stderr",
     "output_type": "stream",
     "text": [
      "2023-08-24 14:18:16,564 [INFO] HTTP Request: PUT http://localhost:6333/collections/mnist3/points?wait=true \"HTTP/1.1 200 OK\"\n",
      "2023-08-24 14:18:16,604 [INFO] HTTP Request: PUT http://localhost:6333/collections/mnist3/points?wait=true \"HTTP/1.1 200 OK\"\n",
      "2023-08-24 14:18:16,643 [INFO] HTTP Request: PUT http://localhost:6333/collections/mnist3/points?wait=true \"HTTP/1.1 200 OK\"\n",
      "2023-08-24 14:18:16,679 [INFO] HTTP Request: PUT http://localhost:6333/collections/mnist3/points?wait=true \"HTTP/1.1 200 OK\"\n",
      "2023-08-24 14:18:16,717 [INFO] HTTP Request: PUT http://localhost:6333/collections/mnist3/points?wait=true \"HTTP/1.1 200 OK\"\n",
      "2023-08-24 14:18:16,754 [INFO] HTTP Request: PUT http://localhost:6333/collections/mnist3/points?wait=true \"HTTP/1.1 200 OK\"\n"
     ]
    },
    {
     "name": "stdout",
     "output_type": "stream",
     "text": [
      "Upserted batch 85 / 168 of size 64 to Qdrant.\n",
      "Upserted batch 86 / 168 of size 64 to Qdrant.\n",
      "Upserted batch 87 / 168 of size 64 to Qdrant.\n",
      "Upserted batch 88 / 168 of size 64 to Qdrant.\n",
      "Upserted batch 89 / 168 of size 64 to Qdrant.\n",
      "Upserted batch 90 / 168 of size 64 to Qdrant.\n"
     ]
    },
    {
     "name": "stderr",
     "output_type": "stream",
     "text": [
      "2023-08-24 14:18:16,792 [INFO] HTTP Request: PUT http://localhost:6333/collections/mnist3/points?wait=true \"HTTP/1.1 200 OK\"\n",
      "2023-08-24 14:18:16,831 [INFO] HTTP Request: PUT http://localhost:6333/collections/mnist3/points?wait=true \"HTTP/1.1 200 OK\"\n",
      "2023-08-24 14:18:16,869 [INFO] HTTP Request: PUT http://localhost:6333/collections/mnist3/points?wait=true \"HTTP/1.1 200 OK\"\n",
      "2023-08-24 14:18:16,909 [INFO] HTTP Request: PUT http://localhost:6333/collections/mnist3/points?wait=true \"HTTP/1.1 200 OK\"\n",
      "2023-08-24 14:18:16,968 [INFO] HTTP Request: PUT http://localhost:6333/collections/mnist3/points?wait=true \"HTTP/1.1 200 OK\"\n",
      "2023-08-24 14:18:17,008 [INFO] HTTP Request: PUT http://localhost:6333/collections/mnist3/points?wait=true \"HTTP/1.1 200 OK\"\n"
     ]
    },
    {
     "name": "stdout",
     "output_type": "stream",
     "text": [
      "Upserted batch 91 / 168 of size 64 to Qdrant.\n",
      "Upserted batch 92 / 168 of size 64 to Qdrant.\n",
      "Upserted batch 93 / 168 of size 64 to Qdrant.\n",
      "Upserted batch 94 / 168 of size 64 to Qdrant.\n",
      "Upserted batch 95 / 168 of size 64 to Qdrant.\n",
      "Upserted batch 96 / 168 of size 64 to Qdrant.\n"
     ]
    },
    {
     "name": "stderr",
     "output_type": "stream",
     "text": [
      "2023-08-24 14:18:17,050 [INFO] HTTP Request: PUT http://localhost:6333/collections/mnist3/points?wait=true \"HTTP/1.1 200 OK\"\n",
      "2023-08-24 14:18:17,094 [INFO] HTTP Request: PUT http://localhost:6333/collections/mnist3/points?wait=true \"HTTP/1.1 200 OK\"\n",
      "2023-08-24 14:18:17,130 [INFO] HTTP Request: PUT http://localhost:6333/collections/mnist3/points?wait=true \"HTTP/1.1 200 OK\"\n",
      "2023-08-24 14:18:17,170 [INFO] HTTP Request: PUT http://localhost:6333/collections/mnist3/points?wait=true \"HTTP/1.1 200 OK\"\n",
      "2023-08-24 14:18:17,208 [INFO] HTTP Request: PUT http://localhost:6333/collections/mnist3/points?wait=true \"HTTP/1.1 200 OK\"\n",
      "2023-08-24 14:18:17,249 [INFO] HTTP Request: PUT http://localhost:6333/collections/mnist3/points?wait=true \"HTTP/1.1 200 OK\"\n"
     ]
    },
    {
     "name": "stdout",
     "output_type": "stream",
     "text": [
      "Upserted batch 97 / 168 of size 64 to Qdrant.\n",
      "Upserted batch 98 / 168 of size 64 to Qdrant.\n",
      "Upserted batch 99 / 168 of size 64 to Qdrant.\n",
      "Upserted batch 100 / 168 of size 64 to Qdrant.\n",
      "Upserted batch 101 / 168 of size 64 to Qdrant.\n",
      "Upserted batch 102 / 168 of size 64 to Qdrant.\n"
     ]
    },
    {
     "name": "stderr",
     "output_type": "stream",
     "text": [
      "2023-08-24 14:18:17,288 [INFO] HTTP Request: PUT http://localhost:6333/collections/mnist3/points?wait=true \"HTTP/1.1 200 OK\"\n",
      "2023-08-24 14:18:17,328 [INFO] HTTP Request: PUT http://localhost:6333/collections/mnist3/points?wait=true \"HTTP/1.1 200 OK\"\n",
      "2023-08-24 14:18:17,369 [INFO] HTTP Request: PUT http://localhost:6333/collections/mnist3/points?wait=true \"HTTP/1.1 200 OK\"\n",
      "2023-08-24 14:18:17,407 [INFO] HTTP Request: PUT http://localhost:6333/collections/mnist3/points?wait=true \"HTTP/1.1 200 OK\"\n",
      "2023-08-24 14:18:17,445 [INFO] HTTP Request: PUT http://localhost:6333/collections/mnist3/points?wait=true \"HTTP/1.1 200 OK\"\n",
      "2023-08-24 14:18:17,490 [INFO] HTTP Request: PUT http://localhost:6333/collections/mnist3/points?wait=true \"HTTP/1.1 200 OK\"\n"
     ]
    },
    {
     "name": "stdout",
     "output_type": "stream",
     "text": [
      "Upserted batch 103 / 168 of size 64 to Qdrant.\n",
      "Upserted batch 104 / 168 of size 64 to Qdrant.\n",
      "Upserted batch 105 / 168 of size 64 to Qdrant.\n",
      "Upserted batch 106 / 168 of size 64 to Qdrant.\n",
      "Upserted batch 107 / 168 of size 64 to Qdrant.\n",
      "Upserted batch 108 / 168 of size 64 to Qdrant.\n"
     ]
    },
    {
     "name": "stderr",
     "output_type": "stream",
     "text": [
      "2023-08-24 14:18:17,528 [INFO] HTTP Request: PUT http://localhost:6333/collections/mnist3/points?wait=true \"HTTP/1.1 200 OK\"\n",
      "2023-08-24 14:18:17,569 [INFO] HTTP Request: PUT http://localhost:6333/collections/mnist3/points?wait=true \"HTTP/1.1 200 OK\"\n",
      "2023-08-24 14:18:17,609 [INFO] HTTP Request: PUT http://localhost:6333/collections/mnist3/points?wait=true \"HTTP/1.1 200 OK\"\n",
      "2023-08-24 14:18:17,649 [INFO] HTTP Request: PUT http://localhost:6333/collections/mnist3/points?wait=true \"HTTP/1.1 200 OK\"\n",
      "2023-08-24 14:18:17,688 [INFO] HTTP Request: PUT http://localhost:6333/collections/mnist3/points?wait=true \"HTTP/1.1 200 OK\"\n",
      "2023-08-24 14:18:17,728 [INFO] HTTP Request: PUT http://localhost:6333/collections/mnist3/points?wait=true \"HTTP/1.1 200 OK\"\n"
     ]
    },
    {
     "name": "stdout",
     "output_type": "stream",
     "text": [
      "Upserted batch 109 / 168 of size 64 to Qdrant.\n",
      "Upserted batch 110 / 168 of size 64 to Qdrant.\n",
      "Upserted batch 111 / 168 of size 64 to Qdrant.\n",
      "Upserted batch 112 / 168 of size 64 to Qdrant.\n",
      "Upserted batch 113 / 168 of size 64 to Qdrant.\n",
      "Upserted batch 114 / 168 of size 64 to Qdrant.\n"
     ]
    },
    {
     "name": "stderr",
     "output_type": "stream",
     "text": [
      "2023-08-24 14:18:17,769 [INFO] HTTP Request: PUT http://localhost:6333/collections/mnist3/points?wait=true \"HTTP/1.1 200 OK\"\n",
      "2023-08-24 14:18:17,808 [INFO] HTTP Request: PUT http://localhost:6333/collections/mnist3/points?wait=true \"HTTP/1.1 200 OK\"\n",
      "2023-08-24 14:18:17,847 [INFO] HTTP Request: PUT http://localhost:6333/collections/mnist3/points?wait=true \"HTTP/1.1 200 OK\"\n",
      "2023-08-24 14:18:17,889 [INFO] HTTP Request: PUT http://localhost:6333/collections/mnist3/points?wait=true \"HTTP/1.1 200 OK\"\n",
      "2023-08-24 14:18:17,928 [INFO] HTTP Request: PUT http://localhost:6333/collections/mnist3/points?wait=true \"HTTP/1.1 200 OK\"\n",
      "2023-08-24 14:18:17,969 [INFO] HTTP Request: PUT http://localhost:6333/collections/mnist3/points?wait=true \"HTTP/1.1 200 OK\"\n"
     ]
    },
    {
     "name": "stdout",
     "output_type": "stream",
     "text": [
      "Upserted batch 115 / 168 of size 64 to Qdrant.\n",
      "Upserted batch 116 / 168 of size 64 to Qdrant.\n",
      "Upserted batch 117 / 168 of size 64 to Qdrant.\n",
      "Upserted batch 118 / 168 of size 64 to Qdrant.\n",
      "Upserted batch 119 / 168 of size 64 to Qdrant.\n",
      "Upserted batch 120 / 168 of size 64 to Qdrant.\n"
     ]
    },
    {
     "name": "stderr",
     "output_type": "stream",
     "text": [
      "2023-08-24 14:18:18,008 [INFO] HTTP Request: PUT http://localhost:6333/collections/mnist3/points?wait=true \"HTTP/1.1 200 OK\"\n",
      "2023-08-24 14:18:18,047 [INFO] HTTP Request: PUT http://localhost:6333/collections/mnist3/points?wait=true \"HTTP/1.1 200 OK\"\n",
      "2023-08-24 14:18:18,089 [INFO] HTTP Request: PUT http://localhost:6333/collections/mnist3/points?wait=true \"HTTP/1.1 200 OK\"\n",
      "2023-08-24 14:18:18,126 [INFO] HTTP Request: PUT http://localhost:6333/collections/mnist3/points?wait=true \"HTTP/1.1 200 OK\"\n",
      "2023-08-24 14:18:18,166 [INFO] HTTP Request: PUT http://localhost:6333/collections/mnist3/points?wait=true \"HTTP/1.1 200 OK\"\n",
      "2023-08-24 14:18:18,210 [INFO] HTTP Request: PUT http://localhost:6333/collections/mnist3/points?wait=true \"HTTP/1.1 200 OK\"\n"
     ]
    },
    {
     "name": "stdout",
     "output_type": "stream",
     "text": [
      "Upserted batch 121 / 168 of size 64 to Qdrant.\n",
      "Upserted batch 122 / 168 of size 64 to Qdrant.\n",
      "Upserted batch 123 / 168 of size 64 to Qdrant.\n",
      "Upserted batch 124 / 168 of size 64 to Qdrant.\n",
      "Upserted batch 125 / 168 of size 64 to Qdrant.\n",
      "Upserted batch 126 / 168 of size 64 to Qdrant.\n"
     ]
    },
    {
     "name": "stderr",
     "output_type": "stream",
     "text": [
      "2023-08-24 14:18:18,250 [INFO] HTTP Request: PUT http://localhost:6333/collections/mnist3/points?wait=true \"HTTP/1.1 200 OK\"\n",
      "2023-08-24 14:18:18,289 [INFO] HTTP Request: PUT http://localhost:6333/collections/mnist3/points?wait=true \"HTTP/1.1 200 OK\"\n",
      "2023-08-24 14:18:18,328 [INFO] HTTP Request: PUT http://localhost:6333/collections/mnist3/points?wait=true \"HTTP/1.1 200 OK\"\n",
      "2023-08-24 14:18:18,372 [INFO] HTTP Request: PUT http://localhost:6333/collections/mnist3/points?wait=true \"HTTP/1.1 200 OK\"\n",
      "2023-08-24 14:18:18,418 [INFO] HTTP Request: PUT http://localhost:6333/collections/mnist3/points?wait=true \"HTTP/1.1 200 OK\"\n",
      "2023-08-24 14:18:18,462 [INFO] HTTP Request: PUT http://localhost:6333/collections/mnist3/points?wait=true \"HTTP/1.1 200 OK\"\n"
     ]
    },
    {
     "name": "stdout",
     "output_type": "stream",
     "text": [
      "Upserted batch 127 / 168 of size 64 to Qdrant.\n",
      "Upserted batch 128 / 168 of size 64 to Qdrant.\n",
      "Upserted batch 129 / 168 of size 64 to Qdrant.\n",
      "Upserted batch 130 / 168 of size 64 to Qdrant.\n",
      "Upserted batch 131 / 168 of size 64 to Qdrant.\n",
      "Upserted batch 132 / 168 of size 64 to Qdrant.\n"
     ]
    },
    {
     "name": "stderr",
     "output_type": "stream",
     "text": [
      "2023-08-24 14:18:18,502 [INFO] HTTP Request: PUT http://localhost:6333/collections/mnist3/points?wait=true \"HTTP/1.1 200 OK\"\n",
      "2023-08-24 14:18:18,546 [INFO] HTTP Request: PUT http://localhost:6333/collections/mnist3/points?wait=true \"HTTP/1.1 200 OK\"\n",
      "2023-08-24 14:18:18,587 [INFO] HTTP Request: PUT http://localhost:6333/collections/mnist3/points?wait=true \"HTTP/1.1 200 OK\"\n",
      "2023-08-24 14:18:18,628 [INFO] HTTP Request: PUT http://localhost:6333/collections/mnist3/points?wait=true \"HTTP/1.1 200 OK\"\n",
      "2023-08-24 14:18:18,668 [INFO] HTTP Request: PUT http://localhost:6333/collections/mnist3/points?wait=true \"HTTP/1.1 200 OK\"\n"
     ]
    },
    {
     "name": "stdout",
     "output_type": "stream",
     "text": [
      "Upserted batch 133 / 168 of size 64 to Qdrant.\n",
      "Upserted batch 134 / 168 of size 64 to Qdrant.\n",
      "Upserted batch 135 / 168 of size 64 to Qdrant.\n",
      "Upserted batch 136 / 168 of size 64 to Qdrant.\n",
      "Upserted batch 137 / 168 of size 64 to Qdrant.\n"
     ]
    },
    {
     "name": "stderr",
     "output_type": "stream",
     "text": [
      "2023-08-24 14:18:18,711 [INFO] HTTP Request: PUT http://localhost:6333/collections/mnist3/points?wait=true \"HTTP/1.1 200 OK\"\n",
      "2023-08-24 14:18:18,752 [INFO] HTTP Request: PUT http://localhost:6333/collections/mnist3/points?wait=true \"HTTP/1.1 200 OK\"\n",
      "2023-08-24 14:18:18,793 [INFO] HTTP Request: PUT http://localhost:6333/collections/mnist3/points?wait=true \"HTTP/1.1 200 OK\"\n",
      "2023-08-24 14:18:18,838 [INFO] HTTP Request: PUT http://localhost:6333/collections/mnist3/points?wait=true \"HTTP/1.1 200 OK\"\n",
      "2023-08-24 14:18:18,879 [INFO] HTTP Request: PUT http://localhost:6333/collections/mnist3/points?wait=true \"HTTP/1.1 200 OK\"\n",
      "2023-08-24 14:18:18,920 [INFO] HTTP Request: PUT http://localhost:6333/collections/mnist3/points?wait=true \"HTTP/1.1 200 OK\"\n"
     ]
    },
    {
     "name": "stdout",
     "output_type": "stream",
     "text": [
      "Upserted batch 138 / 168 of size 64 to Qdrant.\n",
      "Upserted batch 139 / 168 of size 64 to Qdrant.\n",
      "Upserted batch 140 / 168 of size 64 to Qdrant.\n",
      "Upserted batch 141 / 168 of size 64 to Qdrant.\n",
      "Upserted batch 142 / 168 of size 64 to Qdrant.\n",
      "Upserted batch 143 / 168 of size 64 to Qdrant.\n"
     ]
    },
    {
     "name": "stderr",
     "output_type": "stream",
     "text": [
      "2023-08-24 14:18:18,961 [INFO] HTTP Request: PUT http://localhost:6333/collections/mnist3/points?wait=true \"HTTP/1.1 200 OK\"\n",
      "2023-08-24 14:18:19,000 [INFO] HTTP Request: PUT http://localhost:6333/collections/mnist3/points?wait=true \"HTTP/1.1 200 OK\"\n",
      "2023-08-24 14:18:19,042 [INFO] HTTP Request: PUT http://localhost:6333/collections/mnist3/points?wait=true \"HTTP/1.1 200 OK\"\n",
      "2023-08-24 14:18:19,085 [INFO] HTTP Request: PUT http://localhost:6333/collections/mnist3/points?wait=true \"HTTP/1.1 200 OK\"\n",
      "2023-08-24 14:18:19,126 [INFO] HTTP Request: PUT http://localhost:6333/collections/mnist3/points?wait=true \"HTTP/1.1 200 OK\"\n",
      "2023-08-24 14:18:19,169 [INFO] HTTP Request: PUT http://localhost:6333/collections/mnist3/points?wait=true \"HTTP/1.1 200 OK\"\n"
     ]
    },
    {
     "name": "stdout",
     "output_type": "stream",
     "text": [
      "Upserted batch 144 / 168 of size 64 to Qdrant.\n",
      "Upserted batch 145 / 168 of size 64 to Qdrant.\n",
      "Upserted batch 146 / 168 of size 64 to Qdrant.\n",
      "Upserted batch 147 / 168 of size 64 to Qdrant.\n",
      "Upserted batch 148 / 168 of size 64 to Qdrant.\n",
      "Upserted batch 149 / 168 of size 64 to Qdrant.\n"
     ]
    },
    {
     "name": "stderr",
     "output_type": "stream",
     "text": [
      "2023-08-24 14:18:19,214 [INFO] HTTP Request: PUT http://localhost:6333/collections/mnist3/points?wait=true \"HTTP/1.1 200 OK\"\n",
      "2023-08-24 14:18:19,255 [INFO] HTTP Request: PUT http://localhost:6333/collections/mnist3/points?wait=true \"HTTP/1.1 200 OK\"\n",
      "2023-08-24 14:18:19,295 [INFO] HTTP Request: PUT http://localhost:6333/collections/mnist3/points?wait=true \"HTTP/1.1 200 OK\"\n",
      "2023-08-24 14:18:19,342 [INFO] HTTP Request: PUT http://localhost:6333/collections/mnist3/points?wait=true \"HTTP/1.1 200 OK\"\n",
      "2023-08-24 14:18:19,383 [INFO] HTTP Request: PUT http://localhost:6333/collections/mnist3/points?wait=true \"HTTP/1.1 200 OK\"\n",
      "2023-08-24 14:18:19,422 [INFO] HTTP Request: PUT http://localhost:6333/collections/mnist3/points?wait=true \"HTTP/1.1 200 OK\"\n"
     ]
    },
    {
     "name": "stdout",
     "output_type": "stream",
     "text": [
      "Upserted batch 150 / 168 of size 64 to Qdrant.\n",
      "Upserted batch 151 / 168 of size 64 to Qdrant.\n",
      "Upserted batch 152 / 168 of size 64 to Qdrant.\n",
      "Upserted batch 153 / 168 of size 64 to Qdrant.\n",
      "Upserted batch 154 / 168 of size 64 to Qdrant.\n",
      "Upserted batch 155 / 168 of size 64 to Qdrant.\n"
     ]
    },
    {
     "name": "stderr",
     "output_type": "stream",
     "text": [
      "2023-08-24 14:18:19,464 [INFO] HTTP Request: PUT http://localhost:6333/collections/mnist3/points?wait=true \"HTTP/1.1 200 OK\"\n",
      "2023-08-24 14:18:19,504 [INFO] HTTP Request: PUT http://localhost:6333/collections/mnist3/points?wait=true \"HTTP/1.1 200 OK\"\n",
      "2023-08-24 14:18:19,547 [INFO] HTTP Request: PUT http://localhost:6333/collections/mnist3/points?wait=true \"HTTP/1.1 200 OK\"\n",
      "2023-08-24 14:18:19,586 [INFO] HTTP Request: PUT http://localhost:6333/collections/mnist3/points?wait=true \"HTTP/1.1 200 OK\"\n",
      "2023-08-24 14:18:19,623 [INFO] HTTP Request: PUT http://localhost:6333/collections/mnist3/points?wait=true \"HTTP/1.1 200 OK\"\n",
      "2023-08-24 14:18:19,659 [INFO] HTTP Request: PUT http://localhost:6333/collections/mnist3/points?wait=true \"HTTP/1.1 200 OK\"\n"
     ]
    },
    {
     "name": "stdout",
     "output_type": "stream",
     "text": [
      "Upserted batch 156 / 168 of size 64 to Qdrant.\n",
      "Upserted batch 157 / 168 of size 64 to Qdrant.\n",
      "Upserted batch 158 / 168 of size 64 to Qdrant.\n",
      "Upserted batch 159 / 168 of size 64 to Qdrant.\n",
      "Upserted batch 160 / 168 of size 64 to Qdrant.\n",
      "Upserted batch 161 / 168 of size 64 to Qdrant.\n"
     ]
    },
    {
     "name": "stderr",
     "output_type": "stream",
     "text": [
      "2023-08-24 14:18:19,699 [INFO] HTTP Request: PUT http://localhost:6333/collections/mnist3/points?wait=true \"HTTP/1.1 200 OK\"\n",
      "2023-08-24 14:18:19,737 [INFO] HTTP Request: PUT http://localhost:6333/collections/mnist3/points?wait=true \"HTTP/1.1 200 OK\"\n",
      "2023-08-24 14:18:19,774 [INFO] HTTP Request: PUT http://localhost:6333/collections/mnist3/points?wait=true \"HTTP/1.1 200 OK\"\n",
      "2023-08-24 14:18:19,816 [INFO] HTTP Request: PUT http://localhost:6333/collections/mnist3/points?wait=true \"HTTP/1.1 200 OK\"\n",
      "2023-08-24 14:18:19,857 [INFO] HTTP Request: PUT http://localhost:6333/collections/mnist3/points?wait=true \"HTTP/1.1 200 OK\"\n",
      "2023-08-24 14:18:19,895 [INFO] HTTP Request: PUT http://localhost:6333/collections/mnist3/points?wait=true \"HTTP/1.1 200 OK\"\n"
     ]
    },
    {
     "name": "stdout",
     "output_type": "stream",
     "text": [
      "Upserted batch 162 / 168 of size 64 to Qdrant.\n",
      "Upserted batch 163 / 168 of size 64 to Qdrant.\n",
      "Upserted batch 164 / 168 of size 64 to Qdrant.\n",
      "Upserted batch 165 / 168 of size 64 to Qdrant.\n",
      "Upserted batch 166 / 168 of size 64 to Qdrant.\n",
      "Upserted batch 167 / 168 of size 64 to Qdrant.\n"
     ]
    },
    {
     "name": "stderr",
     "output_type": "stream",
     "text": [
      "2023-08-24 14:18:19,931 [INFO] HTTP Request: PUT http://localhost:6333/collections/mnist3/points?wait=true \"HTTP/1.1 200 OK\"\n"
     ]
    },
    {
     "name": "stdout",
     "output_type": "stream",
     "text": [
      "Upserted batch 168 / 168 of size 56 to Qdrant.\n",
      "Embeddings generation and insertion completed!\n"
     ]
    }
   ],
   "source": [
    "\n",
    "# Load the LuxonisDataset\n",
    "with LuxonisDataset(team_id=team_id, dataset_id=dataset_id) as dataset:\n",
    "    # Call the _generate_embeddings method\n",
    "    emb_dict = generate_embeddings(dataset, ort_session, qdrant_client, \n",
    "                        qdrant_collection_name=\"mnist3\", \n",
    "                        output_layer_name=\"/Flatten_output_0\")\n"
   ]
  },
  {
   "cell_type": "code",
   "execution_count": 27,
   "metadata": {},
   "outputs": [
    {
     "name": "stdout",
     "output_type": "stream",
     "text": [
      "<Sample: {\n",
      "    'id': '64e758bbca1096d3483d0327',\n",
      "    'media_type': 'image',\n",
      "    'filepath': '/luxonis_id/datasets/64e7566cca1096d3483cb822/image/b1e7fbba-46bb-5050-b4f6-f84d41fe4e8f.jpg',\n",
      "    'tags': [],\n",
      "    'metadata': None,\n",
      "    'mnist': <Group: {'id': '64e756a6ca1096d3483cb826', 'name': 'image'}>,\n",
      "    'version': 1.0,\n",
      "    'latest': False,\n",
      "    'split': 'train',\n",
      "    'class': <Classifications: {\n",
      "        'classifications': [\n",
      "            <Classification: {\n",
      "                'id': '64e758b7ca1096d3483cea27',\n",
      "                'tags': [],\n",
      "                'label': '5',\n",
      "                'confidence': None,\n",
      "                'logits': None,\n",
      "            }>,\n",
      "        ],\n",
      "        'logits': None,\n",
      "    }>,\n",
      "    'instance_id': 'b1e7fbba-46bb-5050-b4f6-f84d41fe4e8f',\n",
      "    'tid': '64e756a6ca1096d3483cb827',\n",
      "}>\n"
     ]
    }
   ],
   "source": [
    "first_emb = None\n",
    "\n",
    "with LuxonisDataset(    \n",
    "    team_id=team_id,\n",
    "    dataset_id=dataset_id\n",
    ") as dataset:\n",
    "    # get a specific sample from dataset\n",
    "    first_sample = list(emb_dict.keys())[0]\n",
    "    first_emb = emb_dict[first_sample]\n",
    "    sample_id = first_sample\n",
    "    \n",
    "    # sample_id = '64e758bdca1096d3483d18f4'\n",
    "    sample = dataset.fo_dataset[sample_id]\n",
    "    print(sample)"
   ]
  },
  {
   "cell_type": "code",
   "execution_count": 29,
   "metadata": {},
   "outputs": [
    {
     "name": "stderr",
     "output_type": "stream",
     "text": [
      "2023-08-24 14:20:18,031 [INFO] HTTP Request: POST http://localhost:6333/collections/mnist3/points/search \"HTTP/1.1 200 OK\"\n"
     ]
    },
    {
     "name": "stdout",
     "output_type": "stream",
     "text": [
      "[ScoredPoint(id='b1e7fbba-46bb-5050-b4f6-f84d41fe4e8f', version=163, score=1.0, payload={'class': '5', 'image_path': '/home/paperspace/.cache/luxonis_ml/data/luxonis_id/datasets/64e7566cca1096d3483cb822/image/b1e7fbba-46bb-5050-b4f6-f84d41fe4e8f.jpg', 'instance_id': 'b1e7fbba-46bb-5050-b4f6-f84d41fe4e8f', 'sample_id': '64e765fd7d05bba6e602ed8e', 'split': 'val'}, vector=None)\n",
      " ScoredPoint(id='0594bd6b-31be-5326-b791-fc7be96fb9f6', version=154, score=0.97462344, payload={'class': '5', 'image_path': '/home/paperspace/.cache/luxonis_ml/data/luxonis_id/datasets/64e7566cca1096d3483cb822/image/0594bd6b-31be-5326-b791-fc7be96fb9f6.jpg', 'instance_id': '0594bd6b-31be-5326-b791-fc7be96fb9f6', 'sample_id': '64e765fb7d05bba6e602eb2f', 'split': 'val'}, vector=None)\n",
      " ScoredPoint(id='f3f1c59d-1f5f-5e0f-832e-caa0411d2e55', version=52, score=0.97452646, payload={'class': '5', 'image_path': '/home/paperspace/.cache/luxonis_ml/data/luxonis_id/datasets/64e7566cca1096d3483cb822/image/f3f1c59d-1f5f-5e0f-832e-caa0411d2e55.jpg', 'instance_id': 'f3f1c59d-1f5f-5e0f-832e-caa0411d2e55', 'sample_id': '64e758bcca1096d3483d104d', 'split': 'train'}, vector=None)\n",
      " ScoredPoint(id='fc9b9fa0-4229-5545-ad3c-f68a67e38132', version=29, score=0.9692963, payload={'class': '9', 'image_path': '/home/paperspace/.cache/luxonis_ml/data/luxonis_id/datasets/64e7566cca1096d3483cb822/image/fc9b9fa0-4229-5545-ad3c-f68a67e38132.jpg', 'instance_id': 'fc9b9fa0-4229-5545-ad3c-f68a67e38132', 'sample_id': '64e758bbca1096d3483d0a73', 'split': 'train'}, vector=None)\n",
      " ScoredPoint(id='a6431178-9078-5075-ace0-32709dbfbe1f', version=52, score=0.96922964, payload={'class': '5', 'image_path': '/home/paperspace/.cache/luxonis_ml/data/luxonis_id/datasets/64e7566cca1096d3483cb822/image/a6431178-9078-5075-ace0-32709dbfbe1f.jpg', 'instance_id': 'a6431178-9078-5075-ace0-32709dbfbe1f', 'sample_id': '64e758bcca1096d3483d105d', 'split': 'train'}, vector=None)]\n"
     ]
    }
   ],
   "source": [
    "# Search for the nearest neighbors\n",
    "search_results = search_embeddings(client, np.array(first_emb), collection_name=\"mnist3\", top=5)\n",
    "print(np.array(search_results))"
   ]
  },
  {
   "cell_type": "markdown",
   "metadata": {},
   "source": [
    "## Embeddings Processing"
   ]
  },
  {
   "cell_type": "code",
   "execution_count": 30,
   "metadata": {},
   "outputs": [],
   "source": [
    "from luxonis_ml.embeddings.embeddings_processing import *"
   ]
  },
  {
   "cell_type": "code",
   "execution_count": null,
   "metadata": {},
   "outputs": [],
   "source": []
  }
 ],
 "metadata": {
  "kernelspec": {
   "display_name": "lux-ml",
   "language": "python",
   "name": "python3"
  },
  "language_info": {
   "codemirror_mode": {
    "name": "ipython",
    "version": 3
   },
   "file_extension": ".py",
   "mimetype": "text/x-python",
   "name": "python",
   "nbconvert_exporter": "python",
   "pygments_lexer": "ipython3",
   "version": "3.9.16"
  },
  "orig_nbformat": 4
 },
 "nbformat": 4,
 "nbformat_minor": 2
}
