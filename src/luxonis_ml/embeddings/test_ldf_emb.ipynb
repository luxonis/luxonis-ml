{
 "cells": [
  {
   "cell_type": "markdown",
   "metadata": {},
   "source": [
    "# LuxonisDatasetFormat - testing embeddings methods"
   ]
  },
  {
   "cell_type": "code",
   "execution_count": 1,
   "metadata": {},
   "outputs": [
    {
     "name": "stderr",
     "output_type": "stream",
     "text": [
      "/home/paperspace/Luxonis/lux-ml/lib/python3.9/site-packages/tqdm/auto.py:21: TqdmWarning: IProgress not found. Please update jupyter and ipywidgets. See https://ipywidgets.readthedocs.io/en/stable/user_install.html\n",
      "  from .autonotebook import tqdm as notebook_tqdm\n"
     ]
    }
   ],
   "source": [
    "import os\n",
    "import cv2\n",
    "import numpy as np\n",
    "\n",
    "import torch\n",
    "import torch.onnx\n",
    "import onnx\n",
    "import onnxruntime\n",
    "\n",
    "from qdrant_client import QdrantClient\n",
    "from qdrant_client.models import Distance\n",
    "\n",
    "from luxonis_ml.data.dataset import HType, IType, LDFComponent, LuxonisDataset, BucketStorage\n",
    "\n",
    "from luxonis_ml.embeddings.data_utils import *\n",
    "from luxonis_ml.embeddings.model_utils import *\n",
    "from luxonis_ml.embeddings.embedding_utils import *\n",
    "from luxonis_ml.embeddings.qdrant_utils import *\n",
    "from luxonis_ml.embeddings.ldf_emb import *"
   ]
  },
  {
   "cell_type": "markdown",
   "metadata": {},
   "source": [
    "## Pytorch examples"
   ]
  },
  {
   "cell_type": "code",
   "execution_count": 2,
   "metadata": {},
   "outputs": [],
   "source": [
    "# Load the data\n",
    "data_loader = load_mnist_data(save_path='./mnist', num_samples=640, batch_size=64)"
   ]
  },
  {
   "cell_type": "code",
   "execution_count": 3,
   "metadata": {},
   "outputs": [],
   "source": [
    "\n",
    "# Load the model\n",
    "model = load_model_resnet50_minuslastlayer()"
   ]
  },
  {
   "cell_type": "code",
   "execution_count": 4,
   "metadata": {},
   "outputs": [],
   "source": [
    "\n",
    "# Extract embeddings from the dataset\n",
    "embeddings, labels = extract_embeddings(model, data_loader)"
   ]
  },
  {
   "cell_type": "code",
   "execution_count": 5,
   "metadata": {},
   "outputs": [],
   "source": [
    "\n",
    "save_embeddings(embeddings, labels)"
   ]
  },
  {
   "cell_type": "markdown",
   "metadata": {},
   "source": [
    "## ONNX models and Qdrant"
   ]
  },
  {
   "cell_type": "code",
   "execution_count": 6,
   "metadata": {},
   "outputs": [],
   "source": [
    "# Load the data\n",
    "data_loader = load_mnist_data(save_path='./mnist', num_samples=640, batch_size=64)"
   ]
  },
  {
   "cell_type": "code",
   "execution_count": 7,
   "metadata": {},
   "outputs": [],
   "source": [
    "# Load the model\n",
    "model = load_model()\n",
    "\n",
    "# Export the model to ONNX\n",
    "export_model_onnx(model, model_path_out=\"resnet50.onnx\")\n",
    "\n",
    "# Load the ONNX model\n",
    "onnx_model = load_model_onnx(model_path=\"resnet50.onnx\")\n",
    "\n",
    "# Extend the ONNX model with an intermediate output layer\n",
    "onnx_model = extend_output_onnx(onnx_model, intermediate_tensor_name=\"/Flatten_output_0\")\n",
    "\n",
    "# Save the ONNX model\n",
    "onnx.save(onnx_model, \"resnet50-1.onnx\")"
   ]
  },
  {
   "cell_type": "code",
   "execution_count": 8,
   "metadata": {},
   "outputs": [],
   "source": [
    "# Create an ONNX Runtime session\n",
    "provider = ['CUDAExecutionProvider'] if torch.cuda.is_available() and 'CUDAExecutionProvider' in onnxruntime.get_available_providers() else None\n",
    "ort_session = onnxruntime.InferenceSession(\"resnet50-1.onnx\", providers=provider)\n",
    "\n",
    "# Extract embeddings from the dataset\n",
    "embeddings, labels = extract_embeddings_onnx(ort_session, data_loader)\n",
    "\n",
    "# Save the embeddings and labels to a file\n",
    "save_embeddings(embeddings, labels)"
   ]
  },
  {
   "cell_type": "code",
   "execution_count": 9,
   "metadata": {},
   "outputs": [],
   "source": [
    "embeddings, labels = load_embeddings()"
   ]
  },
  {
   "cell_type": "code",
   "execution_count": 10,
   "metadata": {},
   "outputs": [
    {
     "name": "stdout",
     "output_type": "stream",
     "text": [
      "Inserted 50 new embeddings for batch 0-50\n",
      "Inserted 50 new embeddings for batch 50-100\n",
      "Inserted 50 new embeddings for batch 100-150\n",
      "Inserted 50 new embeddings for batch 150-200\n",
      "Inserted 50 new embeddings for batch 200-250\n",
      "Inserted 50 new embeddings for batch 250-300\n",
      "Inserted 50 new embeddings for batch 300-350\n",
      "Inserted 50 new embeddings for batch 350-400\n",
      "Inserted 50 new embeddings for batch 400-450\n",
      "Inserted 50 new embeddings for batch 450-500\n",
      "Inserted 50 new embeddings for batch 500-550\n",
      "Inserted 50 new embeddings for batch 550-600\n",
      "Inserted 40 new embeddings for batch 600-640\n"
     ]
    }
   ],
   "source": [
    "# Connect to Qdrant\n",
    "client = connect_to_qdrant()\n",
    "\n",
    "# Create a collection\n",
    "vector_size = embeddings.shape[1]\n",
    "create_collection(client, collection_name=\"mnist2\", vector_size=vector_size, distance=Distance.COSINE)\n",
    "\n",
    "# Insert the embeddings into the collection\n",
    "# insert_embeddings(client, embeddings, labels, collection_name=\"mnist2\")\n",
    "# insert_embeddings_nooverwrite(client, embeddings, labels, collection_name=\"mnist2\")\n",
    "batch_insert_embeddings_nooverwrite(client, embeddings, labels, batch_size=50, collection_name=\"mnist2\")"
   ]
  },
  {
   "cell_type": "code",
   "execution_count": 11,
   "metadata": {},
   "outputs": [
    {
     "name": "stdout",
     "output_type": "stream",
     "text": [
      "[ScoredPoint(id=1, version=0, score=1.0, payload={'label': 1}, vector=None)\n",
      " ScoredPoint(id=457, version=9, score=0.98755455, payload={'label': 1}, vector=None)\n",
      " ScoredPoint(id=640, version=12, score=0.98747563, payload={'label': 1}, vector=None)\n",
      " ScoredPoint(id=409, version=8, score=0.98471886, payload={'label': 1}, vector=None)\n",
      " ScoredPoint(id=17, version=0, score=0.98461306, payload={'label': 1}, vector=None)]\n"
     ]
    }
   ],
   "source": [
    "# Search for the nearest neighbors\n",
    "search_results = search_embeddings(client, embeddings[0], collection_name=\"mnist2\", top=5)\n",
    "\n",
    "# Print the search results\n",
    "print(np.array(search_results))"
   ]
  },
  {
   "cell_type": "markdown",
   "metadata": {},
   "source": [
    "## LuxonisDatasetFormat, ONNX and Qdrant"
   ]
  },
  {
   "cell_type": "code",
   "execution_count": 12,
   "metadata": {},
   "outputs": [],
   "source": [
    "def train_test_val_split(NUM_SAMPLES, train=0.8, val=0.1, test=0.1, seed=42):\n",
    "    if train + val + test != 1.0:\n",
    "        raise ValueError(\"TRAIN + VAL + TEST must equal 1.0\")\n",
    "    \n",
    "    np.random.seed(seed)\n",
    "    # generate random indices for train, val, test splits\n",
    "    indices = np.random.permutation(NUM_SAMPLES)\n",
    "    train_indices, val_indices, test_indices = indices[:int(train * NUM_SAMPLES)], indices[int(train * NUM_SAMPLES):int((train + val) * NUM_SAMPLES)], indices[int((train + val) * NUM_SAMPLES):]\n",
    "    train_test_val = np.array([\"train\"]*NUM_SAMPLES)\n",
    "    train_test_val[train_indices] = \"train\"\n",
    "    train_test_val[val_indices] = \"val\"\n",
    "    train_test_val[test_indices] = \"test\"\n",
    "\n",
    "    return train_test_val\n"
   ]
  },
  {
   "cell_type": "code",
   "execution_count": 13,
   "metadata": {},
   "outputs": [],
   "source": [
    "BUCKET_STORAGE = BucketStorage.LOCAL\n",
    "NUM_SAMPLES = 6400 #-1 # minus one is equivalent to all samples\n",
    "BATCH_SIZE = 64\n",
    "TRAIN,VAL,TEST = 0.8,0.1,0.1"
   ]
  },
  {
   "cell_type": "code",
   "execution_count": 14,
   "metadata": {},
   "outputs": [
    {
     "name": "stdout",
     "output_type": "stream",
     "text": [
      "Number of samples: 6400\n"
     ]
    }
   ],
   "source": [
    "\n",
    "# Load the MNIST data\n",
    "data_loader = load_mnist_data(save_path='./mnist', num_samples=NUM_SAMPLES, batch_size=BATCH_SIZE)\n",
    "NUM_SAMPLES = len(data_loader.dataset)\n",
    "print(f\"Number of samples: {NUM_SAMPLES}\")\n"
   ]
  },
  {
   "cell_type": "code",
   "execution_count": 15,
   "metadata": {},
   "outputs": [],
   "source": [
    "\n",
    "# Split the data into train, val, test\n",
    "train_test_val = train_test_val_split(NUM_SAMPLES, train=TRAIN, val=VAL, test=TEST)\n"
   ]
  },
  {
   "cell_type": "code",
   "execution_count": 16,
   "metadata": {},
   "outputs": [],
   "source": [
    "# Create a tmp directory to store the images\n",
    "mnist_image_dir = './mnist_images'\n",
    "if not os.path.exists(mnist_image_dir):\n",
    "    os.makedirs(mnist_image_dir)\n"
   ]
  },
  {
   "cell_type": "code",
   "execution_count": 17,
   "metadata": {},
   "outputs": [],
   "source": [
    "\n",
    "# Convert MNIST data to Luxonis ML format\n",
    "additions = []\n",
    "batch_num = 0\n",
    "for batch in data_loader:\n",
    "    images, labels = batch\n",
    "    for i, (image, label) in enumerate(zip(images, labels)):\n",
    "        img_ix = batch_num*BATCH_SIZE + i\n",
    "        \n",
    "        # Save image to disk\n",
    "        image_path = os.path.join(mnist_image_dir, f\"mnist_{img_ix}.jpg\")\n",
    "        torchvision.utils.save_image(image, image_path)\n",
    "        \n",
    "        # Create dictionary structure for Luxonis ML\n",
    "        additions.append({\n",
    "            'image': {\n",
    "                'filepath': image_path,\n",
    "                'split': train_test_val[img_ix],\n",
    "                'class': str(label.item())\n",
    "            }\n",
    "        })\n",
    "    batch_num += 1\n",
    "\n",
    "# original_additions = deepcopy(additions)\n"
   ]
  },
  {
   "cell_type": "code",
   "execution_count": 18,
   "metadata": {},
   "outputs": [
    {
     "name": "stdout",
     "output_type": "stream",
     "text": [
      "Dataset ID: 64ef297e95832b6397cd6acd\n"
     ]
    }
   ],
   "source": [
    "\n",
    "# 2. Load the MNIST Data into LDF\n",
    "team_id = \"luxonis_id\"\n",
    "team_name = \"luxonis_team\"\n",
    "dataset_name = \"mnist_dataset\"\n",
    "\n",
    "# Create a new dataset in LDF\n",
    "dataset_id = LuxonisDataset.create(\n",
    "    team_id=team_id,\n",
    "    team_name=team_name,\n",
    "    dataset_name=dataset_name\n",
    ")\n",
    "\n",
    "print(f\"Dataset ID: {dataset_id}\")\n"
   ]
  },
  {
   "cell_type": "code",
   "execution_count": 19,
   "metadata": {},
   "outputs": [
    {
     "name": "stderr",
     "output_type": "stream",
     "text": [
      "2023-08-30 11:35:26,291 [INFO] Checking for additions or modifications...\n",
      "  9%|▉         | 570/6400 [00:00<00:03, 1919.95it/s]"
     ]
    },
    {
     "name": "stderr",
     "output_type": "stream",
     "text": [
      "100%|██████████| 6400/6400 [00:03<00:00, 1835.71it/s]\n",
      "2023-08-30 11:35:29,783 [INFO] Extracting dataset media...\n",
      "100%|██████████| 6400/6400 [11:44<00:00,  9.08it/s]\n",
      "2023-08-30 11:47:14,251 [INFO] Executing changes to dataset...\n",
      "100%|██████████| 6401/6401 [00:03<00:00, 1704.81it/s]\n",
      "2023-08-30 11:47:18,045 [INFO] Adding samples to Fiftyone\n"
     ]
    },
    {
     "name": "stdout",
     "output_type": "stream",
     "text": [
      " 100% |███████████████| 6400/6400 [3.1s elapsed, 0s remaining, 2.1K samples/s]      \n"
     ]
    },
    {
     "name": "stderr",
     "output_type": "stream",
     "text": [
      "2023-08-30 11:47:21,177 [INFO]  100% |███████████████| 6400/6400 [3.1s elapsed, 0s remaining, 2.1K samples/s]      \n",
      "2023-08-30 11:47:21,208 [INFO] Creating new version...\n",
      "100%|██████████| 6401/6401 [01:37<00:00, 65.73it/s]\n"
     ]
    }
   ],
   "source": [
    "\n",
    "# Add the MNIST data to the dataset\n",
    "with LuxonisDataset(\n",
    "    team_id=team_id,\n",
    "    dataset_id=dataset_id,\n",
    "    team_name=team_name,\n",
    "    dataset_name=dataset_name,\n",
    "    bucket_storage=BUCKET_STORAGE\n",
    ") as dataset:\n",
    "    dataset.create_source(\n",
    "        'mnist',\n",
    "        custom_components=[\n",
    "            LDFComponent('image', HType.IMAGE, IType.BGR)\n",
    "        ]\n",
    "    )\n",
    "    dataset.set_classes(['0', '1', '2', '3', '4', '5', '6', '7', '8', '9'])\n",
    "    dataset.add(additions)\n",
    "    dataset.create_version(note=\"Adding MNIST data\")\n"
   ]
  },
  {
   "cell_type": "code",
   "execution_count": 20,
   "metadata": {},
   "outputs": [
    {
     "name": "stdout",
     "output_type": "stream",
     "text": [
      "<Sample: {\n",
      "    'id': '64ef2c4695832b6397cdb5d1',\n",
      "    'media_type': 'image',\n",
      "    'filepath': '/luxonis_id01/datasets/64ef297e95832b6397cd6acd/image/6ac73d78-80d5-5178-aa81-02c4cac07294.jpg',\n",
      "    'tags': [],\n",
      "    'metadata': None,\n",
      "    'mnist': <Group: {'id': '64ef297e95832b6397cd6ad0', 'name': 'image'}>,\n",
      "    'version': 1.0,\n",
      "    'latest': True,\n",
      "    'split': 'train',\n",
      "    'class': <Classifications: {\n",
      "        'classifications': [\n",
      "            <Classification: {\n",
      "                'id': '64ef2c4295832b6397cd9cd1',\n",
      "                'tags': [],\n",
      "                'label': '7',\n",
      "                'confidence': None,\n",
      "                'logits': None,\n",
      "            }>,\n",
      "        ],\n",
      "        'logits': None,\n",
      "    }>,\n",
      "    'instance_id': '6ac73d78-80d5-5178-aa81-02c4cac07294',\n",
      "    'tid': '64ef297e95832b6397cd6ad1',\n",
      "}>\n"
     ]
    },
    {
     "data": {
      "image/png": "[encoded data removed]",
      "text/plain": [
       "<Figure size 640x480 with 1 Axes>"
      ]
     },
     "metadata": {},
     "output_type": "display_data"
    }
   ],
   "source": [
    "from matplotlib import pyplot as plt\n",
    "\n",
    "with LuxonisDataset(    \n",
    "    team_id=team_id,\n",
    "    dataset_id=dataset_id\n",
    ") as dataset:\n",
    "    \n",
    "    for sample in dataset.fo_dataset:\n",
    "        # img_path = f\"{str(Path.home())}/.cache/luxonis_ml/data/{sample.filepath}\"\n",
    "        print(sample)\n",
    "        id_sub = dataset.path.split('/')[-1]\n",
    "        img_rel_path = sample.filepath.split(id_sub)[-1]\n",
    "        img_path = dataset.path + img_rel_path\n",
    "\n",
    "        img = cv2.imread(img_path)\n",
    "        plt.imshow(img)\n",
    "        plt.show()\n",
    "        break\n",
    "    "
   ]
  },
  {
   "cell_type": "code",
   "execution_count": 21,
   "metadata": {},
   "outputs": [],
   "source": [
    "\n",
    "# Initialize the ONNX Runtime session for the model\n",
    "provider = ['CUDAExecutionProvider'] if torch.cuda.is_available() and 'CUDAExecutionProvider' in onnxruntime.get_available_providers() else None\n",
    "ort_session = onnxruntime.InferenceSession(\"resnet50-1.onnx\", providers=provider)\n"
   ]
  },
  {
   "cell_type": "code",
   "execution_count": 25,
   "metadata": {},
   "outputs": [
    {
     "name": "stderr",
     "output_type": "stream",
     "text": [
      "2023-08-30 11:52:27,055 [INFO] HTTP Request: GET http://localhost:6333/collections/mnist01 \"HTTP/1.1 404 Not Found\"\n",
      "2023-08-30 11:52:27,058 [INFO] HTTP Request: DELETE http://localhost:6333/collections/mnist01 \"HTTP/1.1 200 OK\"\n",
      "2023-08-30 11:52:27,148 [INFO] HTTP Request: PUT http://localhost:6333/collections/mnist01 \"HTTP/1.1 200 OK\"\n"
     ]
    }
   ],
   "source": [
    "\n",
    "# Start the Qdrant Docker container\n",
    "# start_docker_qdrant()\n",
    "\n",
    "# Initialize the Qdrant client\n",
    "qdrant_client = connect_to_qdrant()\n",
    "create_collection(qdrant_client, collection_name=\"mnist3\", vector_size=2048, distance=Distance.COSINE)\n"
   ]
  },
  {
   "cell_type": "code",
   "execution_count": 26,
   "metadata": {},
   "outputs": [
    {
     "name": "stderr",
     "output_type": "stream",
     "text": [
      "2023-08-30 11:52:38,345 [INFO] HTTP Request: POST http://localhost:6333/collections/mnist01/points \"HTTP/1.1 200 OK\"\n",
      "2023-08-30 11:52:53,629 [INFO] HTTP Request: PUT http://localhost:6333/collections/mnist01/points?wait=true \"HTTP/1.1 200 OK\"\n",
      "2023-08-30 11:52:53,677 [INFO] HTTP Request: PUT http://localhost:6333/collections/mnist01/points?wait=true \"HTTP/1.1 200 OK\"\n",
      "2023-08-30 11:52:53,723 [INFO] HTTP Request: PUT http://localhost:6333/collections/mnist01/points?wait=true \"HTTP/1.1 200 OK\"\n",
      "2023-08-30 11:52:53,765 [INFO] HTTP Request: PUT http://localhost:6333/collections/mnist01/points?wait=true \"HTTP/1.1 200 OK\"\n",
      "2023-08-30 11:52:53,811 [INFO] HTTP Request: PUT http://localhost:6333/collections/mnist01/points?wait=true \"HTTP/1.1 200 OK\"\n"
     ]
    },
    {
     "name": "stdout",
     "output_type": "stream",
     "text": [
      "Upserted batch 1 / 101 of size 64 to Qdrant.\n",
      "Upserted batch 2 / 101 of size 64 to Qdrant.\n",
      "Upserted batch 3 / 101 of size 64 to Qdrant.\n",
      "Upserted batch 4 / 101 of size 64 to Qdrant.\n",
      "Upserted batch 5 / 101 of size 64 to Qdrant.\n"
     ]
    },
    {
     "name": "stderr",
     "output_type": "stream",
     "text": [
      "2023-08-30 11:52:53,941 [INFO] HTTP Request: PUT http://localhost:6333/collections/mnist01/points?wait=true \"HTTP/1.1 200 OK\"\n",
      "2023-08-30 11:52:53,985 [INFO] HTTP Request: PUT http://localhost:6333/collections/mnist01/points?wait=true \"HTTP/1.1 200 OK\"\n",
      "2023-08-30 11:52:54,026 [INFO] HTTP Request: PUT http://localhost:6333/collections/mnist01/points?wait=true \"HTTP/1.1 200 OK\"\n",
      "2023-08-30 11:52:54,064 [INFO] HTTP Request: PUT http://localhost:6333/collections/mnist01/points?wait=true \"HTTP/1.1 200 OK\"\n",
      "2023-08-30 11:52:54,105 [INFO] HTTP Request: PUT http://localhost:6333/collections/mnist01/points?wait=true \"HTTP/1.1 200 OK\"\n",
      "2023-08-30 11:52:54,146 [INFO] HTTP Request: PUT http://localhost:6333/collections/mnist01/points?wait=true \"HTTP/1.1 200 OK\"\n"
     ]
    },
    {
     "name": "stdout",
     "output_type": "stream",
     "text": [
      "Upserted batch 6 / 101 of size 64 to Qdrant.\n",
      "Upserted batch 7 / 101 of size 64 to Qdrant.\n",
      "Upserted batch 8 / 101 of size 64 to Qdrant.\n",
      "Upserted batch 9 / 101 of size 64 to Qdrant.\n",
      "Upserted batch 10 / 101 of size 64 to Qdrant.\n",
      "Upserted batch 11 / 101 of size 64 to Qdrant.\n"
     ]
    },
    {
     "name": "stderr",
     "output_type": "stream",
     "text": [
      "2023-08-30 11:52:54,188 [INFO] HTTP Request: PUT http://localhost:6333/collections/mnist01/points?wait=true \"HTTP/1.1 200 OK\"\n",
      "2023-08-30 11:52:54,227 [INFO] HTTP Request: PUT http://localhost:6333/collections/mnist01/points?wait=true \"HTTP/1.1 200 OK\"\n",
      "2023-08-30 11:52:54,268 [INFO] HTTP Request: PUT http://localhost:6333/collections/mnist01/points?wait=true \"HTTP/1.1 200 OK\"\n",
      "2023-08-30 11:52:54,307 [INFO] HTTP Request: PUT http://localhost:6333/collections/mnist01/points?wait=true \"HTTP/1.1 200 OK\"\n",
      "2023-08-30 11:52:54,348 [INFO] HTTP Request: PUT http://localhost:6333/collections/mnist01/points?wait=true \"HTTP/1.1 200 OK\"\n",
      "2023-08-30 11:52:54,389 [INFO] HTTP Request: PUT http://localhost:6333/collections/mnist01/points?wait=true \"HTTP/1.1 200 OK\"\n"
     ]
    },
    {
     "name": "stdout",
     "output_type": "stream",
     "text": [
      "Upserted batch 12 / 101 of size 64 to Qdrant.\n",
      "Upserted batch 13 / 101 of size 64 to Qdrant.\n",
      "Upserted batch 14 / 101 of size 64 to Qdrant.\n",
      "Upserted batch 15 / 101 of size 64 to Qdrant.\n",
      "Upserted batch 16 / 101 of size 64 to Qdrant.\n",
      "Upserted batch 17 / 101 of size 64 to Qdrant.\n"
     ]
    },
    {
     "name": "stderr",
     "output_type": "stream",
     "text": [
      "2023-08-30 11:52:54,434 [INFO] HTTP Request: PUT http://localhost:6333/collections/mnist01/points?wait=true \"HTTP/1.1 200 OK\"\n",
      "2023-08-30 11:52:54,476 [INFO] HTTP Request: PUT http://localhost:6333/collections/mnist01/points?wait=true \"HTTP/1.1 200 OK\"\n",
      "2023-08-30 11:52:54,512 [INFO] HTTP Request: PUT http://localhost:6333/collections/mnist01/points?wait=true \"HTTP/1.1 200 OK\"\n",
      "2023-08-30 11:52:54,550 [INFO] HTTP Request: PUT http://localhost:6333/collections/mnist01/points?wait=true \"HTTP/1.1 200 OK\"\n",
      "2023-08-30 11:52:54,591 [INFO] HTTP Request: PUT http://localhost:6333/collections/mnist01/points?wait=true \"HTTP/1.1 200 OK\"\n",
      "2023-08-30 11:52:54,632 [INFO] HTTP Request: PUT http://localhost:6333/collections/mnist01/points?wait=true \"HTTP/1.1 200 OK\"\n"
     ]
    },
    {
     "name": "stdout",
     "output_type": "stream",
     "text": [
      "Upserted batch 18 / 101 of size 64 to Qdrant.\n",
      "Upserted batch 19 / 101 of size 64 to Qdrant.\n",
      "Upserted batch 20 / 101 of size 64 to Qdrant.\n",
      "Upserted batch 21 / 101 of size 64 to Qdrant.\n",
      "Upserted batch 22 / 101 of size 64 to Qdrant.\n",
      "Upserted batch 23 / 101 of size 64 to Qdrant.\n"
     ]
    },
    {
     "name": "stderr",
     "output_type": "stream",
     "text": [
      "2023-08-30 11:52:54,672 [INFO] HTTP Request: PUT http://localhost:6333/collections/mnist01/points?wait=true \"HTTP/1.1 200 OK\"\n",
      "2023-08-30 11:52:54,708 [INFO] HTTP Request: PUT http://localhost:6333/collections/mnist01/points?wait=true \"HTTP/1.1 200 OK\"\n",
      "2023-08-30 11:52:54,750 [INFO] HTTP Request: PUT http://localhost:6333/collections/mnist01/points?wait=true \"HTTP/1.1 200 OK\"\n",
      "2023-08-30 11:52:54,790 [INFO] HTTP Request: PUT http://localhost:6333/collections/mnist01/points?wait=true \"HTTP/1.1 200 OK\"\n",
      "2023-08-30 11:52:54,832 [INFO] HTTP Request: PUT http://localhost:6333/collections/mnist01/points?wait=true \"HTTP/1.1 200 OK\"\n",
      "2023-08-30 11:52:54,875 [INFO] HTTP Request: PUT http://localhost:6333/collections/mnist01/points?wait=true \"HTTP/1.1 200 OK\"\n"
     ]
    },
    {
     "name": "stdout",
     "output_type": "stream",
     "text": [
      "Upserted batch 24 / 101 of size 64 to Qdrant.\n",
      "Upserted batch 25 / 101 of size 64 to Qdrant.\n",
      "Upserted batch 26 / 101 of size 64 to Qdrant.\n",
      "Upserted batch 27 / 101 of size 64 to Qdrant.\n",
      "Upserted batch 28 / 101 of size 64 to Qdrant.\n",
      "Upserted batch 29 / 101 of size 64 to Qdrant.\n"
     ]
    },
    {
     "name": "stderr",
     "output_type": "stream",
     "text": [
      "2023-08-30 11:52:54,918 [INFO] HTTP Request: PUT http://localhost:6333/collections/mnist01/points?wait=true \"HTTP/1.1 200 OK\"\n",
      "2023-08-30 11:52:54,965 [INFO] HTTP Request: PUT http://localhost:6333/collections/mnist01/points?wait=true \"HTTP/1.1 200 OK\"\n",
      "2023-08-30 11:52:55,006 [INFO] HTTP Request: PUT http://localhost:6333/collections/mnist01/points?wait=true \"HTTP/1.1 200 OK\"\n",
      "2023-08-30 11:52:55,043 [INFO] HTTP Request: PUT http://localhost:6333/collections/mnist01/points?wait=true \"HTTP/1.1 200 OK\"\n",
      "2023-08-30 11:52:55,081 [INFO] HTTP Request: PUT http://localhost:6333/collections/mnist01/points?wait=true \"HTTP/1.1 200 OK\"\n",
      "2023-08-30 11:52:55,119 [INFO] HTTP Request: PUT http://localhost:6333/collections/mnist01/points?wait=true \"HTTP/1.1 200 OK\"\n"
     ]
    },
    {
     "name": "stdout",
     "output_type": "stream",
     "text": [
      "Upserted batch 30 / 101 of size 64 to Qdrant.\n",
      "Upserted batch 31 / 101 of size 64 to Qdrant.\n",
      "Upserted batch 32 / 101 of size 64 to Qdrant.\n",
      "Upserted batch 33 / 101 of size 64 to Qdrant.\n",
      "Upserted batch 34 / 101 of size 64 to Qdrant.\n",
      "Upserted batch 35 / 101 of size 64 to Qdrant.\n"
     ]
    },
    {
     "name": "stderr",
     "output_type": "stream",
     "text": [
      "2023-08-30 11:52:55,165 [INFO] HTTP Request: PUT http://localhost:6333/collections/mnist01/points?wait=true \"HTTP/1.1 200 OK\"\n",
      "2023-08-30 11:52:55,211 [INFO] HTTP Request: PUT http://localhost:6333/collections/mnist01/points?wait=true \"HTTP/1.1 200 OK\"\n",
      "2023-08-30 11:52:55,254 [INFO] HTTP Request: PUT http://localhost:6333/collections/mnist01/points?wait=true \"HTTP/1.1 200 OK\"\n",
      "2023-08-30 11:52:55,292 [INFO] HTTP Request: PUT http://localhost:6333/collections/mnist01/points?wait=true \"HTTP/1.1 200 OK\"\n",
      "2023-08-30 11:52:55,334 [INFO] HTTP Request: PUT http://localhost:6333/collections/mnist01/points?wait=true \"HTTP/1.1 200 OK\"\n"
     ]
    },
    {
     "name": "stdout",
     "output_type": "stream",
     "text": [
      "Upserted batch 36 / 101 of size 64 to Qdrant.\n",
      "Upserted batch 37 / 101 of size 64 to Qdrant.\n",
      "Upserted batch 38 / 101 of size 64 to Qdrant.\n",
      "Upserted batch 39 / 101 of size 64 to Qdrant.\n",
      "Upserted batch 40 / 101 of size 64 to Qdrant.\n"
     ]
    },
    {
     "name": "stderr",
     "output_type": "stream",
     "text": [
      "2023-08-30 11:52:55,375 [INFO] HTTP Request: PUT http://localhost:6333/collections/mnist01/points?wait=true \"HTTP/1.1 200 OK\"\n",
      "2023-08-30 11:52:55,415 [INFO] HTTP Request: PUT http://localhost:6333/collections/mnist01/points?wait=true \"HTTP/1.1 200 OK\"\n",
      "2023-08-30 11:52:55,457 [INFO] HTTP Request: PUT http://localhost:6333/collections/mnist01/points?wait=true \"HTTP/1.1 200 OK\"\n",
      "2023-08-30 11:52:55,495 [INFO] HTTP Request: PUT http://localhost:6333/collections/mnist01/points?wait=true \"HTTP/1.1 200 OK\"\n",
      "2023-08-30 11:52:55,538 [INFO] HTTP Request: PUT http://localhost:6333/collections/mnist01/points?wait=true \"HTTP/1.1 200 OK\"\n",
      "2023-08-30 11:52:55,579 [INFO] HTTP Request: PUT http://localhost:6333/collections/mnist01/points?wait=true \"HTTP/1.1 200 OK\"\n"
     ]
    },
    {
     "name": "stdout",
     "output_type": "stream",
     "text": [
      "Upserted batch 41 / 101 of size 64 to Qdrant.\n",
      "Upserted batch 42 / 101 of size 64 to Qdrant.\n",
      "Upserted batch 43 / 101 of size 64 to Qdrant.\n",
      "Upserted batch 44 / 101 of size 64 to Qdrant.\n",
      "Upserted batch 45 / 101 of size 64 to Qdrant.\n",
      "Upserted batch 46 / 101 of size 64 to Qdrant.\n"
     ]
    },
    {
     "name": "stderr",
     "output_type": "stream",
     "text": [
      "2023-08-30 11:52:55,618 [INFO] HTTP Request: PUT http://localhost:6333/collections/mnist01/points?wait=true \"HTTP/1.1 200 OK\"\n",
      "2023-08-30 11:52:55,656 [INFO] HTTP Request: PUT http://localhost:6333/collections/mnist01/points?wait=true \"HTTP/1.1 200 OK\"\n",
      "2023-08-30 11:52:55,698 [INFO] HTTP Request: PUT http://localhost:6333/collections/mnist01/points?wait=true \"HTTP/1.1 200 OK\"\n",
      "2023-08-30 11:52:55,737 [INFO] HTTP Request: PUT http://localhost:6333/collections/mnist01/points?wait=true \"HTTP/1.1 200 OK\"\n",
      "2023-08-30 11:52:55,777 [INFO] HTTP Request: PUT http://localhost:6333/collections/mnist01/points?wait=true \"HTTP/1.1 200 OK\"\n",
      "2023-08-30 11:52:55,816 [INFO] HTTP Request: PUT http://localhost:6333/collections/mnist01/points?wait=true \"HTTP/1.1 200 OK\"\n"
     ]
    },
    {
     "name": "stdout",
     "output_type": "stream",
     "text": [
      "Upserted batch 47 / 101 of size 64 to Qdrant.\n",
      "Upserted batch 48 / 101 of size 64 to Qdrant.\n",
      "Upserted batch 49 / 101 of size 64 to Qdrant.\n",
      "Upserted batch 50 / 101 of size 64 to Qdrant.\n",
      "Upserted batch 51 / 101 of size 64 to Qdrant.\n",
      "Upserted batch 52 / 101 of size 64 to Qdrant.\n"
     ]
    },
    {
     "name": "stderr",
     "output_type": "stream",
     "text": [
      "2023-08-30 11:52:55,865 [INFO] HTTP Request: PUT http://localhost:6333/collections/mnist01/points?wait=true \"HTTP/1.1 200 OK\"\n",
      "2023-08-30 11:52:55,913 [INFO] HTTP Request: PUT http://localhost:6333/collections/mnist01/points?wait=true \"HTTP/1.1 200 OK\"\n",
      "2023-08-30 11:52:55,952 [INFO] HTTP Request: PUT http://localhost:6333/collections/mnist01/points?wait=true \"HTTP/1.1 200 OK\"\n",
      "2023-08-30 11:52:55,994 [INFO] HTTP Request: PUT http://localhost:6333/collections/mnist01/points?wait=true \"HTTP/1.1 200 OK\"\n",
      "2023-08-30 11:52:56,034 [INFO] HTTP Request: PUT http://localhost:6333/collections/mnist01/points?wait=true \"HTTP/1.1 200 OK\"\n",
      "2023-08-30 11:52:56,073 [INFO] HTTP Request: PUT http://localhost:6333/collections/mnist01/points?wait=true \"HTTP/1.1 200 OK\"\n"
     ]
    },
    {
     "name": "stdout",
     "output_type": "stream",
     "text": [
      "Upserted batch 53 / 101 of size 64 to Qdrant.\n",
      "Upserted batch 54 / 101 of size 64 to Qdrant.\n",
      "Upserted batch 55 / 101 of size 64 to Qdrant.\n",
      "Upserted batch 56 / 101 of size 64 to Qdrant.\n",
      "Upserted batch 57 / 101 of size 64 to Qdrant.\n",
      "Upserted batch 58 / 101 of size 64 to Qdrant.\n"
     ]
    },
    {
     "name": "stderr",
     "output_type": "stream",
     "text": [
      "2023-08-30 11:52:56,112 [INFO] HTTP Request: PUT http://localhost:6333/collections/mnist01/points?wait=true \"HTTP/1.1 200 OK\"\n",
      "2023-08-30 11:52:56,151 [INFO] HTTP Request: PUT http://localhost:6333/collections/mnist01/points?wait=true \"HTTP/1.1 200 OK\"\n",
      "2023-08-30 11:52:56,192 [INFO] HTTP Request: PUT http://localhost:6333/collections/mnist01/points?wait=true \"HTTP/1.1 200 OK\"\n",
      "2023-08-30 11:52:56,232 [INFO] HTTP Request: PUT http://localhost:6333/collections/mnist01/points?wait=true \"HTTP/1.1 200 OK\"\n",
      "2023-08-30 11:52:56,273 [INFO] HTTP Request: PUT http://localhost:6333/collections/mnist01/points?wait=true \"HTTP/1.1 200 OK\"\n",
      "2023-08-30 11:52:56,315 [INFO] HTTP Request: PUT http://localhost:6333/collections/mnist01/points?wait=true \"HTTP/1.1 200 OK\"\n"
     ]
    },
    {
     "name": "stdout",
     "output_type": "stream",
     "text": [
      "Upserted batch 59 / 101 of size 64 to Qdrant.\n",
      "Upserted batch 60 / 101 of size 64 to Qdrant.\n",
      "Upserted batch 61 / 101 of size 64 to Qdrant.\n",
      "Upserted batch 62 / 101 of size 64 to Qdrant.\n",
      "Upserted batch 63 / 101 of size 64 to Qdrant.\n",
      "Upserted batch 64 / 101 of size 64 to Qdrant.\n"
     ]
    },
    {
     "name": "stderr",
     "output_type": "stream",
     "text": [
      "2023-08-30 11:52:56,360 [INFO] HTTP Request: PUT http://localhost:6333/collections/mnist01/points?wait=true \"HTTP/1.1 200 OK\"\n",
      "2023-08-30 11:52:56,398 [INFO] HTTP Request: PUT http://localhost:6333/collections/mnist01/points?wait=true \"HTTP/1.1 200 OK\"\n",
      "2023-08-30 11:52:56,438 [INFO] HTTP Request: PUT http://localhost:6333/collections/mnist01/points?wait=true \"HTTP/1.1 200 OK\"\n",
      "2023-08-30 11:52:56,481 [INFO] HTTP Request: PUT http://localhost:6333/collections/mnist01/points?wait=true \"HTTP/1.1 200 OK\"\n",
      "2023-08-30 11:52:56,519 [INFO] HTTP Request: PUT http://localhost:6333/collections/mnist01/points?wait=true \"HTTP/1.1 200 OK\"\n",
      "2023-08-30 11:52:56,561 [INFO] HTTP Request: PUT http://localhost:6333/collections/mnist01/points?wait=true \"HTTP/1.1 200 OK\"\n"
     ]
    },
    {
     "name": "stdout",
     "output_type": "stream",
     "text": [
      "Upserted batch 65 / 101 of size 64 to Qdrant.\n",
      "Upserted batch 66 / 101 of size 64 to Qdrant.\n",
      "Upserted batch 67 / 101 of size 64 to Qdrant.\n",
      "Upserted batch 68 / 101 of size 64 to Qdrant.\n",
      "Upserted batch 69 / 101 of size 64 to Qdrant.\n",
      "Upserted batch 70 / 101 of size 64 to Qdrant.\n"
     ]
    },
    {
     "name": "stderr",
     "output_type": "stream",
     "text": [
      "2023-08-30 11:52:56,604 [INFO] HTTP Request: PUT http://localhost:6333/collections/mnist01/points?wait=true \"HTTP/1.1 200 OK\"\n",
      "2023-08-30 11:52:56,644 [INFO] HTTP Request: PUT http://localhost:6333/collections/mnist01/points?wait=true \"HTTP/1.1 200 OK\"\n",
      "2023-08-30 11:52:56,687 [INFO] HTTP Request: PUT http://localhost:6333/collections/mnist01/points?wait=true \"HTTP/1.1 200 OK\"\n",
      "2023-08-30 11:52:56,727 [INFO] HTTP Request: PUT http://localhost:6333/collections/mnist01/points?wait=true \"HTTP/1.1 200 OK\"\n",
      "2023-08-30 11:52:56,769 [INFO] HTTP Request: PUT http://localhost:6333/collections/mnist01/points?wait=true \"HTTP/1.1 200 OK\"\n",
      "2023-08-30 11:52:56,806 [INFO] HTTP Request: PUT http://localhost:6333/collections/mnist01/points?wait=true \"HTTP/1.1 200 OK\"\n"
     ]
    },
    {
     "name": "stdout",
     "output_type": "stream",
     "text": [
      "Upserted batch 71 / 101 of size 64 to Qdrant.\n",
      "Upserted batch 72 / 101 of size 64 to Qdrant.\n",
      "Upserted batch 73 / 101 of size 64 to Qdrant.\n",
      "Upserted batch 74 / 101 of size 64 to Qdrant.\n",
      "Upserted batch 75 / 101 of size 64 to Qdrant.\n",
      "Upserted batch 76 / 101 of size 64 to Qdrant.\n"
     ]
    },
    {
     "name": "stderr",
     "output_type": "stream",
     "text": [
      "2023-08-30 11:52:56,846 [INFO] HTTP Request: PUT http://localhost:6333/collections/mnist01/points?wait=true \"HTTP/1.1 200 OK\"\n",
      "2023-08-30 11:52:56,888 [INFO] HTTP Request: PUT http://localhost:6333/collections/mnist01/points?wait=true \"HTTP/1.1 200 OK\"\n",
      "2023-08-30 11:52:56,931 [INFO] HTTP Request: PUT http://localhost:6333/collections/mnist01/points?wait=true \"HTTP/1.1 200 OK\"\n",
      "2023-08-30 11:52:56,970 [INFO] HTTP Request: PUT http://localhost:6333/collections/mnist01/points?wait=true \"HTTP/1.1 200 OK\"\n",
      "2023-08-30 11:52:57,018 [INFO] HTTP Request: PUT http://localhost:6333/collections/mnist01/points?wait=true \"HTTP/1.1 200 OK\"\n",
      "2023-08-30 11:52:57,057 [INFO] HTTP Request: PUT http://localhost:6333/collections/mnist01/points?wait=true \"HTTP/1.1 200 OK\"\n"
     ]
    },
    {
     "name": "stdout",
     "output_type": "stream",
     "text": [
      "Upserted batch 77 / 101 of size 64 to Qdrant.\n",
      "Upserted batch 78 / 101 of size 64 to Qdrant.\n",
      "Upserted batch 79 / 101 of size 64 to Qdrant.\n",
      "Upserted batch 80 / 101 of size 64 to Qdrant.\n",
      "Upserted batch 81 / 101 of size 64 to Qdrant.\n",
      "Upserted batch 82 / 101 of size 64 to Qdrant.\n"
     ]
    },
    {
     "name": "stderr",
     "output_type": "stream",
     "text": [
      "2023-08-30 11:52:57,094 [INFO] HTTP Request: PUT http://localhost:6333/collections/mnist01/points?wait=true \"HTTP/1.1 200 OK\"\n",
      "2023-08-30 11:52:57,133 [INFO] HTTP Request: PUT http://localhost:6333/collections/mnist01/points?wait=true \"HTTP/1.1 200 OK\"\n",
      "2023-08-30 11:52:57,172 [INFO] HTTP Request: PUT http://localhost:6333/collections/mnist01/points?wait=true \"HTTP/1.1 200 OK\"\n",
      "2023-08-30 11:52:57,219 [INFO] HTTP Request: PUT http://localhost:6333/collections/mnist01/points?wait=true \"HTTP/1.1 200 OK\"\n"
     ]
    },
    {
     "name": "stdout",
     "output_type": "stream",
     "text": [
      "Upserted batch 83 / 101 of size 64 to Qdrant.\n",
      "Upserted batch 84 / 101 of size 64 to Qdrant.\n",
      "Upserted batch 85 / 101 of size 64 to Qdrant.\n",
      "Upserted batch 86 / 101 of size 64 to Qdrant.\n"
     ]
    },
    {
     "name": "stderr",
     "output_type": "stream",
     "text": [
      "2023-08-30 11:52:57,444 [INFO] HTTP Request: PUT http://localhost:6333/collections/mnist01/points?wait=true \"HTTP/1.1 200 OK\"\n",
      "2023-08-30 11:52:57,483 [INFO] HTTP Request: PUT http://localhost:6333/collections/mnist01/points?wait=true \"HTTP/1.1 200 OK\"\n",
      "2023-08-30 11:52:57,531 [INFO] HTTP Request: PUT http://localhost:6333/collections/mnist01/points?wait=true \"HTTP/1.1 200 OK\"\n",
      "2023-08-30 11:52:57,583 [INFO] HTTP Request: PUT http://localhost:6333/collections/mnist01/points?wait=true \"HTTP/1.1 200 OK\"\n",
      "2023-08-30 11:52:57,624 [INFO] HTTP Request: PUT http://localhost:6333/collections/mnist01/points?wait=true \"HTTP/1.1 200 OK\"\n"
     ]
    },
    {
     "name": "stdout",
     "output_type": "stream",
     "text": [
      "Upserted batch 87 / 101 of size 64 to Qdrant.\n",
      "Upserted batch 88 / 101 of size 64 to Qdrant.\n",
      "Upserted batch 89 / 101 of size 64 to Qdrant.\n",
      "Upserted batch 90 / 101 of size 64 to Qdrant.\n",
      "Upserted batch 91 / 101 of size 64 to Qdrant.\n"
     ]
    },
    {
     "name": "stderr",
     "output_type": "stream",
     "text": [
      "2023-08-30 11:52:57,666 [INFO] HTTP Request: PUT http://localhost:6333/collections/mnist01/points?wait=true \"HTTP/1.1 200 OK\"\n",
      "2023-08-30 11:52:57,713 [INFO] HTTP Request: PUT http://localhost:6333/collections/mnist01/points?wait=true \"HTTP/1.1 200 OK\"\n",
      "2023-08-30 11:52:57,755 [INFO] HTTP Request: PUT http://localhost:6333/collections/mnist01/points?wait=true \"HTTP/1.1 200 OK\"\n",
      "2023-08-30 11:52:57,797 [INFO] HTTP Request: PUT http://localhost:6333/collections/mnist01/points?wait=true \"HTTP/1.1 200 OK\"\n",
      "2023-08-30 11:52:57,844 [INFO] HTTP Request: PUT http://localhost:6333/collections/mnist01/points?wait=true \"HTTP/1.1 200 OK\"\n",
      "2023-08-30 11:52:57,883 [INFO] HTTP Request: PUT http://localhost:6333/collections/mnist01/points?wait=true \"HTTP/1.1 200 OK\"\n"
     ]
    },
    {
     "name": "stdout",
     "output_type": "stream",
     "text": [
      "Upserted batch 92 / 101 of size 64 to Qdrant.\n",
      "Upserted batch 93 / 101 of size 64 to Qdrant.\n",
      "Upserted batch 94 / 101 of size 64 to Qdrant.\n",
      "Upserted batch 95 / 101 of size 64 to Qdrant.\n",
      "Upserted batch 96 / 101 of size 64 to Qdrant.\n",
      "Upserted batch 97 / 101 of size 64 to Qdrant.\n"
     ]
    },
    {
     "name": "stderr",
     "output_type": "stream",
     "text": [
      "2023-08-30 11:52:57,922 [INFO] HTTP Request: PUT http://localhost:6333/collections/mnist01/points?wait=true \"HTTP/1.1 200 OK\"\n",
      "2023-08-30 11:52:57,962 [INFO] HTTP Request: PUT http://localhost:6333/collections/mnist01/points?wait=true \"HTTP/1.1 200 OK\"\n",
      "2023-08-30 11:52:58,002 [INFO] HTTP Request: PUT http://localhost:6333/collections/mnist01/points?wait=true \"HTTP/1.1 200 OK\"\n"
     ]
    },
    {
     "name": "stdout",
     "output_type": "stream",
     "text": [
      "Upserted batch 98 / 101 of size 64 to Qdrant.\n",
      "Upserted batch 99 / 101 of size 64 to Qdrant.\n",
      "Upserted batch 100 / 101 of size 64 to Qdrant.\n",
      "Embeddings generation and insertion completed!\n"
     ]
    }
   ],
   "source": [
    "\n",
    "# Load the LuxonisDataset\n",
    "with LuxonisDataset(team_id=team_id, dataset_id=dataset_id) as dataset:\n",
    "    # Call the _generate_embeddings method\n",
    "    emb_dict = generate_embeddings(dataset, ort_session, qdrant_client, \n",
    "                        qdrant_collection_name=\"mnist3\", \n",
    "                        output_layer_name=\"/Flatten_output_0\")\n"
   ]
  },
  {
   "cell_type": "code",
   "execution_count": 27,
   "metadata": {},
   "outputs": [
    {
     "name": "stdout",
     "output_type": "stream",
     "text": [
      "<Sample: {\n",
      "    'id': '64ef2c4695832b6397cdb5d1',\n",
      "    'media_type': 'image',\n",
      "    'filepath': '/luxonis_id01/datasets/64ef297e95832b6397cd6acd/image/6ac73d78-80d5-5178-aa81-02c4cac07294.jpg',\n",
      "    'tags': [],\n",
      "    'metadata': None,\n",
      "    'mnist': <Group: {'id': '64ef297e95832b6397cd6ad0', 'name': 'image'}>,\n",
      "    'version': 1.0,\n",
      "    'latest': True,\n",
      "    'split': 'train',\n",
      "    'class': <Classifications: {\n",
      "        'classifications': [\n",
      "            <Classification: {\n",
      "                'id': '64ef2c4295832b6397cd9cd1',\n",
      "                'tags': [],\n",
      "                'label': '7',\n",
      "                'confidence': None,\n",
      "                'logits': None,\n",
      "            }>,\n",
      "        ],\n",
      "        'logits': None,\n",
      "    }>,\n",
      "    'instance_id': '6ac73d78-80d5-5178-aa81-02c4cac07294',\n",
      "    'tid': '64ef297e95832b6397cd6ad1',\n",
      "}>\n"
     ]
    }
   ],
   "source": [
    "first_emb = None\n",
    "\n",
    "with LuxonisDataset(    \n",
    "    team_id=team_id,\n",
    "    dataset_id=dataset_id\n",
    ") as dataset:\n",
    "    # get a specific sample from dataset\n",
    "    first_sample = list(emb_dict.keys())[0]\n",
    "    first_emb = emb_dict[first_sample]\n",
    "    sample_id = first_sample\n",
    "    \n",
    "    # sample_id = '64e758bdca1096d3483d18f4'\n",
    "    sample = dataset.fo_dataset[sample_id]\n",
    "    print(sample)"
   ]
  },
  {
   "cell_type": "code",
   "execution_count": 28,
   "metadata": {},
   "outputs": [
    {
     "name": "stderr",
     "output_type": "stream",
     "text": [
      "2023-08-30 11:52:58,042 [INFO] HTTP Request: POST http://localhost:6333/collections/mnist01/points/search \"HTTP/1.1 200 OK\"\n"
     ]
    },
    {
     "name": "stdout",
     "output_type": "stream",
     "text": [
      "[ScoredPoint(id='6ac73d78-80d5-5178-aa81-02c4cac07294', version=0, score=1.0, payload={'class': '7', 'image_path': '/home/paperspace/.cache/luxonis_ml/data/luxonis_id01/datasets/64ef297e95832b6397cd6acd/image/6ac73d78-80d5-5178-aa81-02c4cac07294.jpg', 'instance_id': '6ac73d78-80d5-5178-aa81-02c4cac07294', 'sample_id': '64ef2c4695832b6397cdb5d1', 'split': 'train'}, vector=None)\n",
      " ScoredPoint(id='a2046355-dd6a-5c12-97e7-773bc8c156a2', version=23, score=0.95021254, payload={'class': '7', 'image_path': '/home/paperspace/.cache/luxonis_ml/data/luxonis_id01/datasets/64ef297e95832b6397cd6acd/image/a2046355-dd6a-5c12-97e7-773bc8c156a2.jpg', 'instance_id': 'a2046355-dd6a-5c12-97e7-773bc8c156a2', 'sample_id': '64ef2c4695832b6397cdbb98', 'split': 'train'}, vector=None)\n",
      " ScoredPoint(id='d6035bf7-87d5-58d5-a4db-c690a74118ec', version=3, score=0.94817156, payload={'class': '7', 'image_path': '/home/paperspace/.cache/luxonis_ml/data/luxonis_id01/datasets/64ef297e95832b6397cd6acd/image/d6035bf7-87d5-58d5-a4db-c690a74118ec.jpg', 'instance_id': 'd6035bf7-87d5-58d5-a4db-c690a74118ec', 'sample_id': '64ef2c4695832b6397cdb6a2', 'split': 'train'}, vector=None)\n",
      " ScoredPoint(id='b83e9e2f-8bc4-54b1-87a8-db97e8e60fce', version=16, score=0.9454196, payload={'class': '7', 'image_path': '/home/paperspace/.cache/luxonis_ml/data/luxonis_id01/datasets/64ef297e95832b6397cd6acd/image/b83e9e2f-8bc4-54b1-87a8-db97e8e60fce.jpg', 'instance_id': 'b83e9e2f-8bc4-54b1-87a8-db97e8e60fce', 'sample_id': '64ef2c4695832b6397cdb9ef', 'split': 'train'}, vector=None)\n",
      " ScoredPoint(id='74716537-3e99-5891-83a9-f7b8c5984830', version=11, score=0.9447887, payload={'class': '7', 'image_path': '/home/paperspace/.cache/luxonis_ml/data/luxonis_id01/datasets/64ef297e95832b6397cd6acd/image/74716537-3e99-5891-83a9-f7b8c5984830.jpg', 'instance_id': '74716537-3e99-5891-83a9-f7b8c5984830', 'sample_id': '64ef2c4695832b6397cdb8a6', 'split': 'train'}, vector=None)]\n"
     ]
    }
   ],
   "source": [
    "# Search for the nearest neighbors\n",
    "search_results = search_embeddings(client, np.array(first_emb), collection_name=\"mnist3\", top=5)\n",
    "print(np.array(search_results))"
   ]
  },
  {
   "cell_type": "markdown",
   "metadata": {},
   "source": [
    "## Embeddings Processing"
   ]
  },
  {
   "cell_type": "code",
   "execution_count": null,
   "metadata": {},
   "outputs": [],
   "source": [
    "# look at the test_emb_process.ipynb for the rest of the code"
   ]
  },
  {
   "cell_type": "markdown",
   "metadata": {},
   "source": [
    "## Remove everything"
   ]
  },
  {
   "cell_type": "code",
   "execution_count": 31,
   "metadata": {},
   "outputs": [
    {
     "name": "stderr",
     "output_type": "stream",
     "text": [
      "2023-08-30 12:50:10,311 [INFO] HTTP Request: DELETE http://localhost:6333/collections/mnist2 \"HTTP/1.1 200 OK\"\n"
     ]
    },
    {
     "data": {
      "text/plain": [
       "True"
      ]
     },
     "execution_count": 31,
     "metadata": {},
     "output_type": "execute_result"
    }
   ],
   "source": [
    "# ! rm -rf ./mnist_images\n",
    "# ! rm -rf ./mnist\n",
    "# ! rm ./resnet50.onnx\n",
    "# ! rm ./resnet50-1.onnx\n",
    "# ! rm ./embeddings.pth\n",
    "# ! rm ./labels.pth\n",
    "\n",
    "# # # Stop the Qdrant Docker container\n",
    "# # stop_docker_qdrant()\n",
    "\n",
    "# # Delete the Qdrant collection\n",
    "# qdrant_client.delete_collection(collection_name=\"mnist2\")\n",
    "# qdrant_client.delete_collection(collection_name=\"mnist3\")"
   ]
  },
  {
   "cell_type": "code",
   "execution_count": null,
   "metadata": {},
   "outputs": [],
   "source": [
    "# # Delete the Luxonis ML dataset\n",
    "# with LuxonisDataset(\n",
    "#     team_id=team_id,\n",
    "#     dataset_id=dataset_id,\n",
    "# ) as dataset:\n",
    "    \n",
    "#     dataset.delete_dataset()"
   ]
  }
 ],
 "metadata": {
  "kernelspec": {
   "display_name": "lux-ml",
   "language": "python",
   "name": "python3"
  },
  "language_info": {
   "codemirror_mode": {
    "name": "ipython",
    "version": 3
   },
   "file_extension": ".py",
   "mimetype": "text/x-python",
   "name": "python",
   "nbconvert_exporter": "python",
   "pygments_lexer": "ipython3",
   "version": "3.9.16"
  },
  "orig_nbformat": 4
 },
 "nbformat": 4,
 "nbformat_minor": 2
}
