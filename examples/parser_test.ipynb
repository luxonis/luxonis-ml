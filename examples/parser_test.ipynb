{
 "cells": [
  {
   "cell_type": "code",
   "execution_count": 1,
   "metadata": {},
   "outputs": [],
   "source": [
    "from luxonis_ml.data.dataset import LuxonisDataset\n",
    "from luxonis_ml.data.parsers import LuxonisParser"
   ]
  },
  {
   "cell_type": "code",
   "execution_count": 2,
   "metadata": {},
   "outputs": [],
   "source": [
    "# Initialize the LuxonisParser\n",
    "parser = LuxonisParser()"
   ]
  },
  {
   "cell_type": "code",
   "execution_count": 3,
   "metadata": {},
   "outputs": [],
   "source": [
    "# !wget http://images.cocodataset.org/zips/val2017.zip\n",
    "# !wget http://images.cocodataset.org/annotations/annotations_trainval2017.zip\n",
    "\n",
    "# # Unzip the downloaded files\n",
    "# !unzip val2017.zip\n",
    "# !unzip annotations_trainval2017.zip"
   ]
  },
  {
   "cell_type": "code",
   "execution_count": 4,
   "metadata": {},
   "outputs": [],
   "source": [
    "image_dir = \"val2017\"  # Directory containing the images\n",
    "annotation_path = \"annotations/instances_val2017.json\"  # Path to COCO annotations\n",
    "split = \"val\"  # Data split ('train', 'val', or 'test')"
   ]
  },
  {
   "cell_type": "code",
   "execution_count": 5,
   "metadata": {},
   "outputs": [],
   "source": [
    "\n",
    "# Initialize LuxonisDataset \n",
    "# dataset_path = \"path/to/ldf/dataset\"\n",
    "dataset_name = \"coco_parser_test14\"\n",
    "# team_name = \"luxonis_name\"\n",
    "# team_id = \"luxonis_id\"\n",
    "\n",
    "# Using LuxonisDataset.create to create a new dataset or get the ID of an existing one\n",
    "dataset_id = LuxonisDataset.create(dataset_name=dataset_name)#, team_id=team_id, team_name=team_name)\n"
   ]
  },
  {
   "cell_type": "code",
   "execution_count": 6,
   "metadata": {},
   "outputs": [],
   "source": [
    "dataset_info = (dataset_name, \"local\") # team_id, dataset_id, and dataset_type (local or remote)"
   ]
  },
  {
   "cell_type": "code",
   "execution_count": 7,
   "metadata": {},
   "outputs": [
    {
     "name": "stdout",
     "output_type": "stream",
     "text": [
      "setting component\n",
      "setting source\n",
      "started parsing..\n"
     ]
    },
    {
     "name": "stderr",
     "output_type": "stream",
     "text": [
      "100%|██████████| 5000/5000 [01:02<00:00, 79.41it/s]\n",
      "2023-09-27 14:28:53,273 [INFO] Checking for additions or modifications...\n",
      "100%|██████████| 36781/36781 [00:43<00:00, 836.65it/s]\n",
      "2023-09-27 14:29:37,239 [INFO] Extracting dataset media...\n",
      "100%|██████████| 36781/36781 [19:20<00:00, 31.70it/s] \n",
      "2023-09-27 14:48:57,361 [INFO] Executing changes to dataset...\n",
      "100%|██████████| 36782/36782 [00:41<00:00, 876.33it/s]\n",
      "2023-09-27 14:49:39,732 [INFO] Adding samples to Fiftyone\n"
     ]
    },
    {
     "name": "stdout",
     "output_type": "stream",
     "text": [
      " 100% |█████████████| 36781/36781 [3.1m elapsed, 0s remaining, 196.0 samples/s]      \n"
     ]
    },
    {
     "name": "stderr",
     "output_type": "stream",
     "text": [
      "2023-09-27 14:52:44,765 [INFO]  100% |█████████████| 36781/36781 [3.1m elapsed, 0s remaining, 196.0 samples/s]      \n"
     ]
    }
   ],
   "source": [
    "# Parse the dataset\n",
    "parser.from_coco_format(dataset_info, image_dir, annotation_path, split=split)"
   ]
  },
  {
   "cell_type": "code",
   "execution_count": 8,
   "metadata": {},
   "outputs": [
    {
     "name": "stdout",
     "output_type": "stream",
     "text": [
      "<Sample: {\n",
      "    'id': '651441034488dfee5202d837',\n",
      "    'media_type': 'image',\n",
      "    'filepath': '/offline/datasets/65143be54488dfee52000b90/image/6377ebe5-6f85-5181-b7c9-13f88df95956.jpg',\n",
      "    'tags': [],\n",
      "    'metadata': None,\n",
      "    'image': <Group: {'id': '65143c254488dfee52000b93', 'name': 'image'}>,\n",
      "    'version': -1.0,\n",
      "    'latest': False,\n",
      "    'annotated': True,\n",
      "    'tid': '65143c254488dfee52000b94',\n",
      "    'created_at': datetime.datetime(2023, 9, 27, 14, 48, 57, 759000),\n",
      "    'split': 'val',\n",
      "    'class': <Classifications: {\n",
      "        'classifications': [\n",
      "            <Classification: {\n",
      "                'id': '651440d94488dfee52012aee',\n",
      "                'tags': [],\n",
      "                'label': 'bottle',\n",
      "                'confidence': None,\n",
      "                'logits': None,\n",
      "            }>,\n",
      "        ],\n",
      "        'logits': None,\n",
      "    }>,\n",
      "    'segmentation': <Segmentation: {\n",
      "        'id': '651440d94488dfee52012aef',\n",
      "        'tags': [],\n",
      "        'mask': array([[0, 0, 0, ..., 0, 0, 0],\n",
      "               [0, 0, 0, ..., 0, 0, 0],\n",
      "               [0, 0, 0, ..., 0, 0, 0],\n",
      "               ...,\n",
      "               [0, 0, 0, ..., 0, 0, 0],\n",
      "               [0, 0, 0, ..., 0, 0, 0],\n",
      "               [0, 0, 0, ..., 0, 0, 0]], dtype=uint16),\n",
      "        'mask_path': None,\n",
      "    }>,\n",
      "    'boxes': <Detections: {\n",
      "        'detections': [\n",
      "            <Detection: {\n",
      "                'id': '651440d94488dfee52012af0',\n",
      "                'attributes': {},\n",
      "                'tags': [],\n",
      "                'label': 'bottle',\n",
      "                'bounding_box': [\n",
      "                    0.34003125,\n",
      "                    0.5633255269320843,\n",
      "                    0.060921875,\n",
      "                    0.13524590163934427,\n",
      "                ],\n",
      "                'mask': None,\n",
      "                'confidence': None,\n",
      "                'index': None,\n",
      "            }>,\n",
      "        ],\n",
      "    }>,\n",
      "    'instance_id': '6377ebe5-6f85-5181-b7c9-13f88df95956',\n",
      "}>\n"
     ]
    }
   ],
   "source": [
    "with LuxonisDataset(    \n",
    "    dataset_name=dataset_name\n",
    ") as dataset:\n",
    "    \n",
    "    for sample in dataset.fo_dataset:\n",
    "        # img_path = f\"{str(Path.home())}/.cache/luxonis_ml/data/{sample.filepath}\"\n",
    "        print(sample)\n",
    "        break"
   ]
  },
  {
   "cell_type": "code",
   "execution_count": null,
   "metadata": {},
   "outputs": [
    {
     "name": "stderr",
     "output_type": "stream",
     "text": [
      "2023-09-26 08:35:58,296 [WARNING] Dataset persistence on exit failed for reason Dataset 'offline-65119abf1afef4af576acca5' is deleted\n"
     ]
    }
   ],
   "source": [
    "# with LuxonisDataset(dataset_name) as dataset:\n",
    "#     dataset.delete_dataset()"
   ]
  }
 ],
 "metadata": {
  "kernelspec": {
   "display_name": "lux-ml",
   "language": "python",
   "name": "python3"
  },
  "language_info": {
   "codemirror_mode": {
    "name": "ipython",
    "version": 3
   },
   "file_extension": ".py",
   "mimetype": "text/x-python",
   "name": "python",
   "nbconvert_exporter": "python",
   "pygments_lexer": "ipython3",
   "version": "3.9.18"
  },
  "orig_nbformat": 4
 },
 "nbformat": 4,
 "nbformat_minor": 2
}
