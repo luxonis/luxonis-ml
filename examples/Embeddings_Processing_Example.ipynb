{
 "cells": [
  {
   "cell_type": "markdown",
   "metadata": {},
   "source": [
    "# Testing the embedding processsing methods\n",
    "find_similar_qdrant, find_representative, leverage_OOD, find_mismatches"
   ]
  },
  {
   "cell_type": "code",
   "execution_count": null,
   "metadata": {},
   "outputs": [],
   "source": [
    "import cv2\n",
    "import matplotlib.pyplot as plt\n",
    "import numpy as np\n",
    "\n",
    "from luxonis_ml.embeddings.methods.duplicate import find_similar_qdrant\n",
    "from luxonis_ml.embeddings.methods.mistakes import find_mismatches_centroids\n",
    "from luxonis_ml.embeddings.methods.OOD import leverage_OOD\n",
    "from luxonis_ml.embeddings.methods.representative import (\n",
    "    calculate_similarity_matrix,\n",
    "    find_representative_kmedoids,\n",
    ")\n",
    "from luxonis_ml.embeddings.utils.qdrant import Distance, QdrantAPI, QdrantManager"
   ]
  },
  {
   "cell_type": "code",
   "execution_count": null,
   "metadata": {},
   "outputs": [],
   "source": [
    "# Start Qdrant docker container\n",
    "QdrantManager(\"qdrant/qdrant\", \"qdrant_container2\").start_docker_qdrant()\n",
    "\n",
    "# Connect to Qdrant\n",
    "qdrant_api = QdrantAPI(\"localhost\", 6333, \"mnist3\")\n",
    "\n",
    "# Create a collection\n",
    "qdrant_api.create_collection(vector_size=2048, distance=Distance.COSINE)"
   ]
  },
  {
   "cell_type": "markdown",
   "metadata": {},
   "source": [
    "### Find representative images"
   ]
  },
  {
   "cell_type": "code",
   "execution_count": null,
   "metadata": {},
   "outputs": [],
   "source": [
    "ids = qdrant_api.get_all_ids()"
   ]
  },
  {
   "cell_type": "code",
   "execution_count": null,
   "metadata": {},
   "outputs": [],
   "source": [
    "# ids, embs, res = qdrant_api.get_full_similarity_matrix()"
   ]
  },
  {
   "cell_type": "code",
   "execution_count": null,
   "metadata": {},
   "outputs": [],
   "source": [
    "ids, embeddings = qdrant_api.get_all_embeddings()"
   ]
  },
  {
   "cell_type": "code",
   "execution_count": null,
   "metadata": {},
   "outputs": [],
   "source": [
    "similarity_matrix = calculate_similarity_matrix(embeddings)"
   ]
  },
  {
   "cell_type": "code",
   "execution_count": null,
   "metadata": {},
   "outputs": [],
   "source": [
    "desired_size = int(len(embeddings) * 0.05)\n",
    "# desired_size = 10\n",
    "selected_image_indices = find_representative_kmedoids(similarity_matrix, desired_size)\n",
    "# selected_image_indices = find_representative_greedy_qdrant(qdrant_client, desired_size, 0, \"mnist3\")"
   ]
  },
  {
   "cell_type": "code",
   "execution_count": null,
   "metadata": {},
   "outputs": [],
   "source": [
    "ids_sel = np.array(ids)[selected_image_indices].tolist()\n",
    "payloads = qdrant_api.get_payloads_from_ids(ids_sel)"
   ]
  },
  {
   "cell_type": "code",
   "execution_count": null,
   "metadata": {},
   "outputs": [],
   "source": [
    "represent_imgs = [p[\"image_path\"] for p in payloads]\n",
    "len(represent_imgs)"
   ]
  },
  {
   "cell_type": "code",
   "execution_count": null,
   "metadata": {},
   "outputs": [],
   "source": [
    "# set plt size\n",
    "plt.rcParams[\"figure.figsize\"] = [30, 10]\n",
    "\n",
    "for j in range(min(10, len(represent_imgs))):\n",
    "    plt.subplot(1, 10, j + 1)\n",
    "    img = cv2.imread(represent_imgs[j])\n",
    "    plt.imshow(img)\n",
    "\n",
    "plt.show()"
   ]
  },
  {
   "cell_type": "markdown",
   "metadata": {},
   "source": [
    "### Out-of-distribution detection"
   ]
  },
  {
   "cell_type": "code",
   "execution_count": null,
   "metadata": {},
   "outputs": [],
   "source": [
    "idx = leverage_OOD(np.array(embeddings))"
   ]
  },
  {
   "cell_type": "code",
   "execution_count": null,
   "metadata": {},
   "outputs": [],
   "source": [
    "ids_sel = np.array(ids)[idx].tolist()\n",
    "payloads = qdrant_api.get_payloads_from_ids(ids_sel)"
   ]
  },
  {
   "cell_type": "code",
   "execution_count": null,
   "metadata": {},
   "outputs": [],
   "source": [
    "outlier_imgs = [p[\"image_path\"] for p in payloads]"
   ]
  },
  {
   "cell_type": "code",
   "execution_count": null,
   "metadata": {},
   "outputs": [],
   "source": [
    "plt.rcParams[\"figure.figsize\"] = [30, 10]\n",
    "\n",
    "for j in range(min(10, len(outlier_imgs))):\n",
    "    plt.subplot(1, 10, j + 1)\n",
    "    img = cv2.imread(outlier_imgs[j])\n",
    "    plt.imshow(img)\n",
    "\n",
    "plt.show()"
   ]
  },
  {
   "cell_type": "markdown",
   "metadata": {},
   "source": [
    "### Find similar images"
   ]
  },
  {
   "cell_type": "code",
   "execution_count": null,
   "metadata": {},
   "outputs": [],
   "source": [
    "i_sim, path_sim = find_similar_qdrant(\n",
    "    ids[4],\n",
    "    qdrant_api,\n",
    "    dataset=\"\",\n",
    "    k=100,\n",
    "    n=100,\n",
    "    method=\"first\",\n",
    "    k_method=\"kde_peaks\",\n",
    "    kde_bw=\"scott\",\n",
    "    plot=True,\n",
    ")"
   ]
  },
  {
   "cell_type": "code",
   "execution_count": null,
   "metadata": {},
   "outputs": [],
   "source": [
    "plt.rcParams[\"figure.figsize\"] = [30, 10]\n",
    "\n",
    "for j in range(min(10, len(path_sim))):\n",
    "    plt.subplot(1, 10, j + 1)\n",
    "    img = cv2.imread(path_sim[j])\n",
    "    plt.imshow(img)\n",
    "\n",
    "plt.show()"
   ]
  },
  {
   "cell_type": "markdown",
   "metadata": {},
   "source": [
    "### Find mismatches"
   ]
  },
  {
   "cell_type": "code",
   "execution_count": null,
   "metadata": {},
   "outputs": [],
   "source": [
    "ids, embeddings = qdrant_api.get_all_embeddings()\n",
    "payloads = qdrant_api.get_payloads_from_ids(ids)"
   ]
  },
  {
   "cell_type": "code",
   "execution_count": null,
   "metadata": {},
   "outputs": [],
   "source": [
    "X = np.array(embeddings)\n",
    "y = np.array([p[\"class\"] for p in payloads])"
   ]
  },
  {
   "cell_type": "code",
   "execution_count": null,
   "metadata": {},
   "outputs": [],
   "source": [
    "mis_ix, new_y = find_mismatches_centroids(X, y)"
   ]
  },
  {
   "cell_type": "code",
   "execution_count": null,
   "metadata": {},
   "outputs": [],
   "source": [
    "# find img paths for misclassified images\n",
    "mis_img_paths = [payloads[i][\"image_path\"] for i in mis_ix]"
   ]
  },
  {
   "cell_type": "code",
   "execution_count": null,
   "metadata": {},
   "outputs": [],
   "source": [
    "# plot\n",
    "plt.rcParams[\"figure.figsize\"] = [30, 10]\n",
    "\n",
    "for j in range(min(5, len(mis_img_paths))):\n",
    "    plt.subplot(1, 10, j + 1)\n",
    "    img = cv2.imread(mis_img_paths[j])\n",
    "    plt.title(f\"True: {y[mis_ix[j]]}, Pred: {new_y[j]}\")\n",
    "    plt.imshow(img)\n",
    "\n",
    "plt.show()"
   ]
  }
 ],
 "metadata": {
  "kernelspec": {
   "display_name": "Python 3 (ipykernel)",
   "language": "python",
   "name": "python3"
  },
  "language_info": {
   "codemirror_mode": {
    "name": "ipython",
    "version": 3
   },
   "file_extension": ".py",
   "mimetype": "text/x-python",
   "name": "python",
   "nbconvert_exporter": "python",
   "pygments_lexer": "ipython3",
   "version": "3.8.18"
  }
 },
 "nbformat": 4,
 "nbformat_minor": 4
}
