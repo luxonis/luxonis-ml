{
 "cells": [
  {
   "cell_type": "markdown",
   "metadata": {},
   "source": [
    "# LuxonisDatasetFormat - testing embeddings methods"
   ]
  },
  {
   "cell_type": "code",
   "execution_count": 5,
   "metadata": {},
   "outputs": [],
   "source": [
    "import os\n",
    "import uuid\n",
    "\n",
    "import numpy as np\n",
    "import onnx\n",
    "import onnxruntime\n",
    "import torch\n",
    "import torch.onnx\n",
    "import torchvision\n",
    "from matplotlib import pyplot as plt\n",
    "from utils.data_utils import load_mnist_data\n",
    "\n",
    "from luxonis_ml.data import (\n",
    "    LuxonisDataset,\n",
    "    LuxonisLoader,\n",
    ")\n",
    "from luxonis_ml.utils import LuxonisFileSystem\n",
    "from luxonis_ml.embeddings.utils.embedding import (\n",
    "    extract_embeddings,\n",
    "    extract_embeddings_onnx,\n",
    "    extract_embeddings_onnx_LFS,\n",
    "    load_embeddings,\n",
    "    save_embeddings,\n",
    ")\n",
    "from luxonis_ml.embeddings.utils.ldf import generate_embeddings\n",
    "from luxonis_ml.embeddings.utils.model import (\n",
    "    export_model_onnx,\n",
    "    extend_output_onnx,\n",
    "    load_model,\n",
    "    load_model_onnx,\n",
    "    load_model_resnet50_minuslastlayer,\n",
    ")\n",
    "from luxonis_ml.embeddings.utils.qdrant import QdrantAPI, QdrantManager"
   ]
  },
  {
   "cell_type": "markdown",
   "metadata": {},
   "source": [
    "## Pytorch examples"
   ]
  },
  {
   "cell_type": "code",
   "execution_count": 6,
   "metadata": {},
   "outputs": [
    {
     "name": "stdout",
     "output_type": "stream",
     "text": [
      "Downloading http://yann.lecun.com/exdb/mnist/train-images-idx3-ubyte.gz\n",
      "Downloading http://yann.lecun.com/exdb/mnist/train-images-idx3-ubyte.gz to ./data/mnist/MNIST/raw/train-images-idx3-ubyte.gz\n"
     ]
    },
    {
     "name": "stderr",
     "output_type": "stream",
     "text": [
      "100%|██████████| 9912422/9912422 [00:01<00:00, 7442041.89it/s]\n"
     ]
    },
    {
     "name": "stdout",
     "output_type": "stream",
     "text": [
      "Extracting ./data/mnist/MNIST/raw/train-images-idx3-ubyte.gz to ./data/mnist/MNIST/raw\n",
      "\n",
      "Downloading http://yann.lecun.com/exdb/mnist/train-labels-idx1-ubyte.gz\n",
      "Downloading http://yann.lecun.com/exdb/mnist/train-labels-idx1-ubyte.gz to ./data/mnist/MNIST/raw/train-labels-idx1-ubyte.gz\n"
     ]
    },
    {
     "name": "stderr",
     "output_type": "stream",
     "text": [
      "100%|██████████| 28881/28881 [00:00<00:00, 16121332.69it/s]\n"
     ]
    },
    {
     "name": "stdout",
     "output_type": "stream",
     "text": [
      "Extracting ./data/mnist/MNIST/raw/train-labels-idx1-ubyte.gz to ./data/mnist/MNIST/raw\n",
      "\n",
      "Downloading http://yann.lecun.com/exdb/mnist/t10k-images-idx3-ubyte.gz\n",
      "Downloading http://yann.lecun.com/exdb/mnist/t10k-images-idx3-ubyte.gz to ./data/mnist/MNIST/raw/t10k-images-idx3-ubyte.gz\n"
     ]
    },
    {
     "name": "stderr",
     "output_type": "stream",
     "text": [
      "100%|██████████| 1648877/1648877 [00:00<00:00, 6582281.62it/s]\n"
     ]
    },
    {
     "name": "stdout",
     "output_type": "stream",
     "text": [
      "Extracting ./data/mnist/MNIST/raw/t10k-images-idx3-ubyte.gz to ./data/mnist/MNIST/raw\n",
      "\n",
      "Downloading http://yann.lecun.com/exdb/mnist/t10k-labels-idx1-ubyte.gz\n",
      "Downloading http://yann.lecun.com/exdb/mnist/t10k-labels-idx1-ubyte.gz to ./data/mnist/MNIST/raw/t10k-labels-idx1-ubyte.gz\n"
     ]
    },
    {
     "name": "stderr",
     "output_type": "stream",
     "text": [
      "100%|██████████| 4542/4542 [00:00<00:00, 11226003.99it/s]"
     ]
    },
    {
     "name": "stdout",
     "output_type": "stream",
     "text": [
      "Extracting ./data/mnist/MNIST/raw/t10k-labels-idx1-ubyte.gz to ./data/mnist/MNIST/raw\n",
      "\n"
     ]
    },
    {
     "name": "stderr",
     "output_type": "stream",
     "text": [
      "\n"
     ]
    }
   ],
   "source": [
    "# Load the data\n",
    "data_loader = load_mnist_data(save_path=\"./data/mnist\", num_samples=640, batch_size=64)"
   ]
  },
  {
   "cell_type": "code",
   "execution_count": 7,
   "metadata": {},
   "outputs": [],
   "source": [
    "# Load the model\n",
    "model = load_model_resnet50_minuslastlayer()"
   ]
  },
  {
   "cell_type": "code",
   "execution_count": 8,
   "metadata": {},
   "outputs": [],
   "source": [
    "# Extract embeddings from the dataset\n",
    "embeddings, labels = extract_embeddings(model, data_loader)"
   ]
  },
  {
   "cell_type": "code",
   "execution_count": 9,
   "metadata": {},
   "outputs": [],
   "source": [
    "save_embeddings(embeddings, labels, \"./data/\")"
   ]
  },
  {
   "cell_type": "markdown",
   "metadata": {},
   "source": [
    "## ONNX models and Qdrant"
   ]
  },
  {
   "cell_type": "code",
   "execution_count": 10,
   "metadata": {},
   "outputs": [],
   "source": [
    "# Load the data\n",
    "data_loader = load_mnist_data(save_path=\"./data/mnist\", num_samples=640, batch_size=64)"
   ]
  },
  {
   "cell_type": "code",
   "execution_count": 11,
   "metadata": {},
   "outputs": [],
   "source": [
    "# Load the model\n",
    "model = load_model()\n",
    "\n",
    "# Export the model to ONNX\n",
    "export_model_onnx(model, model_path_out=\"./data/resnet50.onnx\")\n",
    "\n",
    "# Load the ONNX model\n",
    "onnx_model = load_model_onnx(model_path=\"./data/resnet50.onnx\")\n",
    "\n",
    "# Extend the ONNX model with an intermediate output layer\n",
    "onnx_model = extend_output_onnx(\n",
    "    onnx_model, intermediate_tensor_name=\"/Flatten_output_0\"\n",
    ")\n",
    "\n",
    "# Save the ONNX model\n",
    "onnx.save(onnx_model, \"./data/resnet50-1.onnx\")"
   ]
  },
  {
   "cell_type": "code",
   "execution_count": 12,
   "metadata": {},
   "outputs": [
    {
     "name": "stderr",
     "output_type": "stream",
     "text": [
      "2024-02-01 10:31:47.210633074 [E:onnxruntime:Default, provider_bridge_ort.cc:1480 TryGetProviderInfo_CUDA] /onnxruntime_src/onnxruntime/core/session/provider_bridge_ort.cc:1193 onnxruntime::Provider& onnxruntime::ProviderLibrary::Get() [ONNXRuntimeError] : 1 : FAIL : Failed to load library libonnxruntime_providers_cuda.so with error: libcublasLt.so.11: cannot open shared object file: No such file or directory\n",
      "\n",
      "2024-02-01 10:31:47.210668259 [W:onnxruntime:Default, onnxruntime_pybind_state.cc:747 CreateExecutionProviderInstance] Failed to create CUDAExecutionProvider. Please reference https://onnxruntime.ai/docs/execution-providers/CUDA-ExecutionProvider.html#requirements to ensure all dependencies are met.\n"
     ]
    }
   ],
   "source": [
    "# Create an ONNX Runtime session\n",
    "provider = (\n",
    "    [\"CUDAExecutionProvider\"]\n",
    "    if torch.cuda.is_available()\n",
    "    and \"CUDAExecutionProvider\" in onnxruntime.get_available_providers()\n",
    "    else None\n",
    ")\n",
    "ort_session = onnxruntime.InferenceSession(\"./data/resnet50-1.onnx\", providers=provider)\n",
    "\n",
    "# Extract embeddings from the dataset\n",
    "embeddings, labels = extract_embeddings_onnx(\n",
    "    ort_session, data_loader, \"/Flatten_output_0\"\n",
    ")\n",
    "\n",
    "# Save the embeddings and labels to a file\n",
    "save_embeddings(embeddings, labels, \"./data/\")"
   ]
  },
  {
   "cell_type": "code",
   "execution_count": 13,
   "metadata": {},
   "outputs": [],
   "source": [
    "embeddings, labels = load_embeddings(\"./data/\")"
   ]
  },
  {
   "cell_type": "code",
   "execution_count": 14,
   "metadata": {},
   "outputs": [
    {
     "name": "stdout",
     "output_type": "stream",
     "text": [
      "Container is already running.\n"
     ]
    }
   ],
   "source": [
    "# Start Qdrant docker container\n",
    "QdrantManager(\"qdrant/qdrant\", \"qdrant_container\").start_docker_qdrant()"
   ]
  },
  {
   "cell_type": "code",
   "execution_count": 15,
   "metadata": {},
   "outputs": [],
   "source": [
    "# Connect to Qdrant\n",
    "qdrant_api = QdrantAPI(\"localhost\", 6333, \"Mnist\")"
   ]
  },
  {
   "cell_type": "code",
   "execution_count": 16,
   "metadata": {},
   "outputs": [
    {
     "name": "stdout",
     "output_type": "stream",
     "text": [
      "Created new collection\n"
     ]
    }
   ],
   "source": [
    "# Create a collection\n",
    "vector_size = embeddings.shape[1]\n",
    "qdrant_api.create_collection(vector_size=vector_size, distance=\"cosine\")"
   ]
  },
  {
   "cell_type": "code",
   "execution_count": 17,
   "metadata": {},
   "outputs": [],
   "source": [
    "# Insert the embeddings into the collection\n",
    "ids = [str(uuid.uuid5(uuid.NAMESPACE_DNS, str(e))) for e in embeddings]\n",
    "qdrant_api.insert_embeddings(ids, embeddings.tolist(), labels.tolist(), batch_size=50)"
   ]
  },
  {
   "cell_type": "code",
   "execution_count": 18,
   "metadata": {},
   "outputs": [
    {
     "name": "stdout",
     "output_type": "stream",
     "text": [
      "ID: ff26d956-f460-5aa5-890e-24b2b0feffce, Score: 1.0000001, Label: 7\n",
      "ID: 44b2f6c1-9c7a-501c-b642-13f3f7641bea, Score: 0.9608064, Label: 7\n",
      "ID: 5e3e4422-5b9b-5391-a96e-a7ab2a0ba97f, Score: 0.9564658, Label: 7\n",
      "ID: eb848059-cd0b-53a8-b1ec-9d9610b89146, Score: 0.9543483, Label: 7\n",
      "ID: 68957035-1d64-5a15-89fe-fb4d41516c24, Score: 0.9535233, Label: 7\n"
     ]
    }
   ],
   "source": [
    "# Search for the nearest neighbors\n",
    "ids, scores = qdrant_api.search_similar_embeddings(embeddings[0], top_k=5)\n",
    "labels = qdrant_api.retrieve_labels_by_ids(ids)\n",
    "\n",
    "for i, (id, score, label) in enumerate(zip(ids, scores, labels)):\n",
    "    print(f\"ID: {id}, Score: {score}, Label: {label}\")"
   ]
  },
  {
   "cell_type": "markdown",
   "metadata": {},
   "source": [
    "## LuxonisDatasetFormat, ONNX and Qdrant"
   ]
  },
  {
   "cell_type": "code",
   "execution_count": 19,
   "metadata": {},
   "outputs": [],
   "source": [
    "NUM_SAMPLES = 6400  # -1 # minus one is equivalent to all samples\n",
    "BATCH_SIZE = 64"
   ]
  },
  {
   "cell_type": "code",
   "execution_count": 20,
   "metadata": {},
   "outputs": [
    {
     "name": "stdout",
     "output_type": "stream",
     "text": [
      "Number of samples: 6400\n"
     ]
    }
   ],
   "source": [
    "# Load the MNIST data\n",
    "data_loader = load_mnist_data(\n",
    "    save_path=\"./data/mnist\", num_samples=NUM_SAMPLES, batch_size=BATCH_SIZE\n",
    ")\n",
    "NUM_SAMPLES = len(data_loader.dataset)\n",
    "print(f\"Number of samples: {NUM_SAMPLES}\")"
   ]
  },
  {
   "cell_type": "code",
   "execution_count": 21,
   "metadata": {},
   "outputs": [],
   "source": [
    "# Create a tmp directory to store the images\n",
    "mnist_image_dir = \"./data/mnist_images\"\n",
    "if not os.path.exists(mnist_image_dir):\n",
    "    os.makedirs(mnist_image_dir)"
   ]
  },
  {
   "cell_type": "code",
   "execution_count": 22,
   "metadata": {},
   "outputs": [],
   "source": [
    "# Convert MNIST data to Luxonis ML format\n",
    "def mnist_LDF_generator():\n",
    "    batch_num = 0\n",
    "    for batch in data_loader:\n",
    "        images, labels = batch\n",
    "        for i, (image, label) in enumerate(zip(images, labels)):\n",
    "            # img_ix = batch_num * BATCH_SIZE + i\n",
    "\n",
    "            # Save image to disk\n",
    "            image_path = os.path.join(mnist_image_dir, f\"{uuid.uuid4()}.jpg\")\n",
    "            # image_path = os.path.join(mnist_image_dir, f\"mnist_{img_ix}.jpg\")\n",
    "            torchvision.utils.save_image(image, image_path)\n",
    "\n",
    "            # Create dictionary structure for Luxonis ML\n",
    "            yield {\n",
    "                \"file\": image_path,\n",
    "                \"class\": str(label.item()),\n",
    "                \"type\": \"classification\",\n",
    "                \"value\": True,\n",
    "            }\n",
    "        batch_num += 1\n"
   ]
  },
  {
   "cell_type": "code",
   "execution_count": 23,
   "metadata": {},
   "outputs": [],
   "source": [
    "# 2. Load the MNIST Data into LDF\n",
    "dataset_name = \"Mnist_LDF\"\n",
    "\n",
    "# Create a new dataset in LDF\n",
    "dataset = LuxonisDataset(dataset_name)"
   ]
  },
  {
   "cell_type": "code",
   "execution_count": 24,
   "metadata": {},
   "outputs": [
    {
     "name": "stderr",
     "output_type": "stream",
     "text": [
      "100%|██████████| 6400/6400 [00:00<00:00, 21336.81it/s]\n"
     ]
    }
   ],
   "source": [
    "# Add the MNIST data to the dataset\n",
    "dataset.set_classes([\"0\", \"1\", \"2\", \"3\", \"4\", \"5\", \"6\", \"7\", \"8\", \"9\"])\n",
    "dataset.add(mnist_LDF_generator)\n",
    "dataset.make_splits()"
   ]
  },
  {
   "cell_type": "code",
   "execution_count": 25,
   "metadata": {},
   "outputs": [
    {
     "data": {
      "image/png": "[encoded data removed]",
      "text/plain": [
       "<Figure size 640x480 with 1 Axes>"
      ]
     },
     "metadata": {},
     "output_type": "display_data"
    }
   ],
   "source": [
    "loader = LuxonisLoader(dataset)\n",
    "for img, _ in loader:\n",
    "    plt.imshow(img)\n",
    "    plt.show()\n",
    "    break"
   ]
  },
  {
   "cell_type": "code",
   "execution_count": 26,
   "metadata": {},
   "outputs": [
    {
     "name": "stderr",
     "output_type": "stream",
     "text": [
      "2024-02-01 10:32:14.319917828 [E:onnxruntime:Default, provider_bridge_ort.cc:1480 TryGetProviderInfo_CUDA] /onnxruntime_src/onnxruntime/core/session/provider_bridge_ort.cc:1193 onnxruntime::Provider& onnxruntime::ProviderLibrary::Get() [ONNXRuntimeError] : 1 : FAIL : Failed to load library libonnxruntime_providers_cuda.so with error: libcublasLt.so.11: cannot open shared object file: No such file or directory\n",
      "\n",
      "2024-02-01 10:32:14.319934298 [W:onnxruntime:Default, onnxruntime_pybind_state.cc:747 CreateExecutionProviderInstance] Failed to create CUDAExecutionProvider. Please reference https://onnxruntime.ai/docs/execution-providers/CUDA-ExecutionProvider.html#requirements to ensure all dependencies are met.\n"
     ]
    }
   ],
   "source": [
    "# Initialize the ONNX Runtime session for the model\n",
    "provider = (\n",
    "    [\"CUDAExecutionProvider\"]\n",
    "    if torch.cuda.is_available()\n",
    "    and \"CUDAExecutionProvider\" in onnxruntime.get_available_providers()\n",
    "    else None\n",
    ")\n",
    "ort_session = onnxruntime.InferenceSession(\"./data/resnet50-1.onnx\", providers=provider)"
   ]
  },
  {
   "cell_type": "code",
   "execution_count": 27,
   "metadata": {},
   "outputs": [
    {
     "name": "stdout",
     "output_type": "stream",
     "text": [
      "Container is already running.\n",
      "Created new collection\n"
     ]
    }
   ],
   "source": [
    "# Start Qdrant docker container\n",
    "QdrantManager(\"qdrant/qdrant\", \"qdrant_container\").start_docker_qdrant()\n",
    "\n",
    "# Connect to Qdrant\n",
    "qdrant_api = QdrantAPI(\"localhost\", 6333, \"Mnist_LFS\")\n",
    "\n",
    "# Create a collection\n",
    "qdrant_api.create_collection(vector_size=2048, distance=\"cosine\")"
   ]
  },
  {
   "cell_type": "code",
   "execution_count": 28,
   "metadata": {},
   "outputs": [
    {
     "name": "stdout",
     "output_type": "stream",
     "text": [
      "Upserted 6400 of embeddings to VectorDB.\n",
      "Embeddings generation and insertion completed!\n"
     ]
    }
   ],
   "source": [
    "# Load the LuxonisDataset\n",
    "emb_dict = generate_embeddings(\n",
    "    dataset, ort_session, qdrant_api, output_layer_name=\"/Flatten_output_0\"\n",
    ")"
   ]
  },
  {
   "cell_type": "code",
   "execution_count": 29,
   "metadata": {},
   "outputs": [
    {
     "data": {
      "text/html": [
       "<div>\n",
       "<style scoped>\n",
       "    .dataframe tbody tr th:only-of-type {\n",
       "        vertical-align: middle;\n",
       "    }\n",
       "\n",
       "    .dataframe tbody tr th {\n",
       "        vertical-align: top;\n",
       "    }\n",
       "\n",
       "    .dataframe thead th {\n",
       "        text-align: right;\n",
       "    }\n",
       "</style>\n",
       "<table border=\"1\" class=\"dataframe\">\n",
       "  <thead>\n",
       "    <tr style=\"text-align: right;\">\n",
       "      <th></th>\n",
       "      <th>file</th>\n",
       "      <th>class</th>\n",
       "      <th>type</th>\n",
       "      <th>value</th>\n",
       "      <th>instance_id</th>\n",
       "      <th>value_type</th>\n",
       "      <th>created_at</th>\n",
       "    </tr>\n",
       "  </thead>\n",
       "  <tbody>\n",
       "    <tr>\n",
       "      <th>0</th>\n",
       "      <td>e73ca79d-4541-413b-9c17-9dbb108d5680.jpg</td>\n",
       "      <td>5</td>\n",
       "      <td>classification</td>\n",
       "      <td>True</td>\n",
       "      <td>eba602ad-e002-58f6-a21c-1c67690c66a0</td>\n",
       "      <td>bool</td>\n",
       "      <td>2024-02-01 09:32:13.668798</td>\n",
       "    </tr>\n",
       "  </tbody>\n",
       "</table>\n",
       "</div>"
      ],
      "text/plain": [
       "                                       file class            type value  \\\n",
       "0  e73ca79d-4541-413b-9c17-9dbb108d5680.jpg     5  classification  True   \n",
       "\n",
       "                            instance_id value_type                 created_at  \n",
       "0  eba602ad-e002-58f6-a21c-1c67690c66a0       bool 2024-02-01 09:32:13.668798  "
      ]
     },
     "execution_count": 29,
     "metadata": {},
     "output_type": "execute_result"
    }
   ],
   "source": [
    "first_emb = None\n",
    "\n",
    "# get a specific sample from dataset\n",
    "first_sample = list(emb_dict.keys())[0]\n",
    "first_emb = emb_dict[first_sample]\n",
    "sample_id = first_sample\n",
    "\n",
    "df = dataset._load_df_offline()\n",
    "sample = df[df[\"file\"] == sample_id+\".jpg\"]\n",
    "sample"
   ]
  },
  {
   "cell_type": "code",
   "execution_count": 30,
   "metadata": {},
   "outputs": [
    {
     "name": "stdout",
     "output_type": "stream",
     "text": [
      "ID: e73ca79d-4541-413b-9c17-9dbb108d5680, Score: 1.0000001, Label: 5\n",
      "ID: a3e2376a-2436-403e-840c-0caed91e484f, Score: 0.9690757, Label: 5\n",
      "ID: f07d8b09-ab03-40cb-8a41-f1161ea96bc4, Score: 0.9633024, Label: 5\n",
      "ID: 1072968f-cc8a-488e-a1af-6f99c0981da9, Score: 0.9627012, Label: 5\n",
      "ID: b1c7fa4f-3e28-4b33-8121-74df09153285, Score: 0.9618381, Label: 5\n"
     ]
    }
   ],
   "source": [
    "# Search for the nearest neighbors\n",
    "ids, scores = qdrant_api.search_similar_embeddings(first_emb, top_k=5)\n",
    "labels = qdrant_api.retrieve_labels_by_ids(ids)\n",
    "\n",
    "for i, (id, score, label) in enumerate(zip(ids, scores, labels)):\n",
    "    print(f\"ID: {id}, Score: {score}, Label: {label}\")"
   ]
  },
  {
   "cell_type": "markdown",
   "metadata": {},
   "source": [
    "## Embeddings Processing"
   ]
  },
  {
   "cell_type": "code",
   "execution_count": 31,
   "metadata": {},
   "outputs": [],
   "source": [
    "# look at the Embeddings_Processing_Example.ipynb for the rest of the code"
   ]
  },
  {
   "cell_type": "markdown",
   "metadata": {},
   "source": [
    "## Remove everything"
   ]
  },
  {
   "cell_type": "code",
   "execution_count": 32,
   "metadata": {},
   "outputs": [],
   "source": [
    "# ! rm -rf ./data/"
   ]
  },
  {
   "cell_type": "code",
   "execution_count": 34,
   "metadata": {},
   "outputs": [],
   "source": [
    "# # # Stop the Qdrant Docker container\n",
    "# # stop_docker_qdrant()\n",
    "\n",
    "# # Delete the Qdrant collection\n",
    "# qdrant_client.delete_collection(collection_name=\"mnist2\")\n",
    "# qdrant_client.delete_collection(collection_name=\"mnist3\")"
   ]
  },
  {
   "cell_type": "code",
   "execution_count": 35,
   "metadata": {},
   "outputs": [],
   "source": [
    "# # Delete the Luxonis ML dataset\n",
    "\n",
    "# dataset.delete_dataset()"
   ]
  }
 ],
 "metadata": {
  "kernelspec": {
   "display_name": "Python 3 (ipykernel)",
   "language": "python",
   "name": "python3"
  },
  "language_info": {
   "codemirror_mode": {
    "name": "ipython",
    "version": 3
   },
   "file_extension": ".py",
   "mimetype": "text/x-python",
   "name": "python",
   "nbconvert_exporter": "python",
   "pygments_lexer": "ipython3",
   "version": "3.10.12"
  }
 },
 "nbformat": 4,
 "nbformat_minor": 4
}
