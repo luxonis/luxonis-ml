{
 "cells": [
  {
   "cell_type": "markdown",
   "metadata": {},
   "source": [
    "# LuxonisDatasetFormat - testing embeddings methods"
   ]
  },
  {
   "cell_type": "code",
   "execution_count": 1,
   "metadata": {},
   "outputs": [
    {
     "name": "stderr",
     "output_type": "stream",
     "text": [
      "/home/paperspace/Luxonis/lux-ml/lib/python3.9/site-packages/tqdm/auto.py:21: TqdmWarning: IProgress not found. Please update jupyter and ipywidgets. See https://ipywidgets.readthedocs.io/en/stable/user_install.html\n",
      "  from .autonotebook import tqdm as notebook_tqdm\n"
     ]
    }
   ],
   "source": [
    "import os\n",
    "\n",
    "import numpy as np\n",
    "import onnx\n",
    "import onnxruntime\n",
    "import torch\n",
    "import torch.onnx\n",
    "import torchvision\n",
    "from matplotlib import pyplot as plt\n",
    "from qdrant_client.models import Distance\n",
    "from utils.data_utils import load_mnist_data\n",
    "\n",
    "# only for local testing\n",
    "import sys\n",
    "# sys.path.append(os.path.join(os.path.dirname(__file__), '..'))\n",
    "sys.path.append('/home/paperspace/Luxonis/luxonis-ml')\n",
    "\n",
    "from luxonis_ml.data import (\n",
    "    LuxonisDataset,\n",
    "    LuxonisLoader,\n",
    ")\n",
    "from luxonis_ml.embeddings.utils.embedding import (\n",
    "    extract_embeddings,\n",
    "    extract_embeddings_onnx,\n",
    "    load_embeddings,\n",
    "    save_embeddings,\n",
    ")\n",
    "from luxonis_ml.embeddings.utils.ldf import generate_embeddings\n",
    "from luxonis_ml.embeddings.utils.model import (\n",
    "    export_model_onnx,\n",
    "    extend_output_onnx,\n",
    "    load_model,\n",
    "    load_model_onnx,\n",
    "    load_model_resnet50_minuslastlayer,\n",
    ")\n",
    "from luxonis_ml.embeddings.utils.qdrant import QdrantAPI, QdrantManager"
   ]
  },
  {
   "cell_type": "markdown",
   "metadata": {},
   "source": [
    "## Pytorch examples"
   ]
  },
  {
   "cell_type": "code",
   "execution_count": 2,
   "metadata": {},
   "outputs": [],
   "source": [
    "# Load the data\n",
    "data_loader = load_mnist_data(save_path=\"./mnist\", num_samples=640, batch_size=64)"
   ]
  },
  {
   "cell_type": "code",
   "execution_count": 3,
   "metadata": {},
   "outputs": [],
   "source": [
    "# Load the model\n",
    "model = load_model_resnet50_minuslastlayer()"
   ]
  },
  {
   "cell_type": "code",
   "execution_count": 4,
   "metadata": {},
   "outputs": [],
   "source": [
    "# Extract embeddings from the dataset\n",
    "embeddings, labels = extract_embeddings(model, data_loader)"
   ]
  },
  {
   "cell_type": "code",
   "execution_count": 5,
   "metadata": {},
   "outputs": [],
   "source": [
    "save_embeddings(embeddings, labels)"
   ]
  },
  {
   "cell_type": "markdown",
   "metadata": {},
   "source": [
    "## ONNX models and Qdrant"
   ]
  },
  {
   "cell_type": "code",
   "execution_count": 6,
   "metadata": {},
   "outputs": [],
   "source": [
    "# Load the data\n",
    "data_loader = load_mnist_data(save_path=\"./mnist\", num_samples=640, batch_size=64)"
   ]
  },
  {
   "cell_type": "code",
   "execution_count": 7,
   "metadata": {},
   "outputs": [],
   "source": [
    "# Load the model\n",
    "model = load_model()\n",
    "\n",
    "# Export the model to ONNX\n",
    "export_model_onnx(model, model_path_out=\"resnet50.onnx\")\n",
    "\n",
    "# Load the ONNX model\n",
    "onnx_model = load_model_onnx(model_path=\"resnet50.onnx\")\n",
    "\n",
    "# Extend the ONNX model with an intermediate output layer\n",
    "onnx_model = extend_output_onnx(\n",
    "    onnx_model, intermediate_tensor_name=\"/Flatten_output_0\"\n",
    ")\n",
    "\n",
    "# Save the ONNX model\n",
    "onnx.save(onnx_model, \"resnet50-1.onnx\")"
   ]
  },
  {
   "cell_type": "code",
   "execution_count": 8,
   "metadata": {},
   "outputs": [
    {
     "name": "stderr",
     "output_type": "stream",
     "text": [
      "2024-01-15 15:15:45.140366441 [W:onnxruntime:Default, onnxruntime_pybind_state.cc:640 CreateExecutionProviderInstance] Failed to create CUDAExecutionProvider. Please reference https://onnxruntime.ai/docs/execution-providers/CUDA-ExecutionProvider.html#requirements to ensure all dependencies are met.\n"
     ]
    }
   ],
   "source": [
    "# Create an ONNX Runtime session\n",
    "provider = (\n",
    "    [\"CUDAExecutionProvider\"]\n",
    "    if torch.cuda.is_available()\n",
    "    and \"CUDAExecutionProvider\" in onnxruntime.get_available_providers()\n",
    "    else None\n",
    ")\n",
    "ort_session = onnxruntime.InferenceSession(\"resnet50-1.onnx\", providers=provider)\n",
    "\n",
    "# Extract embeddings from the dataset\n",
    "embeddings, labels = extract_embeddings_onnx(\n",
    "    ort_session, data_loader, \"/Flatten_output_0\"\n",
    ")\n",
    "\n",
    "# Save the embeddings and labels to a file\n",
    "save_embeddings(embeddings, labels)"
   ]
  },
  {
   "cell_type": "code",
   "execution_count": 9,
   "metadata": {},
   "outputs": [],
   "source": [
    "embeddings, labels = load_embeddings()"
   ]
  },
  {
   "cell_type": "code",
   "execution_count": 10,
   "metadata": {},
   "outputs": [
    {
     "name": "stdout",
     "output_type": "stream",
     "text": [
      "Container is already running.\n"
     ]
    }
   ],
   "source": [
    "# Start Qdrant docker container\n",
    "QdrantManager(\"qdrant/qdrant\", \"qdrant_container2\").start_docker_qdrant()"
   ]
  },
  {
   "cell_type": "code",
   "execution_count": 11,
   "metadata": {},
   "outputs": [],
   "source": [
    "# Connect to Qdrant\n",
    "qdrant_api = QdrantAPI(\"localhost\", 6333, \"mnist2\")"
   ]
  },
  {
   "cell_type": "code",
   "execution_count": null,
   "metadata": {},
   "outputs": [],
   "source": [
    "# Create a collection\n",
    "vector_size = embeddings.shape[1]\n",
    "qdrant_api.create_collection(vector_size=vector_size, distance=Distance.COSINE)\n",
    "\n",
    "# Insert the embeddings into the collection\n",
    "# qdrant_api.insert_embeddings(embeddings, labels)\n",
    "# qdrant_api.insert_embeddings_nooverwrite(embeddings, labels)\n",
    "qdrant_api.batch_insert_embeddings_nooverwrite(embeddings, labels, batch_size=50)"
   ]
  },
  {
   "cell_type": "code",
   "execution_count": 13,
   "metadata": {},
   "outputs": [
    {
     "name": "stdout",
     "output_type": "stream",
     "text": [
      "[ScoredPoint(id=530, version=10, score=1.0, payload={'label': 3}, vector=None)\n",
      " ScoredPoint(id=63, version=1, score=0.97092855, payload={'label': 3}, vector=None)\n",
      " ScoredPoint(id=460, version=9, score=0.96763027, payload={'label': 2}, vector=None)\n",
      " ScoredPoint(id=262, version=5, score=0.96572876, payload={'label': 3}, vector=None)\n",
      " ScoredPoint(id=491, version=9, score=0.96498007, payload={'label': 2}, vector=None)]\n"
     ]
    }
   ],
   "source": [
    "# Search for the nearest neighbors\n",
    "search_results = qdrant_api.search_embeddings(embeddings[0], top=5)\n",
    "\n",
    "# Print the search results\n",
    "print(np.array(search_results))"
   ]
  },
  {
   "cell_type": "markdown",
   "metadata": {},
   "source": [
    "## LuxonisDatasetFormat, ONNX and Qdrant"
   ]
  },
  {
   "cell_type": "code",
   "execution_count": 15,
   "metadata": {},
   "outputs": [],
   "source": [
    "NUM_SAMPLES = 6400  # -1 # minus one is equivalent to all samples\n",
    "BATCH_SIZE = 64"
   ]
  },
  {
   "cell_type": "code",
   "execution_count": 16,
   "metadata": {},
   "outputs": [
    {
     "name": "stdout",
     "output_type": "stream",
     "text": [
      "Number of samples: 6400\n"
     ]
    }
   ],
   "source": [
    "# Load the MNIST data\n",
    "data_loader = load_mnist_data(\n",
    "    save_path=\"./mnist\", num_samples=NUM_SAMPLES, batch_size=BATCH_SIZE\n",
    ")\n",
    "NUM_SAMPLES = len(data_loader.dataset)\n",
    "print(f\"Number of samples: {NUM_SAMPLES}\")"
   ]
  },
  {
   "cell_type": "code",
   "execution_count": 18,
   "metadata": {},
   "outputs": [],
   "source": [
    "# Create a tmp directory to store the images\n",
    "mnist_image_dir = \"./mnist_images\"\n",
    "if not os.path.exists(mnist_image_dir):\n",
    "    os.makedirs(mnist_image_dir)"
   ]
  },
  {
   "cell_type": "code",
   "execution_count": 19,
   "metadata": {},
   "outputs": [],
   "source": [
    "# Convert MNIST data to Luxonis ML format\n",
    "def mnist_LDF_generator():\n",
    "    batch_num = 0\n",
    "    for batch in data_loader:\n",
    "        images, labels = batch\n",
    "        for i, (image, label) in enumerate(zip(images, labels)):\n",
    "            img_ix = batch_num * BATCH_SIZE + i\n",
    "\n",
    "            # Save image to disk\n",
    "            image_path = os.path.join(mnist_image_dir, f\"mnist_{img_ix}.jpg\")\n",
    "            torchvision.utils.save_image(image, image_path)\n",
    "\n",
    "            # Create dictionary structure for Luxonis ML\n",
    "            yield {\n",
    "                \"file\": image_path,\n",
    "                \"class\": str(label.item()),\n",
    "                \"type\": \"classification\",\n",
    "                \"value\": True,\n",
    "            }\n",
    "        batch_num += 1\n"
   ]
  },
  {
   "cell_type": "code",
   "execution_count": 20,
   "metadata": {},
   "outputs": [],
   "source": [
    "# 2. Load the MNIST Data into LDF\n",
    "dataset_name = \"mnist_dataset6\"\n",
    "\n",
    "# Create a new dataset in LDF\n",
    "dataset = LuxonisDataset(dataset_name)"
   ]
  },
  {
   "cell_type": "code",
   "execution_count": 21,
   "metadata": {},
   "outputs": [
    {
     "name": "stderr",
     "output_type": "stream",
     "text": [
      "100%|██████████| 6400/6400 [00:00<00:00, 18820.23it/s]\n"
     ]
    }
   ],
   "source": [
    "# Add the MNIST data to the dataset\n",
    "dataset.set_classes([\"0\", \"1\", \"2\", \"3\", \"4\", \"5\", \"6\", \"7\", \"8\", \"9\"])\n",
    "dataset.add(mnist_LDF_generator)\n",
    "dataset.make_splits()"
   ]
  },
  {
   "cell_type": "code",
   "execution_count": 22,
   "metadata": {},
   "outputs": [
    {
     "data": {
      "image/png": "[encoded data removed]",
      "text/plain": [
       "<Figure size 640x480 with 1 Axes>"
      ]
     },
     "metadata": {},
     "output_type": "display_data"
    }
   ],
   "source": [
    "loader = LuxonisLoader(dataset)\n",
    "for img, _ in loader:\n",
    "    plt.imshow(img)\n",
    "    plt.show()\n",
    "    break"
   ]
  },
  {
   "cell_type": "code",
   "execution_count": 23,
   "metadata": {},
   "outputs": [
    {
     "name": "stderr",
     "output_type": "stream",
     "text": [
      "2024-01-15 15:16:11.463624670 [W:onnxruntime:Default, onnxruntime_pybind_state.cc:640 CreateExecutionProviderInstance] Failed to create CUDAExecutionProvider. Please reference https://onnxruntime.ai/docs/execution-providers/CUDA-ExecutionProvider.html#requirements to ensure all dependencies are met.\n"
     ]
    }
   ],
   "source": [
    "# Initialize the ONNX Runtime session for the model\n",
    "provider = (\n",
    "    [\"CUDAExecutionProvider\"]\n",
    "    if torch.cuda.is_available()\n",
    "    and \"CUDAExecutionProvider\" in onnxruntime.get_available_providers()\n",
    "    else None\n",
    ")\n",
    "ort_session = onnxruntime.InferenceSession(\"resnet50-1.onnx\", providers=provider)"
   ]
  },
  {
   "cell_type": "code",
   "execution_count": 28,
   "metadata": {},
   "outputs": [
    {
     "name": "stdout",
     "output_type": "stream",
     "text": [
      "Container is already running.\n",
      "Created new collection\n"
     ]
    },
    {
     "name": "stderr",
     "output_type": "stream",
     "text": [
      "/home/paperspace/Luxonis/lux-ml/lib/python3.9/site-packages/httpx/_content.py:204: DeprecationWarning: Use 'content=<...>' to upload raw bytes/text content.\n",
      "  warnings.warn(message, DeprecationWarning)\n"
     ]
    }
   ],
   "source": [
    "# Start Qdrant docker container\n",
    "QdrantManager(\"qdrant/qdrant\", \"qdrant_container2\").start_docker_qdrant()\n",
    "\n",
    "# Connect to Qdrant\n",
    "qdrant_api = QdrantAPI(\"localhost\", 6333, \"mnist4\")\n",
    "\n",
    "# Create a collection\n",
    "qdrant_api.create_collection(vector_size=2048, distance=Distance.COSINE)"
   ]
  },
  {
   "cell_type": "code",
   "execution_count": null,
   "metadata": {},
   "outputs": [],
   "source": [
    "# Load the LuxonisDataset\n",
    "emb_dict = generate_embeddings(\n",
    "    dataset, ort_session, qdrant_api, output_layer_name=\"/Flatten_output_0\"\n",
    ")"
   ]
  },
  {
   "cell_type": "code",
   "execution_count": 32,
   "metadata": {},
   "outputs": [
    {
     "name": "stdout",
     "output_type": "stream",
     "text": [
      "          file class            type value  \\\n",
      "0  mnist_0.jpg     3  classification  True   \n",
      "\n",
      "                            instance_id value_type                 created_at  \n",
      "0  5c86ce37-2e4c-5949-acc2-6ceeb37373d5       bool 2024-01-15 15:16:10.849208  \n"
     ]
    }
   ],
   "source": [
    "first_emb = None\n",
    "\n",
    "# get a specific sample from dataset\n",
    "first_sample = list(emb_dict.keys())[0]\n",
    "first_emb = emb_dict[first_sample]\n",
    "sample_id = first_sample\n",
    "\n",
    "# sample_id = '64e758bdca1096d3483d18f4'\n",
    "# sample = dataset.fo_dataset[sample_id]\n",
    "df = dataset._load_df_offline()\n",
    "sample = df[df[\"instance_id\"] == sample_id]\n",
    "print(sample)"
   ]
  },
  {
   "cell_type": "code",
   "execution_count": 33,
   "metadata": {},
   "outputs": [
    {
     "name": "stdout",
     "output_type": "stream",
     "text": [
      "[ScoredPoint(id='5c86ce37-2e4c-5949-acc2-6ceeb37373d5', version=0, score=1.0, payload={'class': '3', 'image_path': '/home/paperspace/Luxonis/luxonis-ml/examples/mnist_images/mnist_0.jpg', 'instance_id': '5c86ce37-2e4c-5949-acc2-6ceeb37373d5'}, vector=None)\n",
      " ScoredPoint(id='722c4d18-d30e-54a8-92df-391952d9b1b9', version=4, score=0.9844011, payload={'class': '3', 'image_path': '/home/paperspace/Luxonis/luxonis-ml/examples/mnist_images/mnist_295.jpg', 'instance_id': '722c4d18-d30e-54a8-92df-391952d9b1b9'}, vector=None)\n",
      " ScoredPoint(id='6e8eb47d-493c-518e-89de-a7c8dacb7b59', version=92, score=0.9841205, payload={'class': '3', 'image_path': '/home/paperspace/Luxonis/luxonis-ml/examples/mnist_images/mnist_5944.jpg', 'instance_id': '6e8eb47d-493c-518e-89de-a7c8dacb7b59'}, vector=None)\n",
      " ScoredPoint(id='f378525c-023e-534a-8209-edd7c776c026', version=24, score=0.982066, payload={'class': '3', 'image_path': '/home/paperspace/Luxonis/luxonis-ml/examples/mnist_images/mnist_1586.jpg', 'instance_id': 'f378525c-023e-534a-8209-edd7c776c026'}, vector=None)\n",
      " ScoredPoint(id='dbac8e94-cb9a-5bf3-9eef-20c02089678a', version=4, score=0.9812865, payload={'class': '3', 'image_path': '/home/paperspace/Luxonis/luxonis-ml/examples/mnist_images/mnist_296.jpg', 'instance_id': 'dbac8e94-cb9a-5bf3-9eef-20c02089678a'}, vector=None)]\n"
     ]
    },
    {
     "name": "stderr",
     "output_type": "stream",
     "text": [
      "/home/paperspace/Luxonis/lux-ml/lib/python3.9/site-packages/httpx/_content.py:204: DeprecationWarning: Use 'content=<...>' to upload raw bytes/text content.\n",
      "  warnings.warn(message, DeprecationWarning)\n"
     ]
    }
   ],
   "source": [
    "# Search for the nearest neighbors\n",
    "search_results = qdrant_api.search_embeddings(np.array(first_emb), top=5)\n",
    "print(np.array(search_results))"
   ]
  },
  {
   "cell_type": "markdown",
   "metadata": {},
   "source": [
    "## Embeddings Processing"
   ]
  },
  {
   "cell_type": "code",
   "execution_count": null,
   "metadata": {},
   "outputs": [],
   "source": [
    "# look at the Embeddings_Processing_Example.ipynb for the rest of the code"
   ]
  },
  {
   "cell_type": "markdown",
   "metadata": {},
   "source": [
    "## Remove everything"
   ]
  },
  {
   "cell_type": "code",
   "execution_count": null,
   "metadata": {},
   "outputs": [],
   "source": [
    "# ! rm -rf ./mnist_images\n",
    "# ! rm -rf ./mnist\n",
    "# ! rm ./resnet50.onnx\n",
    "# ! rm ./resnet50-1.onnx\n",
    "# ! rm ./embeddings.pth\n",
    "# ! rm ./labels.pth\n"
   ]
  },
  {
   "cell_type": "code",
   "execution_count": null,
   "metadata": {},
   "outputs": [],
   "source": [
    "\n",
    "# # # Stop the Qdrant Docker container\n",
    "# # stop_docker_qdrant()\n",
    "\n",
    "# # Delete the Qdrant collection\n",
    "# qdrant_client.delete_collection(collection_name=\"mnist2\")\n",
    "# qdrant_client.delete_collection(collection_name=\"mnist3\")"
   ]
  },
  {
   "cell_type": "code",
   "execution_count": null,
   "metadata": {},
   "outputs": [],
   "source": [
    "# # Delete the Luxonis ML dataset\n",
    "\n",
    "# dataset.delete_dataset()"
   ]
  }
 ],
 "metadata": {
  "kernelspec": {
   "display_name": "Python 3 (ipykernel)",
   "language": "python",
   "name": "python3"
  },
  "language_info": {
   "codemirror_mode": {
    "name": "ipython",
    "version": 3
   },
   "file_extension": ".py",
   "mimetype": "text/x-python",
   "name": "python",
   "nbconvert_exporter": "python",
   "pygments_lexer": "ipython3",
   "version": "3.9.18"
  }
 },
 "nbformat": 4,
 "nbformat_minor": 4
}
