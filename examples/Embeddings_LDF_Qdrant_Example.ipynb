{
 "cells": [
  {
   "cell_type": "markdown",
   "metadata": {},
   "source": [
    "# LuxonisDatasetFormat - testing embeddings methods"
   ]
  },
  {
   "cell_type": "code",
   "execution_count": 1,
   "metadata": {},
   "outputs": [],
   "source": [
    "import os\n",
    "import uuid\n",
    "\n",
    "import onnxruntime\n",
    "import torch\n",
    "import torch.onnx\n",
    "import torchvision\n",
    "from matplotlib import pyplot as plt\n",
    "from utils.data_utils import load_mnist_data\n",
    "from utils.torch_utils import (\n",
    "    export_model_onnx,\n",
    "    extract_embeddings_onnx,\n",
    "    extract_embeddings_torch,\n",
    "    load_embeddings,\n",
    "    load_model_resnet50,\n",
    "    save_embeddings,\n",
    ")\n",
    "\n",
    "from luxonis_ml.data import (\n",
    "    LuxonisDataset,\n",
    "    LuxonisLoader,\n",
    ")\n",
    "from luxonis_ml.embeddings.utils.ldf import generate_embeddings\n",
    "from luxonis_ml.embeddings.utils.model import (\n",
    "    extend_output_onnx,\n",
    "    load_model_onnx,\n",
    "    save_model_onnx,\n",
    ")\n",
    "from luxonis_ml.embeddings.utils.qdrant import QdrantAPI, QdrantManager"
   ]
  },
  {
   "cell_type": "markdown",
   "metadata": {},
   "source": [
    "## Pytorch examples\n",
    "\n",
    "This section shows how to extract embeddings using a ResNet50 model from PyTorch and it provides a simple way to load the data into a PyTorch DataLoader."
   ]
  },
  {
   "cell_type": "code",
   "execution_count": 2,
   "metadata": {},
   "outputs": [],
   "source": [
    "# Load the data\n",
    "data_loader = load_mnist_data(\n",
    "    save_path=\"./data/mnist\", num_samples=640, batch_size=64\n",
    ")"
   ]
  },
  {
   "cell_type": "code",
   "execution_count": 3,
   "metadata": {},
   "outputs": [],
   "source": [
    "# Load the model\n",
    "model = load_model_resnet50(discard_last_layer=True)"
   ]
  },
  {
   "cell_type": "code",
   "execution_count": 4,
   "metadata": {},
   "outputs": [],
   "source": [
    "# Extract embeddings from the dataset\n",
    "embeddings, labels = extract_embeddings_torch(model, data_loader)"
   ]
  },
  {
   "cell_type": "code",
   "execution_count": 5,
   "metadata": {},
   "outputs": [],
   "source": [
    "save_embeddings(embeddings, labels, \"./data/\")"
   ]
  },
  {
   "cell_type": "markdown",
   "metadata": {},
   "source": [
    "## ONNX models and Qdrant\n",
    "\n",
    "This section shows how to convert the PyTorch model to ONNX and how to use the ONNX model to extract embeddings. It also shows how to use the Qdrant library to index the embeddings and to perform a simple search."
   ]
  },
  {
   "cell_type": "code",
   "execution_count": 6,
   "metadata": {},
   "outputs": [],
   "source": [
    "# Load the data\n",
    "data_loader = load_mnist_data(\n",
    "    save_path=\"./data/mnist\", num_samples=640, batch_size=64\n",
    ")"
   ]
  },
  {
   "cell_type": "markdown",
   "metadata": {},
   "source": [
    "Here are the steps to convert the PyTorch model to ONNX and then expose the specified layer as an embedding layer (here specifically the layer named '/Flatten_output_0'). \n",
    "\n",
    "To see the graph and layer names, you can use the Netron tool (https://netron.app/).\n",
    "\n",
    "You can set the overwrite parameter of extend_output_onnx method to True to use the second to last layer as the embedding layer and rename it."
   ]
  },
  {
   "cell_type": "code",
   "execution_count": 7,
   "metadata": {},
   "outputs": [],
   "source": [
    "# Load the model\n",
    "model = load_model_resnet50(discard_last_layer=False)\n",
    "\n",
    "# Export the model to ONNX\n",
    "export_model_onnx(model, model_path_out=\"./data/resnet50.onnx\")\n",
    "\n",
    "# Load the ONNX model\n",
    "onnx_model = load_model_onnx(model_path=\"./data/resnet50.onnx\")\n",
    "\n",
    "# Extend the ONNX model with an intermediate output layer\n",
    "onnx_model = extend_output_onnx(\n",
    "    onnx_model, intermediate_tensor_name=\"/Flatten_output_0\"\n",
    ")\n",
    "\n",
    "# Save the ONNX model\n",
    "save_model_onnx(onnx_model, model_path_out=\"./data/resnet50-1.onnx\")"
   ]
  },
  {
   "cell_type": "code",
   "execution_count": 8,
   "metadata": {},
   "outputs": [],
   "source": [
    "# Create an ONNX Runtime session\n",
    "provider = (\n",
    "    [\"CUDAExecutionProvider\"]\n",
    "    if torch.cuda.is_available()\n",
    "    and \"CUDAExecutionProvider\" in onnxruntime.get_available_providers()\n",
    "    else None\n",
    ")\n",
    "ort_session = onnxruntime.InferenceSession(\n",
    "    \"./data/resnet50-1.onnx\", providers=provider\n",
    ")\n",
    "\n",
    "# Extract embeddings from the dataset\n",
    "embeddings, labels = extract_embeddings_onnx(\n",
    "    ort_session, data_loader, \"/Flatten_output_0\"\n",
    ")\n",
    "\n",
    "# Save the embeddings and labels to a file\n",
    "save_embeddings(embeddings, labels, \"./data/\")"
   ]
  },
  {
   "cell_type": "code",
   "execution_count": 9,
   "metadata": {},
   "outputs": [],
   "source": [
    "embeddings, labels = load_embeddings(\"./data/\")\n",
    "embeddings = embeddings.tolist()\n",
    "labels = labels.tolist()"
   ]
  },
  {
   "cell_type": "code",
   "execution_count": 10,
   "metadata": {},
   "outputs": [
    {
     "name": "stdout",
     "output_type": "stream",
     "text": [
      "Container is already running.\n"
     ]
    }
   ],
   "source": [
    "# Start Qdrant docker container\n",
    "QdrantManager(\"qdrant/qdrant\", \"qdrant_container\").start_docker_qdrant()"
   ]
  },
  {
   "cell_type": "code",
   "execution_count": 11,
   "metadata": {},
   "outputs": [],
   "source": [
    "# Connect to Qdrant\n",
    "qdrant_api = QdrantAPI(\"localhost\", 6333)"
   ]
  },
  {
   "cell_type": "code",
   "execution_count": 13,
   "metadata": {},
   "outputs": [
    {
     "name": "stdout",
     "output_type": "stream",
     "text": [
      "Collection already exists\n"
     ]
    }
   ],
   "source": [
    "# Create a collection\n",
    "vector_size = len(embeddings[0])\n",
    "qdrant_api.create_collection(\n",
    "    collection_name=\"Mnist\", properties=[\"label\"], vector_size=vector_size\n",
    ")"
   ]
  },
  {
   "cell_type": "code",
   "execution_count": 14,
   "metadata": {},
   "outputs": [],
   "source": [
    "# Insert the embeddings into the collection\n",
    "ids = [str(uuid.uuid5(uuid.NAMESPACE_DNS, str(e))) for e in embeddings]\n",
    "label_list_dict = [{\"label\": label_i} for label_i in labels]\n",
    "qdrant_api.insert_embeddings(ids, embeddings, label_list_dict, batch_size=50)"
   ]
  },
  {
   "cell_type": "code",
   "execution_count": 15,
   "metadata": {},
   "outputs": [
    {
     "name": "stdout",
     "output_type": "stream",
     "text": [
      "ID: 0b86b9d1-d362-50af-9e49-c7c7c9202136, Score: 1.0, Label: 9\n",
      "ID: 2af41a63-7d54-515f-a13d-e8917353bf82, Score: 1.0, Label: 9\n",
      "ID: f163d72e-2e79-5ef0-98c9-a7b21be4e147, Score: 0.98906696, Label: 9\n",
      "ID: 51ce317e-0e8d-5d95-af18-5988c76135ae, Score: 0.9890652, Label: 9\n",
      "ID: fb82b61a-7ce7-5756-bc18-fdc74a3de2e3, Score: 0.98885965, Label: 9\n"
     ]
    }
   ],
   "source": [
    "# Search for the nearest neighbors\n",
    "ids, scores = qdrant_api.search_similar_embeddings(embeddings[0], top_k=5)\n",
    "payloads = qdrant_api.retrieve_payloads_by_ids(ids)\n",
    "\n",
    "for id, score, payload in zip(ids, scores, payloads):\n",
    "    print(f\"ID: {id}, Score: {score}, Label: {payload['label']}\")"
   ]
  },
  {
   "cell_type": "markdown",
   "metadata": {},
   "source": [
    "## LuxonisDatasetFormat, ONNX and Qdrant\n",
    "\n",
    "This section shows how to use the LuxonisDatasetFormat to load the data and how to use the ONNX model to extract embeddings. It also shows how to use the Qdrant library to index the embeddings and to perform a simple search."
   ]
  },
  {
   "cell_type": "code",
   "execution_count": 16,
   "metadata": {},
   "outputs": [],
   "source": [
    "NUM_SAMPLES = 6400  # -1 # minus one is equivalent to all samples\n",
    "BATCH_SIZE = 64"
   ]
  },
  {
   "cell_type": "code",
   "execution_count": 17,
   "metadata": {},
   "outputs": [
    {
     "name": "stdout",
     "output_type": "stream",
     "text": [
      "Number of samples: 6400\n"
     ]
    }
   ],
   "source": [
    "# Load the MNIST data\n",
    "data_loader = load_mnist_data(\n",
    "    save_path=\"./data/mnist\", num_samples=NUM_SAMPLES, batch_size=BATCH_SIZE\n",
    ")\n",
    "NUM_SAMPLES = len(data_loader.dataset)\n",
    "print(f\"Number of samples: {NUM_SAMPLES}\")"
   ]
  },
  {
   "cell_type": "code",
   "execution_count": 18,
   "metadata": {},
   "outputs": [],
   "source": [
    "# Create a tmp directory to store the images\n",
    "mnist_image_dir = \"./data/mnist_images\"\n",
    "if not os.path.exists(mnist_image_dir):\n",
    "    os.makedirs(mnist_image_dir)"
   ]
  },
  {
   "cell_type": "code",
   "execution_count": 19,
   "metadata": {},
   "outputs": [],
   "source": [
    "# Convert MNIST data to Luxonis ML format\n",
    "def mnist_LDF_generator():\n",
    "    batch_num = 0\n",
    "    for batch in data_loader:\n",
    "        images, labels = batch\n",
    "        for i, (image, label) in enumerate(zip(images, labels)):\n",
    "            img_ix = batch_num * BATCH_SIZE + i\n",
    "\n",
    "            # Save image to disk\n",
    "            # image_path = os.path.join(mnist_image_dir, f\"{uuid.uuid4()}.jpg\")\n",
    "            image_path = os.path.join(mnist_image_dir, f\"mnist_{img_ix}.jpg\")\n",
    "            torchvision.utils.save_image(image, image_path)\n",
    "\n",
    "            # Create dictionary structure for Luxonis ML\n",
    "            yield {\n",
    "                \"file\": image_path,\n",
    "                \"class\": str(label.item()),\n",
    "                \"type\": \"classification\",\n",
    "                \"value\": True,\n",
    "            }\n",
    "        batch_num += 1"
   ]
  },
  {
   "cell_type": "code",
   "execution_count": 20,
   "metadata": {},
   "outputs": [],
   "source": [
    "# 2. Load the MNIST Data into LDF\n",
    "dataset_name = \"Mnist_LDF\"\n",
    "\n",
    "# Create a new dataset in LDF\n",
    "dataset = LuxonisDataset(dataset_name)"
   ]
  },
  {
   "cell_type": "code",
   "execution_count": 21,
   "metadata": {},
   "outputs": [
    {
     "name": "stderr",
     "output_type": "stream",
     "text": [
      "100%|██████████| 6400/6400 [00:00<00:00, 21490.79it/s]\n"
     ]
    }
   ],
   "source": [
    "# Add the MNIST data to the dataset\n",
    "dataset.set_classes([\"0\", \"1\", \"2\", \"3\", \"4\", \"5\", \"6\", \"7\", \"8\", \"9\"])\n",
    "dataset.add(mnist_LDF_generator)\n",
    "dataset.make_splits()"
   ]
  },
  {
   "cell_type": "code",
   "execution_count": 22,
   "metadata": {},
   "outputs": [
    {
     "data": {
      "image/png": "[encoded data removed]",
      "text/plain": [
       "<Figure size 640x480 with 1 Axes>"
      ]
     },
     "metadata": {},
     "output_type": "display_data"
    }
   ],
   "source": [
    "loader = LuxonisLoader(dataset)\n",
    "for img, _ in loader:\n",
    "    plt.imshow(img)\n",
    "    plt.show()\n",
    "    break"
   ]
  },
  {
   "cell_type": "code",
   "execution_count": 23,
   "metadata": {},
   "outputs": [],
   "source": [
    "# Initialize the ONNX Runtime session for the model\n",
    "provider = (\n",
    "    [\"CUDAExecutionProvider\"]\n",
    "    if torch.cuda.is_available()\n",
    "    and \"CUDAExecutionProvider\" in onnxruntime.get_available_providers()\n",
    "    else None\n",
    ")\n",
    "ort_session = onnxruntime.InferenceSession(\n",
    "    \"./data/resnet50-1.onnx\", providers=provider\n",
    ")"
   ]
  },
  {
   "cell_type": "code",
   "execution_count": 29,
   "metadata": {},
   "outputs": [
    {
     "name": "stdout",
     "output_type": "stream",
     "text": [
      "Container is already running.\n",
      "Created new collection\n"
     ]
    }
   ],
   "source": [
    "# Start Qdrant docker container\n",
    "QdrantManager(\"qdrant/qdrant\", \"qdrant_container\").start_docker_qdrant()\n",
    "\n",
    "# Connect to Qdrant\n",
    "qdrant_api = QdrantAPI(\"localhost\", 6333)\n",
    "\n",
    "# Create a collection\n",
    "qdrant_api.create_collection(\n",
    "    collection_name=\"Mnist_LDF\",\n",
    "    properties=[\"label\", \"image_path\"],\n",
    "    vector_size=2048,\n",
    ")"
   ]
  },
  {
   "cell_type": "code",
   "execution_count": 30,
   "metadata": {},
   "outputs": [
    {
     "name": "stdout",
     "output_type": "stream",
     "text": [
      "Upserted 6400 of embeddings to VectorDB.\n",
      "Embeddings generation and insertion completed!\n"
     ]
    }
   ],
   "source": [
    "# Load the LuxonisDataset\n",
    "emb_dict = generate_embeddings(\n",
    "    dataset, ort_session, qdrant_api, output_layer_name=\"/Flatten_output_0\"\n",
    ")"
   ]
  },
  {
   "cell_type": "code",
   "execution_count": 31,
   "metadata": {},
   "outputs": [
    {
     "data": {
      "text/html": [
       "<div>\n",
       "<style scoped>\n",
       "    .dataframe tbody tr th:only-of-type {\n",
       "        vertical-align: middle;\n",
       "    }\n",
       "\n",
       "    .dataframe tbody tr th {\n",
       "        vertical-align: top;\n",
       "    }\n",
       "\n",
       "    .dataframe thead th {\n",
       "        text-align: right;\n",
       "    }\n",
       "</style>\n",
       "<table border=\"1\" class=\"dataframe\">\n",
       "  <thead>\n",
       "    <tr style=\"text-align: right;\">\n",
       "      <th></th>\n",
       "      <th>file</th>\n",
       "      <th>class</th>\n",
       "      <th>type</th>\n",
       "      <th>value</th>\n",
       "      <th>instance_id</th>\n",
       "      <th>value_type</th>\n",
       "      <th>created_at</th>\n",
       "    </tr>\n",
       "  </thead>\n",
       "  <tbody>\n",
       "    <tr>\n",
       "      <th>0</th>\n",
       "      <td>mnist_0.jpg</td>\n",
       "      <td>0</td>\n",
       "      <td>classification</td>\n",
       "      <td>True</td>\n",
       "      <td>c342a0fe-a996-5bd7-ad26-ba0a4041ce42</td>\n",
       "      <td>bool</td>\n",
       "      <td>2024-02-06 11:39:45.238980</td>\n",
       "    </tr>\n",
       "  </tbody>\n",
       "</table>\n",
       "</div>"
      ],
      "text/plain": [
       "          file class            type value  \\\n",
       "0  mnist_0.jpg     0  classification  True   \n",
       "\n",
       "                            instance_id value_type                 created_at  \n",
       "0  c342a0fe-a996-5bd7-ad26-ba0a4041ce42       bool 2024-02-06 11:39:45.238980  "
      ]
     },
     "execution_count": 31,
     "metadata": {},
     "output_type": "execute_result"
    }
   ],
   "source": [
    "first_emb = None\n",
    "\n",
    "# get a specific sample from dataset\n",
    "first_sample = list(emb_dict.keys())[0]\n",
    "first_emb = emb_dict[first_sample]\n",
    "sample_id = first_sample\n",
    "\n",
    "df = dataset._load_df_offline()\n",
    "sample = df[df[\"instance_id\"] == sample_id]\n",
    "sample"
   ]
  },
  {
   "cell_type": "code",
   "execution_count": 32,
   "metadata": {},
   "outputs": [
    {
     "name": "stdout",
     "output_type": "stream",
     "text": [
      "ID: c342a0fe-a996-5bd7-ad26-ba0a4041ce42, Score: 0.99999994, Label: 0\n",
      "ID: 537d3f8d-c840-5382-aac3-644a9634a033, Score: 0.96481323, Label: 0\n",
      "ID: 01fbfcdb-4c17-52df-855e-ca3ddcd22486, Score: 0.9581372, Label: 0\n",
      "ID: 362278b8-b5c8-5165-a8f3-aa9f38c9d3c9, Score: 0.9561764, Label: 0\n",
      "ID: f06a24bd-9aee-5849-8a95-b8a93b342145, Score: 0.95613754, Label: 0\n"
     ]
    }
   ],
   "source": [
    "# Search for the nearest neighbors\n",
    "ids, scores = qdrant_api.search_similar_embeddings(first_emb, top_k=5)\n",
    "payloads = qdrant_api.retrieve_payloads_by_ids(ids)\n",
    "\n",
    "for id, score, payload in zip(ids, scores, payloads):\n",
    "    print(f\"ID: {id}, Score: {score}, Label: {payload['label']}\")"
   ]
  },
  {
   "cell_type": "markdown",
   "metadata": {},
   "source": [
    "## Embeddings Processing"
   ]
  },
  {
   "cell_type": "code",
   "execution_count": null,
   "metadata": {},
   "outputs": [],
   "source": [
    "# look at the Embeddings_Processing_Example.ipynb for the rest of the code"
   ]
  },
  {
   "cell_type": "markdown",
   "metadata": {},
   "source": [
    "## Remove everything"
   ]
  },
  {
   "cell_type": "code",
   "execution_count": null,
   "metadata": {},
   "outputs": [],
   "source": [
    "# ! rm -rf ./data/"
   ]
  },
  {
   "cell_type": "code",
   "execution_count": null,
   "metadata": {},
   "outputs": [],
   "source": [
    "# # Delete the Luxonis ML dataset\n",
    "# dataset.delete_dataset()"
   ]
  },
  {
   "cell_type": "code",
   "execution_count": null,
   "metadata": {},
   "outputs": [],
   "source": [
    "# # Delete the Qdrant collection\n",
    "# qdrant_api.delete_collection()"
   ]
  },
  {
   "cell_type": "code",
   "execution_count": null,
   "metadata": {},
   "outputs": [],
   "source": [
    "# # Stop the Qdrant docker container\n",
    "# QdrantManager(\"qdrant/qdrant\", \"qdrant_container\").stop_docker_qdrant()"
   ]
  }
 ],
 "metadata": {
  "kernelspec": {
   "display_name": "Python 3 (ipykernel)",
   "language": "python",
   "name": "python3"
  },
  "language_info": {
   "codemirror_mode": {
    "name": "ipython",
    "version": 3
   },
   "file_extension": ".py",
   "mimetype": "text/x-python",
   "name": "python",
   "nbconvert_exporter": "python",
   "pygments_lexer": "ipython3",
   "version": "3.8.18"
  }
 },
 "nbformat": 4,
 "nbformat_minor": 4
}
