{
 "cells": [
  {
   "cell_type": "markdown",
   "metadata": {},
   "source": [
    "# LuxonisDatasetFormat - testing embeddings methods - Weaviate\n",
    "\n",
    "This notebook is a part of the LuxonisDatasetFormat project. It is used to test the embeddings methods.\n",
    "Specifically, it is used to test the embeddings method using the Weaviatea vector database.\n",
    "\n",
    "For local testing, you'll need a local instance of Weaviate running. One easy way to do this is through docker using this command:\n",
    "```bash\n",
    "docker run -d --name weaviate -p 8080:8080 -p 50051:50051 semitechnologies/weaviate:latest\n",
    "```"
   ]
  },
  {
   "cell_type": "code",
   "execution_count": 1,
   "metadata": {},
   "outputs": [],
   "source": [
    "import os\n",
    "import uuid\n",
    "\n",
    "import onnxruntime\n",
    "import torch\n",
    "import torch.onnx\n",
    "import torchvision\n",
    "from matplotlib import pyplot as plt\n",
    "from utils.data_utils import load_mnist_data\n",
    "from utils.torch_utils import (\n",
    "    export_model_onnx,\n",
    "    extract_embeddings_onnx,\n",
    "    extract_embeddings_torch,\n",
    "    load_embeddings,\n",
    "    load_model_resnet50,\n",
    "    save_embeddings,\n",
    ")\n",
    "\n",
    "from luxonis_ml.data import (\n",
    "    LuxonisDataset,\n",
    "    LuxonisLoader,\n",
    ")\n",
    "from luxonis_ml.embeddings.utils.embedding import extract_embeddings\n",
    "from luxonis_ml.embeddings.utils.ldf import generate_embeddings\n",
    "from luxonis_ml.embeddings.utils.model import (\n",
    "    extend_output_onnx,\n",
    "    load_model_onnx,\n",
    "    save_model_onnx,\n",
    ")\n",
    "from luxonis_ml.embeddings.utils.weaviate import WeaviateAPI\n",
    "from luxonis_ml.utils import LuxonisFileSystem"
   ]
  },
  {
   "cell_type": "markdown",
   "metadata": {},
   "source": [
    "## Pytorch examples\n",
    "\n",
    "This section shows how to extract embeddings from a pre-trained model using Pytorch.\n",
    "Specifically, we use the ResNet-50 model and the MNIST dataset, which gets loaded from the torchvision library into a torch DataLoader."
   ]
  },
  {
   "cell_type": "code",
   "execution_count": 2,
   "metadata": {},
   "outputs": [],
   "source": [
    "# Load the data\n",
    "data_loader = load_mnist_data(save_path=\"./data/mnist\", num_samples=640, batch_size=64)"
   ]
  },
  {
   "cell_type": "code",
   "execution_count": 3,
   "metadata": {},
   "outputs": [],
   "source": [
    "# Load the model\n",
    "model = load_model_resnet50(discard_last_layer=True)"
   ]
  },
  {
   "cell_type": "code",
   "execution_count": 4,
   "metadata": {},
   "outputs": [],
   "source": [
    "# Extract embeddings from the dataset\n",
    "embeddings, labels = extract_embeddings_torch(model, data_loader)"
   ]
  },
  {
   "cell_type": "code",
   "execution_count": 5,
   "metadata": {},
   "outputs": [],
   "source": [
    "save_embeddings(embeddings, labels, \"./data/\")"
   ]
  },
  {
   "cell_type": "markdown",
   "metadata": {},
   "source": [
    "## ONNX models and Weaviate\n",
    "\n",
    "This section shows how to convert the Pytorch model to ONNX and how to use the ONNX model to extract embeddings from the MNIST dataset and store them in Weaviate."
   ]
  },
  {
   "cell_type": "code",
   "execution_count": 6,
   "metadata": {},
   "outputs": [],
   "source": [
    "# Load the data\n",
    "data_loader = load_mnist_data(save_path=\"./data/mnist\", num_samples=640, batch_size=64)"
   ]
  },
  {
   "cell_type": "markdown",
   "metadata": {},
   "source": [
    "Here we load the ResNet-50 model, convert it to ONNX, and expose the specific layer that we want to use for embeddings (here named \"/Flatten_output_0\"). \n",
    "\n",
    "To see the graph and the names of the layers, we use the Netron tool (https://netron.app/).\n",
    "\n",
    "You can set overwrite parameter in the extend_output_onnx function to True to expose the second-to-last layer of the model as the output layer and rename it."
   ]
  },
  {
   "cell_type": "code",
   "execution_count": 7,
   "metadata": {},
   "outputs": [],
   "source": [
    "# Load the model\n",
    "model = load_model_resnet50(discard_last_layer=False)\n",
    "\n",
    "# Export the model to ONNX\n",
    "export_model_onnx(model, model_path_out=\"./data/resnet50.onnx\")\n",
    "\n",
    "# Load the ONNX model\n",
    "onnx_model = load_model_onnx(model_path=\"./data/resnet50.onnx\")\n",
    "\n",
    "# Extend the ONNX model with an intermediate output layer\n",
    "onnx_model = extend_output_onnx(\n",
    "    onnx_model, intermediate_tensor_name=\"/Flatten_output_0\"\n",
    ")\n",
    "\n",
    "# Save the ONNX model\n",
    "save_model_onnx(onnx_model, \"./data/resnet50-1.onnx\")"
   ]
  },
  {
   "cell_type": "code",
   "execution_count": 8,
   "metadata": {},
   "outputs": [],
   "source": [
    "# Create an ONNX Runtime session\n",
    "provider = (\n",
    "    [\"CUDAExecutionProvider\"]\n",
    "    if torch.cuda.is_available()\n",
    "    and \"CUDAExecutionProvider\" in onnxruntime.get_available_providers()\n",
    "    else None\n",
    ")\n",
    "ort_session = onnxruntime.InferenceSession(\"./data/resnet50-1.onnx\", providers=provider)\n",
    "\n",
    "# Extract embeddings from the dataset\n",
    "embeddings, labels = extract_embeddings_onnx(\n",
    "    ort_session, data_loader, \"/Flatten_output_0\"\n",
    ")\n",
    "\n",
    "# Save the embeddings and labels to a file\n",
    "save_embeddings(embeddings, labels, \"./data/\")"
   ]
  },
  {
   "cell_type": "code",
   "execution_count": 9,
   "metadata": {},
   "outputs": [],
   "source": [
    "embeddings, labels = load_embeddings(\"./data/\")\n",
    "# must be list\n",
    "embeddings = embeddings.tolist()\n",
    "labels = labels.tolist()\n",
    "labels = [str(label) for label in labels]"
   ]
  },
  {
   "cell_type": "code",
   "execution_count": 10,
   "metadata": {},
   "outputs": [],
   "source": [
    "# Connect to Weaviate\n",
    "weaviate_api = WeaviateAPI(\"http://localhost:8080\")\n",
    "# weaviate_api = WeaviateAPI(url=\"http://localhost:8080\", auth_key=\"YOUR_AUTH_KEY\")"
   ]
  },
  {
   "cell_type": "code",
   "execution_count": 11,
   "metadata": {},
   "outputs": [
    {
     "name": "stdout",
     "output_type": "stream",
     "text": [
      "Collection Mnist created.\n"
     ]
    }
   ],
   "source": [
    "# Create a collection\n",
    "weaviate_api.create_collection(collection_name=\"Mnist\", properties=[\"label\"])"
   ]
  },
  {
   "cell_type": "code",
   "execution_count": 12,
   "metadata": {},
   "outputs": [],
   "source": [
    "# Insert the embeddings into the collection\n",
    "uuids = [str(uuid.uuid5(uuid.NAMESPACE_DNS, str(e))) for e in embeddings]\n",
    "label_list_dict = [{\"label\": label} for label in labels]\n",
    "weaviate_api.insert_embeddings(uuids, embeddings, label_list_dict, batch_size=50)"
   ]
  },
  {
   "cell_type": "code",
   "execution_count": 13,
   "metadata": {},
   "outputs": [
    {
     "name": "stdout",
     "output_type": "stream",
     "text": [
      "cd7ee126-c359-5ec5-b438-c1082897a359 9\n",
      "102a8625-7d53-5068-9ae0-c7f1070da957 9\n",
      "ae5c7566-c202-52f5-8d29-6131130aa806 9\n",
      "0e198b72-c011-588d-86f2-15c661c07997 9\n",
      "5a66188f-d611-559c-958f-0007b17ad7a6 9\n"
     ]
    }
   ],
   "source": [
    "# Search for the nearest neighbors\n",
    "search_uuids, scores = weaviate_api.search_similar_embeddings(embeddings[0], top_k=5)\n",
    "payloads = weaviate_api.retrieve_payloads_by_ids(search_uuids, properties=[\"label\"])\n",
    "\n",
    "# Print the search results\n",
    "for u, p in zip(search_uuids, payloads):\n",
    "    print(u, p[\"label\"])"
   ]
  },
  {
   "cell_type": "markdown",
   "metadata": {},
   "source": [
    "## LuxonisDatasetFormat, ONNX and Weaviate\n",
    "\n",
    "This section shows how to use the LuxonisDatasetFormat to load the MNIST dataset, extract the embeddings using the ONNX model, and store the embeddings in Weaviate."
   ]
  },
  {
   "cell_type": "code",
   "execution_count": 15,
   "metadata": {},
   "outputs": [],
   "source": [
    "NUM_SAMPLES = 6400  # -1 # minus one is equivalent to all samples\n",
    "BATCH_SIZE = 64"
   ]
  },
  {
   "cell_type": "code",
   "execution_count": 16,
   "metadata": {},
   "outputs": [
    {
     "name": "stdout",
     "output_type": "stream",
     "text": [
      "Number of samples: 6400\n"
     ]
    }
   ],
   "source": [
    "# Load the MNIST data\n",
    "data_loader = load_mnist_data(\n",
    "    save_path=\"./data/mnist\", num_samples=NUM_SAMPLES, batch_size=BATCH_SIZE\n",
    ")\n",
    "NUM_SAMPLES = len(data_loader.dataset)\n",
    "print(f\"Number of samples: {NUM_SAMPLES}\")"
   ]
  },
  {
   "cell_type": "code",
   "execution_count": 17,
   "metadata": {},
   "outputs": [],
   "source": [
    "# Create a tmp directory to store the images\n",
    "mnist_image_dir = \"./data/mnist_images_w\"\n",
    "if not os.path.exists(mnist_image_dir):\n",
    "    os.makedirs(mnist_image_dir)"
   ]
  },
  {
   "cell_type": "code",
   "execution_count": 18,
   "metadata": {},
   "outputs": [],
   "source": [
    "# Convert MNIST data to Luxonis ML format\n",
    "def mnist_LDF_generator():\n",
    "    batch_num = 0\n",
    "    for batch in data_loader:\n",
    "        images, labels = batch\n",
    "        for i, (image, label) in enumerate(zip(images, labels)):\n",
    "            img_ix = batch_num * BATCH_SIZE + i\n",
    "\n",
    "            # Save image to disk\n",
    "            # image_path = os.path.join(mnist_image_dir, f\"{uuid.uuid4()}.jpg\")\n",
    "            image_path = os.path.join(mnist_image_dir, f\"mnist_{img_ix}.jpg\")\n",
    "            torchvision.utils.save_image(image, image_path)\n",
    "\n",
    "            # Create dictionary structure for Luxonis ML\n",
    "            yield {\n",
    "                \"file\": image_path,\n",
    "                \"class\": str(label.item()),\n",
    "                \"type\": \"classification\",\n",
    "                \"value\": True,\n",
    "            }\n",
    "        batch_num += 1"
   ]
  },
  {
   "cell_type": "code",
   "execution_count": 19,
   "metadata": {},
   "outputs": [],
   "source": [
    "# 2. Load the MNIST Data into LDF\n",
    "dataset_name = \"Mnist_LDF_W\"\n",
    "\n",
    "# Create a new dataset in LDF\n",
    "dataset = LuxonisDataset(dataset_name)"
   ]
  },
  {
   "cell_type": "code",
   "execution_count": 20,
   "metadata": {},
   "outputs": [
    {
     "name": "stderr",
     "output_type": "stream",
     "text": [
      "100%|██████████| 6400/6400 [00:00<00:00, 20462.86it/s]\n"
     ]
    }
   ],
   "source": [
    "# Add the MNIST data to the dataset\n",
    "dataset.set_classes([\"0\", \"1\", \"2\", \"3\", \"4\", \"5\", \"6\", \"7\", \"8\", \"9\"])\n",
    "dataset.add(mnist_LDF_generator)\n",
    "dataset.make_splits()"
   ]
  },
  {
   "cell_type": "code",
   "execution_count": 21,
   "metadata": {},
   "outputs": [
    {
     "data": {
      "image/png": "[encoded data removed]",
      "text/plain": [
       "<Figure size 640x480 with 1 Axes>"
      ]
     },
     "metadata": {},
     "output_type": "display_data"
    }
   ],
   "source": [
    "loader = LuxonisLoader(dataset)\n",
    "for img, _ in loader:\n",
    "    plt.imshow(img)\n",
    "    plt.show()\n",
    "    break"
   ]
  },
  {
   "cell_type": "code",
   "execution_count": 22,
   "metadata": {},
   "outputs": [],
   "source": [
    "# Initialize the ONNX Runtime session for the model\n",
    "provider = (\n",
    "    [\"CUDAExecutionProvider\"]\n",
    "    if torch.cuda.is_available()\n",
    "    and \"CUDAExecutionProvider\" in onnxruntime.get_available_providers()\n",
    "    else None\n",
    ")\n",
    "ort_session = onnxruntime.InferenceSession(\"./data/resnet50-1.onnx\", providers=provider)"
   ]
  },
  {
   "cell_type": "code",
   "execution_count": 23,
   "metadata": {},
   "outputs": [
    {
     "name": "stdout",
     "output_type": "stream",
     "text": [
      "Collection Mnist_LDF created.\n"
     ]
    }
   ],
   "source": [
    "# Setup Weaviate\n",
    "weaviate_api = WeaviateAPI(\"http://localhost:8080\")\n",
    "\n",
    "weaviate_api.create_collection(\n",
    "    collection_name=\"Mnist_LDF\", properties=[\"label\", \"image_path\"]\n",
    ")"
   ]
  },
  {
   "cell_type": "code",
   "execution_count": 24,
   "metadata": {},
   "outputs": [
    {
     "name": "stdout",
     "output_type": "stream",
     "text": [
      "Upserted 6400 of embeddings to VectorDB.\n",
      "Embeddings generation and insertion completed!\n"
     ]
    }
   ],
   "source": [
    "# Load the LuxonisDataset\n",
    "emb_dict = generate_embeddings(\n",
    "    dataset, ort_session, weaviate_api, output_layer_name=\"/Flatten_output_0\"\n",
    ")"
   ]
  },
  {
   "cell_type": "code",
   "execution_count": 25,
   "metadata": {},
   "outputs": [
    {
     "data": {
      "text/html": [
       "<div>\n",
       "<style scoped>\n",
       "    .dataframe tbody tr th:only-of-type {\n",
       "        vertical-align: middle;\n",
       "    }\n",
       "\n",
       "    .dataframe tbody tr th {\n",
       "        vertical-align: top;\n",
       "    }\n",
       "\n",
       "    .dataframe thead th {\n",
       "        text-align: right;\n",
       "    }\n",
       "</style>\n",
       "<table border=\"1\" class=\"dataframe\">\n",
       "  <thead>\n",
       "    <tr style=\"text-align: right;\">\n",
       "      <th></th>\n",
       "      <th>file</th>\n",
       "      <th>class</th>\n",
       "      <th>type</th>\n",
       "      <th>value</th>\n",
       "      <th>instance_id</th>\n",
       "      <th>value_type</th>\n",
       "      <th>created_at</th>\n",
       "    </tr>\n",
       "  </thead>\n",
       "  <tbody>\n",
       "    <tr>\n",
       "      <th>0</th>\n",
       "      <td>mnist_0.jpg</td>\n",
       "      <td>5</td>\n",
       "      <td>classification</td>\n",
       "      <td>True</td>\n",
       "      <td>88549444-d4db-5f19-b25c-1a833b0933c5</td>\n",
       "      <td>bool</td>\n",
       "      <td>2024-02-06 11:43:39.480940</td>\n",
       "    </tr>\n",
       "  </tbody>\n",
       "</table>\n",
       "</div>"
      ],
      "text/plain": [
       "          file class            type value  \\\n",
       "0  mnist_0.jpg     5  classification  True   \n",
       "\n",
       "                            instance_id value_type                 created_at  \n",
       "0  88549444-d4db-5f19-b25c-1a833b0933c5       bool 2024-02-06 11:43:39.480940  "
      ]
     },
     "execution_count": 25,
     "metadata": {},
     "output_type": "execute_result"
    }
   ],
   "source": [
    "first_emb = None\n",
    "\n",
    "# get a specific sample from dataset\n",
    "first_sample = list(emb_dict.keys())[0]\n",
    "first_emb = emb_dict[first_sample]\n",
    "sample_id = first_sample\n",
    "\n",
    "df = dataset._load_df_offline()\n",
    "sample = df[df[\"instance_id\"] == sample_id]\n",
    "sample"
   ]
  },
  {
   "cell_type": "code",
   "execution_count": 26,
   "metadata": {},
   "outputs": [
    {
     "name": "stdout",
     "output_type": "stream",
     "text": [
      "88549444-d4db-5f19-b25c-1a833b0933c5 5 1.0000004768371582\n",
      "cd359adc-6ef5-55ff-a5eb-57bb32f63660 5 0.966323733329773\n",
      "7b18f337-1f5a-5a21-95e8-45d4a5151956 3 0.9644825458526611\n",
      "f810de5a-2da2-511d-9f3a-c1a7697c09a3 3 0.9641941785812378\n",
      "a77bb5ea-fe98-5ef3-9797-57ab64d2b47c 3 0.9602988958358765\n"
     ]
    }
   ],
   "source": [
    "# Search for the nearest neighbors\n",
    "search_uuids, scores = weaviate_api.search_similar_embeddings(first_emb, top_k=5)\n",
    "payloads = weaviate_api.retrieve_payloads_by_ids(search_uuids, properties=[\"label\"])\n",
    "\n",
    "# Print the search results\n",
    "for u, p, s in zip(search_uuids, payloads, scores):\n",
    "    print(u, p[\"label\"], s)"
   ]
  },
  {
   "cell_type": "markdown",
   "metadata": {},
   "source": [
    "## ONNX, LuxonisFileSystem and Weaviate\n",
    "Using the LuxonisFileSystem we can extract embeddings of pictures stored locally, on GCS or S3."
   ]
  },
  {
   "cell_type": "code",
   "execution_count": 27,
   "metadata": {},
   "outputs": [],
   "source": [
    "# file_info = {\n",
    "#     \"base_path\": \"gcs-bucket-name\",\n",
    "#     \"prefix\": \"path/to/dataset\",\n",
    "#     \"model_path\": \"path/to/model.onnx\",\n",
    "# }"
   ]
  },
  {
   "cell_type": "code",
   "execution_count": 28,
   "metadata": {},
   "outputs": [],
   "source": [
    "# lfs = LuxonisFileSystem(\"gs://\" + file_info[\"base_path\"])\n",
    "\n",
    "# local_model = \"./emb_model.onnx\"\n",
    "# lfs.get_file(file_info[\"model_path\"], local_model)"
   ]
  },
  {
   "cell_type": "code",
   "execution_count": 29,
   "metadata": {},
   "outputs": [],
   "source": [
    "current_dir = os.getcwd()\n",
    "file_info = {\n",
    "    \"base_path\": current_dir,\n",
    "    \"prefix\": \"data/mnist_images_w\",\n",
    "    \"model_path\": \"data/resnet50-1.onnx\",\n",
    "}\n",
    "local_model = file_info[\"model_path\"]"
   ]
  },
  {
   "cell_type": "code",
   "execution_count": 30,
   "metadata": {},
   "outputs": [],
   "source": [
    "# Initialize the ONNX Runtime session for the model\n",
    "provider = (\n",
    "    [\"CUDAExecutionProvider\"]\n",
    "    if torch.cuda.is_available()\n",
    "    and \"CUDAExecutionProvider\" in onnxruntime.get_available_providers()\n",
    "    else None\n",
    ")\n",
    "ort_session = onnxruntime.InferenceSession(local_model, providers=provider)"
   ]
  },
  {
   "cell_type": "code",
   "execution_count": 31,
   "metadata": {},
   "outputs": [],
   "source": [
    "lfs_local = LuxonisFileSystem(file_info[\"base_path\"])"
   ]
  },
  {
   "cell_type": "code",
   "execution_count": 32,
   "metadata": {},
   "outputs": [],
   "source": [
    "files = []\n",
    "for i, f in enumerate(lfs_local.walk_dir(file_info[\"prefix\"])):\n",
    "    if f.endswith(\".png\") or f.endswith(\".jpg\"):\n",
    "        files.append(f)\n",
    "    if i > 100:\n",
    "        break"
   ]
  },
  {
   "cell_type": "code",
   "execution_count": 33,
   "metadata": {},
   "outputs": [],
   "source": [
    "# testing image conversion errors\n",
    "files.append(file_info[\"prefix\"] + \"/non_existing_file.jpg\")"
   ]
  },
  {
   "cell_type": "code",
   "execution_count": 34,
   "metadata": {},
   "outputs": [
    {
     "name": "stdout",
     "output_type": "stream",
     "text": [
      "Error occurred while processing image: data/mnist_images_w/non_existing_file.jpg, Error: [Errno 2] No such file or directory: '/home/drew99/Luxonis-work/workspace/luxonis-ml/examples/data/mnist_images_w/non_existing_file.jpg'\n"
     ]
    }
   ],
   "source": [
    "embeddings, succ_ix = extract_embeddings(\n",
    "    files,\n",
    "    ort_session,\n",
    "    lfs_local,\n",
    "    preprocess_function=None,  # uses the default preprocessing function\n",
    "    output_layer_name=\"/Flatten_output_0\",\n",
    "    batch_size=64,\n",
    ")"
   ]
  },
  {
   "cell_type": "code",
   "execution_count": 35,
   "metadata": {},
   "outputs": [
    {
     "data": {
      "text/plain": [
       "(102, 102, 103)"
      ]
     },
     "execution_count": 35,
     "metadata": {},
     "output_type": "execute_result"
    }
   ],
   "source": [
    "len(succ_ix), len(embeddings), len(files)\n",
    "# assert len(embeddings) == len(succ_ix)\n",
    "# assert len(embeddings) == len(files)\n",
    "# assert len(succ_ix) == len(files)"
   ]
  },
  {
   "cell_type": "code",
   "execution_count": 36,
   "metadata": {},
   "outputs": [
    {
     "name": "stdout",
     "output_type": "stream",
     "text": [
      "data/mnist_images_w/non_existing_file.jpg\n"
     ]
    }
   ],
   "source": [
    "# print the failed files\n",
    "for i in range(len(files)):\n",
    "    if i not in succ_ix:\n",
    "        print(files[i])"
   ]
  },
  {
   "cell_type": "code",
   "execution_count": 37,
   "metadata": {},
   "outputs": [
    {
     "name": "stdout",
     "output_type": "stream",
     "text": [
      "Collection Mnist_LFS created.\n"
     ]
    }
   ],
   "source": [
    "# Setup Weaviate\n",
    "weaviate_api = WeaviateAPI(\"http://localhost:8080\")\n",
    "weaviate_api.create_collection(collection_name=\"Mnist_LFS\", properties=[\"image_path\"])"
   ]
  },
  {
   "cell_type": "code",
   "execution_count": 38,
   "metadata": {},
   "outputs": [],
   "source": [
    "uuids = [str(uuid.uuid4()) for _ in range(len(embeddings))]\n",
    "payloads = [{\"image_path\": f} for f in files]"
   ]
  },
  {
   "cell_type": "code",
   "execution_count": 39,
   "metadata": {},
   "outputs": [],
   "source": [
    "weaviate_api.insert_embeddings(uuids, embeddings, payloads, batch_size=50)"
   ]
  },
  {
   "cell_type": "code",
   "execution_count": 40,
   "metadata": {},
   "outputs": [
    {
     "name": "stdout",
     "output_type": "stream",
     "text": [
      "aa316046-c008-4308-9079-1bc4e2854454 1.0000005960464478\n",
      "45b8a24c-db17-4784-b492-cdb6eaa4164f 0.9511607885360718\n",
      "c95096d9-2f99-4a49-97cc-46be525c05c7 0.9434914588928223\n",
      "a5422f18-48ac-4d69-8dcd-973669c20de8 0.9433823227882385\n",
      "ab0f61ef-451f-4392-82be-b41a50787317 0.9373813271522522\n"
     ]
    }
   ],
   "source": [
    "# Search for the nearest neighbors\n",
    "search_uuids, scores = weaviate_api.search_similar_embeddings(embeddings[0], top_k=5)\n",
    "\n",
    "# Print the search results\n",
    "for u, s in zip(search_uuids, scores):\n",
    "    print(u, s)"
   ]
  },
  {
   "cell_type": "markdown",
   "metadata": {},
   "source": [
    "## Embeddings Processing"
   ]
  },
  {
   "cell_type": "code",
   "execution_count": 41,
   "metadata": {},
   "outputs": [],
   "source": [
    "# look at the Embeddings_Processing_Example.ipynb for the rest of the code"
   ]
  },
  {
   "cell_type": "markdown",
   "metadata": {},
   "source": [
    "## Remove everything"
   ]
  },
  {
   "cell_type": "code",
   "execution_count": 42,
   "metadata": {},
   "outputs": [],
   "source": [
    "# ! rm -rf data"
   ]
  },
  {
   "cell_type": "code",
   "execution_count": 43,
   "metadata": {},
   "outputs": [],
   "source": [
    "# # Delete the collection\n",
    "# weaviate_api = WeaviateAPI(\"http://localhost:8080\")\n",
    "# weaviate_api.create_collection(collection_name=\"Mnist_LDF\")\n",
    "# weaviate_api.delete_collection()"
   ]
  },
  {
   "cell_type": "code",
   "execution_count": 44,
   "metadata": {},
   "outputs": [],
   "source": [
    "# # Delete the Luxonis ML dataset\n",
    "# dataset_name = \"Mnist_LDF_W\"\n",
    "# dataset = LuxonisDataset(dataset_name)\n",
    "# dataset.delete_dataset()"
   ]
  }
 ],
 "metadata": {
  "kernelspec": {
   "display_name": "Python 3 (ipykernel)",
   "language": "python",
   "name": "python3"
  },
  "language_info": {
   "codemirror_mode": {
    "name": "ipython",
    "version": 3
   },
   "file_extension": ".py",
   "mimetype": "text/x-python",
   "name": "python",
   "nbconvert_exporter": "python",
   "pygments_lexer": "ipython3",
   "version": "3.10.13"
  }
 },
 "nbformat": 4,
 "nbformat_minor": 4
}
