{
 "cells": [
  {
   "cell_type": "markdown",
   "metadata": {},
   "source": [
    "# LuxonisDatasetFormat - testing embeddings methods"
   ]
  },
  {
   "cell_type": "code",
   "execution_count": 1,
   "metadata": {},
   "outputs": [],
   "source": [
    "import os\n",
    "import uuid\n",
    "import numpy as np\n",
    "import onnx\n",
    "import onnxruntime\n",
    "import torch\n",
    "import torch.onnx\n",
    "import torchvision\n",
    "import torchvision.transforms as transforms\n",
    "from matplotlib import pyplot as plt\n",
    "from utils.data_utils import load_mnist_data\n",
    "\n",
    "from luxonis_ml.data import (\n",
    "    LuxonisDataset,\n",
    "    LuxonisLoader,\n",
    ")\n",
    "from luxonis_ml.utils import LuxonisFileSystem\n",
    "from luxonis_ml.embeddings.utils.embedding import (\n",
    "    extract_embeddings,\n",
    "    extract_embeddings_onnx,\n",
    "    extract_embeddings_onnx_LFS,\n",
    "    load_embeddings,\n",
    "    save_embeddings,\n",
    ")\n",
    "from luxonis_ml.embeddings.utils.ldf import generate_embeddings\n",
    "from luxonis_ml.embeddings.utils.model import (\n",
    "    export_model_onnx,\n",
    "    extend_output_onnx,\n",
    "    load_model,\n",
    "    load_model_onnx,\n",
    "    load_model_resnet50_minuslastlayer,\n",
    ")\n",
    "from luxonis_ml.embeddings.utils.weaviate import WeaviateAPI"
   ]
  },
  {
   "cell_type": "markdown",
   "metadata": {},
   "source": [
    "## Pytorch examples"
   ]
  },
  {
   "cell_type": "code",
   "execution_count": 2,
   "metadata": {},
   "outputs": [],
   "source": [
    "# Load the data\n",
    "data_loader = load_mnist_data(save_path=\"./data/mnist\", num_samples=640, batch_size=64)"
   ]
  },
  {
   "cell_type": "code",
   "execution_count": 3,
   "metadata": {},
   "outputs": [],
   "source": [
    "# Load the model\n",
    "model = load_model_resnet50_minuslastlayer()"
   ]
  },
  {
   "cell_type": "code",
   "execution_count": 4,
   "metadata": {},
   "outputs": [],
   "source": [
    "# Extract embeddings from the dataset\n",
    "embeddings, labels = extract_embeddings(model, data_loader)"
   ]
  },
  {
   "cell_type": "code",
   "execution_count": 5,
   "metadata": {},
   "outputs": [],
   "source": [
    "save_embeddings(embeddings, labels, \"./data/\")"
   ]
  },
  {
   "cell_type": "markdown",
   "metadata": {},
   "source": [
    "## ONNX models and Weaviate"
   ]
  },
  {
   "cell_type": "code",
   "execution_count": 6,
   "metadata": {},
   "outputs": [],
   "source": [
    "# Load the data\n",
    "data_loader = load_mnist_data(save_path=\"./data/mnist\", num_samples=640, batch_size=64)"
   ]
  },
  {
   "cell_type": "code",
   "execution_count": 7,
   "metadata": {},
   "outputs": [],
   "source": [
    "# Load the model\n",
    "model = load_model()\n",
    "\n",
    "# Export the model to ONNX\n",
    "export_model_onnx(model, model_path_out=\"./data/resnet50.onnx\")\n",
    "\n",
    "# Load the ONNX model\n",
    "onnx_model = load_model_onnx(model_path=\"./data/resnet50.onnx\")\n",
    "\n",
    "# Extend the ONNX model with an intermediate output layer\n",
    "onnx_model = extend_output_onnx(\n",
    "    onnx_model, intermediate_tensor_name=\"/Flatten_output_0\"\n",
    ")\n",
    "\n",
    "# Save the ONNX model\n",
    "onnx.save(onnx_model, \"./data/resnet50-1.onnx\")"
   ]
  },
  {
   "cell_type": "code",
   "execution_count": 8,
   "metadata": {},
   "outputs": [],
   "source": [
    "# Create an ONNX Runtime session\n",
    "provider = (\n",
    "    [\"CUDAExecutionProvider\"]\n",
    "    if torch.cuda.is_available()\n",
    "    and \"CUDAExecutionProvider\" in onnxruntime.get_available_providers()\n",
    "    else None\n",
    ")\n",
    "ort_session = onnxruntime.InferenceSession(\"./data/resnet50-1.onnx\", providers=provider)\n",
    "\n",
    "# Extract embeddings from the dataset\n",
    "embeddings, labels = extract_embeddings_onnx(\n",
    "    ort_session, data_loader, \"/Flatten_output_0\"\n",
    ")\n",
    "\n",
    "# Save the embeddings and labels to a file\n",
    "save_embeddings(embeddings, labels, \"./data/\")"
   ]
  },
  {
   "cell_type": "code",
   "execution_count": 9,
   "metadata": {},
   "outputs": [],
   "source": [
    "embeddings, labels = load_embeddings(\"./data/\")\n",
    "# must be list\n",
    "embeddings = embeddings.tolist()\n",
    "labels = labels.tolist()\n",
    "labels = [str(label) for label in labels]"
   ]
  },
  {
   "cell_type": "code",
   "execution_count": 10,
   "metadata": {},
   "outputs": [],
   "source": [
    "# Connect to Weaviate\n",
    "weaviate_api = WeaviateAPI(\"http://localhost:8080\", collection_name=\"Mnist\")\n",
    "# weaviate_api = WeaviateAPI(url=\"http://localhost:8080\", auth_key=\"YOUR_AUTH_KEY\", collection_name=\"Mnist26\")"
   ]
  },
  {
   "cell_type": "code",
   "execution_count": 11,
   "metadata": {},
   "outputs": [],
   "source": [
    "# Create a collection\n",
    "weaviate_api.create_collection(label=True)\n",
    "\n",
    "# Insert the embeddings into the collection\n",
    "uuids = [str(uuid.uuid5(uuid.NAMESPACE_DNS, str(e))) for e in embeddings]\n",
    "weaviate_api.insert_embeddings(uuids, embeddings, labels, batch_size=50)"
   ]
  },
  {
   "cell_type": "code",
   "execution_count": 12,
   "metadata": {},
   "outputs": [],
   "source": [
    "# Search for the nearest neighbors\n",
    "search_uuids, scores = weaviate_api.search_similar_embeddings(embeddings[0], top_k=5)\n",
    "search_labels = weaviate_api.retrieve_labels_by_ids(search_uuids)\n",
    "\n",
    "# Print the search results\n",
    "for u,l in zip(search_uuids, search_labels):\n",
    "    print(u, l)"
   ]
  },
  {
   "cell_type": "markdown",
   "metadata": {},
   "source": [
    "## LuxonisDatasetFormat, ONNX and Weaviate"
   ]
  },
  {
   "cell_type": "code",
   "execution_count": 13,
   "metadata": {},
   "outputs": [],
   "source": [
    "NUM_SAMPLES = 6400  # -1 # minus one is equivalent to all samples\n",
    "BATCH_SIZE = 64"
   ]
  },
  {
   "cell_type": "code",
   "execution_count": 14,
   "metadata": {},
   "outputs": [
    {
     "name": "stdout",
     "output_type": "stream",
     "text": [
      "Number of samples: 6400\n"
     ]
    }
   ],
   "source": [
    "# Load the MNIST data\n",
    "data_loader = load_mnist_data(\n",
    "    save_path=\"./data/mnist\", num_samples=NUM_SAMPLES, batch_size=BATCH_SIZE\n",
    ")\n",
    "NUM_SAMPLES = len(data_loader.dataset)\n",
    "print(f\"Number of samples: {NUM_SAMPLES}\")"
   ]
  },
  {
   "cell_type": "code",
   "execution_count": 15,
   "metadata": {},
   "outputs": [],
   "source": [
    "# Create a tmp directory to store the images\n",
    "mnist_image_dir = \"./data/mnist_images\"\n",
    "if not os.path.exists(mnist_image_dir):\n",
    "    os.makedirs(mnist_image_dir)"
   ]
  },
  {
   "cell_type": "code",
   "execution_count": 16,
   "metadata": {},
   "outputs": [],
   "source": [
    "# Convert MNIST data to Luxonis ML format\n",
    "def mnist_LDF_generator():\n",
    "    batch_num = 0\n",
    "    for batch in data_loader:\n",
    "        images, labels = batch\n",
    "        for i, (image, label) in enumerate(zip(images, labels)):\n",
    "            img_ix = batch_num * BATCH_SIZE + i\n",
    "\n",
    "            # Save image to disk\n",
    "            # image_path = os.path.join(mnist_image_dir, f\"mnist_{img_ix}.jpg\")\n",
    "            image_path = os.path.join(mnist_image_dir, f\"{uuid.uuid4()}.jpg\")\n",
    "            torchvision.utils.save_image(image, image_path)\n",
    "\n",
    "            # Create dictionary structure for Luxonis ML\n",
    "            yield {\n",
    "                \"file\": image_path,\n",
    "                \"class\": str(label.item()),\n",
    "                \"type\": \"classification\",\n",
    "                \"value\": True,\n",
    "            }\n",
    "        batch_num += 1\n"
   ]
  },
  {
   "cell_type": "code",
   "execution_count": 17,
   "metadata": {},
   "outputs": [],
   "source": [
    "# 2. Load the MNIST Data into LDF\n",
    "dataset_name = \"Mnist_LDF_W2\"\n",
    "\n",
    "# Create a new dataset in LDF\n",
    "dataset = LuxonisDataset(dataset_name)"
   ]
  },
  {
   "cell_type": "code",
   "execution_count": 18,
   "metadata": {},
   "outputs": [
    {
     "name": "stderr",
     "output_type": "stream",
     "text": [
      "100%|██████████| 6400/6400 [00:00<00:00, 20264.72it/s]\n"
     ]
    }
   ],
   "source": [
    "# Add the MNIST data to the dataset\n",
    "dataset.set_classes([\"0\", \"1\", \"2\", \"3\", \"4\", \"5\", \"6\", \"7\", \"8\", \"9\"])\n",
    "dataset.add(mnist_LDF_generator)\n",
    "dataset.make_splits()"
   ]
  },
  {
   "cell_type": "code",
   "execution_count": 19,
   "metadata": {},
   "outputs": [
    {
     "data": {
      "image/png": "[encoded data removed]",
      "text/plain": [
       "<Figure size 640x480 with 1 Axes>"
      ]
     },
     "metadata": {},
     "output_type": "display_data"
    }
   ],
   "source": [
    "loader = LuxonisLoader(dataset)\n",
    "for img, _ in loader:\n",
    "    plt.imshow(img)\n",
    "    plt.show()\n",
    "    break"
   ]
  },
  {
   "cell_type": "code",
   "execution_count": 20,
   "metadata": {},
   "outputs": [],
   "source": [
    "# Define the transform\n",
    "transform = transforms.Compose([\n",
    "    transforms.ToPILImage(),\n",
    "    transforms.Resize((224, 224)),\n",
    "    transforms.ToTensor(),\n",
    "    transforms.Normalize(mean=[0.485, 0.456, 0.406], std=[0.229, 0.224, 0.225]),\n",
    "])\n",
    "\n",
    "# Initialize the ONNX Runtime session for the model\n",
    "provider = (\n",
    "    [\"CUDAExecutionProvider\"]\n",
    "    if torch.cuda.is_available()\n",
    "    and \"CUDAExecutionProvider\" in onnxruntime.get_available_providers()\n",
    "    else None\n",
    ")\n",
    "ort_session = onnxruntime.InferenceSession(\"./data/resnet50-1.onnx\", providers=provider)"
   ]
  },
  {
   "cell_type": "code",
   "execution_count": 21,
   "metadata": {},
   "outputs": [],
   "source": [
    "# Setup Weaviate\n",
    "weaviate_api = WeaviateAPI(\"http://localhost:8080\", collection_name=\"Mnist_LDF\")\n",
    "weaviate_api.create_collection(label=True, vector_size=2048, distance_metric=\"cosine\")"
   ]
  },
  {
   "cell_type": "code",
   "execution_count": 22,
   "metadata": {},
   "outputs": [
    {
     "name": "stdout",
     "output_type": "stream",
     "text": [
      "Upserted 6400 of embeddings to VectorDB.\n",
      "Embeddings generation and insertion completed!\n"
     ]
    }
   ],
   "source": [
    "# Load the LuxonisDataset\n",
    "emb_dict = generate_embeddings(\n",
    "    dataset, ort_session, weaviate_api, output_layer_name=\"/Flatten_output_0\", transform=transform\n",
    ")"
   ]
  },
  {
   "cell_type": "code",
   "execution_count": 23,
   "metadata": {},
   "outputs": [
    {
     "data": {
      "text/html": [
       "<div>\n",
       "<style scoped>\n",
       "    .dataframe tbody tr th:only-of-type {\n",
       "        vertical-align: middle;\n",
       "    }\n",
       "\n",
       "    .dataframe tbody tr th {\n",
       "        vertical-align: top;\n",
       "    }\n",
       "\n",
       "    .dataframe thead th {\n",
       "        text-align: right;\n",
       "    }\n",
       "</style>\n",
       "<table border=\"1\" class=\"dataframe\">\n",
       "  <thead>\n",
       "    <tr style=\"text-align: right;\">\n",
       "      <th></th>\n",
       "      <th>file</th>\n",
       "      <th>class</th>\n",
       "      <th>type</th>\n",
       "      <th>value</th>\n",
       "      <th>instance_id</th>\n",
       "      <th>value_type</th>\n",
       "      <th>created_at</th>\n",
       "    </tr>\n",
       "  </thead>\n",
       "  <tbody>\n",
       "    <tr>\n",
       "      <th>0</th>\n",
       "      <td>122fbbe0-81c7-485e-877e-b9b93484210e.jpg</td>\n",
       "      <td>5</td>\n",
       "      <td>classification</td>\n",
       "      <td>True</td>\n",
       "      <td>e06f949b-184a-5456-99d1-76a727b0ca40</td>\n",
       "      <td>bool</td>\n",
       "      <td>2024-02-01 16:06:28.003768</td>\n",
       "    </tr>\n",
       "  </tbody>\n",
       "</table>\n",
       "</div>"
      ],
      "text/plain": [
       "                                       file class            type value  \\\n",
       "0  122fbbe0-81c7-485e-877e-b9b93484210e.jpg     5  classification  True   \n",
       "\n",
       "                            instance_id value_type                 created_at  \n",
       "0  e06f949b-184a-5456-99d1-76a727b0ca40       bool 2024-02-01 16:06:28.003768  "
      ]
     },
     "execution_count": 23,
     "metadata": {},
     "output_type": "execute_result"
    }
   ],
   "source": [
    "first_emb = None\n",
    "\n",
    "# get a specific sample from dataset\n",
    "first_sample = list(emb_dict.keys())[0]\n",
    "first_emb = emb_dict[first_sample]\n",
    "sample_id = first_sample\n",
    "\n",
    "# sample_id = '64e758bdca1096d3483d18f4'\n",
    "# sample = dataset.fo_dataset[sample_id]\n",
    "df = dataset._load_df_offline()\n",
    "sample = df[df[\"file\"] == sample_id+\".jpg\"]\n",
    "sample"
   ]
  },
  {
   "cell_type": "code",
   "execution_count": 24,
   "metadata": {},
   "outputs": [],
   "source": [
    "# Search for the nearest neighbors\n",
    "search_uuids, scores = weaviate_api.search_similar_embeddings(first_emb, top_k=5)\n",
    "search_labels = weaviate_api.retrieve_labels_by_ids(search_uuids)\n",
    "\n",
    "# Print the search results\n",
    "for u,l,s in zip(search_uuids, search_labels, scores):\n",
    "    print(u, l, s)"
   ]
  },
  {
   "cell_type": "markdown",
   "metadata": {},
   "source": [
    "## ONNX, LuxonisFileSystem and Weaviate\n",
    "Using the LuxonisFileSystem we can extract embeddings of pictures stored locally, on GCS or S3."
   ]
  },
  {
   "cell_type": "code",
   "execution_count": 25,
   "metadata": {},
   "outputs": [],
   "source": [
    "# file_info = {\n",
    "#     \"base_path\": \"gcs-bucket-name\",\n",
    "#     \"prefix\": \"path/to/dataset\",\n",
    "#     \"model_path\": \"path/to/model.onnx\",\n",
    "# }"
   ]
  },
  {
   "cell_type": "code",
   "execution_count": 26,
   "metadata": {},
   "outputs": [],
   "source": [
    "# lfs = LuxonisFileSystem(\"gs://\" + file_info[\"base_path\"]) \n",
    "\n",
    "# local_model = \"./emb_model.onnx\"\n",
    "# lfs.get_file(file_info[\"model_path\"], local_model)"
   ]
  },
  {
   "cell_type": "code",
   "execution_count": 27,
   "metadata": {},
   "outputs": [],
   "source": [
    "current_dir = os.getcwd()\n",
    "file_info = {\n",
    "    \"base_path\": current_dir,\n",
    "    \"prefix\": \"data/mnist_images\",\n",
    "    \"model_path\": \"data/resnet50-1.onnx\",\n",
    "}\n",
    "local_model = file_info[\"model_path\"]"
   ]
  },
  {
   "cell_type": "code",
   "execution_count": 28,
   "metadata": {},
   "outputs": [],
   "source": [
    "# Define the transform\n",
    "transform = transforms.Compose([\n",
    "    # transforms.ToPILImage(),\n",
    "    transforms.Resize((224, 224)),\n",
    "    transforms.ToTensor(),\n",
    "    transforms.Normalize(mean=[0.485, 0.456, 0.406], std=[0.229, 0.224, 0.225]),\n",
    "])\n",
    "\n",
    "# Initialize the ONNX Runtime session for the model\n",
    "provider = (\n",
    "    [\"CUDAExecutionProvider\"]\n",
    "    if torch.cuda.is_available()\n",
    "    and \"CUDAExecutionProvider\" in onnxruntime.get_available_providers()\n",
    "    else None\n",
    ")\n",
    "ort_session = onnxruntime.InferenceSession(local_model, providers=provider)"
   ]
  },
  {
   "cell_type": "code",
   "execution_count": 29,
   "metadata": {},
   "outputs": [],
   "source": [
    "lfs_local = LuxonisFileSystem(file_info[\"base_path\"])"
   ]
  },
  {
   "cell_type": "code",
   "execution_count": 30,
   "metadata": {},
   "outputs": [],
   "source": [
    "files = []\n",
    "for i,f in enumerate(lfs_local.walk_dir(file_info[\"prefix\"])):\n",
    "    if f.endswith(\".png\") or f.endswith(\".jpg\"):    \n",
    "        files.append(f)\n",
    "    if i > 100:\n",
    "        break\n"
   ]
  },
  {
   "cell_type": "code",
   "execution_count": 31,
   "metadata": {},
   "outputs": [],
   "source": [
    "# testing image conversion errors\n",
    "files.append(file_info[\"prefix\"] + \"/non_existing_file.jpg\")"
   ]
  },
  {
   "cell_type": "code",
   "execution_count": 32,
   "metadata": {},
   "outputs": [
    {
     "name": "stdout",
     "output_type": "stream",
     "text": [
      "Error occured while processing image:  data/mnist_images/non_existing_file.jpg\n"
     ]
    }
   ],
   "source": [
    "embeddings, succ_ix = extract_embeddings_onnx_LFS(\n",
    "    files,\n",
    "    ort_session,\n",
    "    transform,\n",
    "    lfs_local,\n",
    "    output_layer_name=\"/Flatten_output_0\",\n",
    "    batch_size=64,\n",
    ")"
   ]
  },
  {
   "cell_type": "code",
   "execution_count": 33,
   "metadata": {},
   "outputs": [
    {
     "data": {
      "text/plain": [
       "(102, 102, 103)"
      ]
     },
     "execution_count": 33,
     "metadata": {},
     "output_type": "execute_result"
    }
   ],
   "source": [
    "len(succ_ix), len(embeddings), len(files)\n",
    "# assert len(embeddings) == len(succ_ix)\n",
    "# assert len(embeddings) == len(files)\n",
    "# assert len(succ_ix) == len(files)"
   ]
  },
  {
   "cell_type": "code",
   "execution_count": 34,
   "metadata": {},
   "outputs": [
    {
     "name": "stdout",
     "output_type": "stream",
     "text": [
      "data/mnist_images/non_existing_file.jpg\n"
     ]
    }
   ],
   "source": [
    "# print the failed files\n",
    "for i in range(len(files)):\n",
    "    if i not in succ_ix:\n",
    "        print(files[i])"
   ]
  },
  {
   "cell_type": "code",
   "execution_count": 35,
   "metadata": {},
   "outputs": [
    {
     "name": "stdout",
     "output_type": "stream",
     "text": [
      "Collection Mnist_LFS does not exist. Creating...\n"
     ]
    }
   ],
   "source": [
    "# Setup Weaviate\n",
    "weaviate_api = WeaviateAPI(\"http://localhost:8080\", collection_name=\"Mnist_LFS\")\n",
    "weaviate_api.create_collection(label=True)"
   ]
  },
  {
   "cell_type": "code",
   "execution_count": 36,
   "metadata": {},
   "outputs": [],
   "source": [
    "#uuids = [str(uuid.uuid4()) for _ in range(len(embeddings))]\n",
    "# uuids = names of successfully processed files\n",
    "uuids = [files[i].split(\"/\")[-1].split(\".\")[0] for i in succ_ix]"
   ]
  },
  {
   "cell_type": "code",
   "execution_count": 37,
   "metadata": {},
   "outputs": [],
   "source": [
    "weaviate_api.insert_embeddings(\n",
    "    uuids, embeddings, batch_size=50\n",
    ")"
   ]
  },
  {
   "cell_type": "code",
   "execution_count": 38,
   "metadata": {},
   "outputs": [
    {
     "name": "stdout",
     "output_type": "stream",
     "text": [
      "00002ca7-6c9a-4366-9bad-3c73282ba2d2 5.960464477539062e-07\n",
      "001c9bfc-3fd9-4f97-b488-cf0e27734f3a 0.07812297344207764\n",
      "01455da2-1e9a-4800-817e-3f4f43e49a13 0.0832066535949707\n",
      "01344d2d-0068-46fc-8f2f-9ae8fdc2a3e7 0.08697658777236938\n",
      "00fa65c6-1a21-47b4-b6fb-32ab28b4e0bd 0.09236842393875122\n"
     ]
    }
   ],
   "source": [
    "# Search for the nearest neighbors\n",
    "search_uuids, scores = weaviate_api.search_similar_embeddings(embeddings[0], top_k=5)\n",
    "\n",
    "# Print the search results\n",
    "for u,s in zip(search_uuids, scores):\n",
    "    print(u, s)"
   ]
  },
  {
   "cell_type": "markdown",
   "metadata": {},
   "source": [
    "## Embeddings Processing"
   ]
  },
  {
   "cell_type": "code",
   "execution_count": 39,
   "metadata": {},
   "outputs": [],
   "source": [
    "# look at the Embeddings_Processing_Example.ipynb for the rest of the code"
   ]
  },
  {
   "cell_type": "markdown",
   "metadata": {},
   "source": [
    "## Remove everything"
   ]
  },
  {
   "cell_type": "code",
   "execution_count": 40,
   "metadata": {},
   "outputs": [],
   "source": [
    "# ! rm -rf data"
   ]
  },
  {
   "cell_type": "code",
   "execution_count": 42,
   "metadata": {},
   "outputs": [],
   "source": [
    "# # Delete the collection\n",
    "# weaviate_api = WeaviateAPI(\"http://localhost:8080\", collection_name=\"Mnist\")\n",
    "# weaviate_api.delete_collection()"
   ]
  },
  {
   "cell_type": "code",
   "execution_count": 43,
   "metadata": {},
   "outputs": [],
   "source": [
    "# # Delete the Luxonis ML dataset\n",
    "# dataset.delete_dataset()"
   ]
  }
 ],
 "metadata": {
  "kernelspec": {
   "display_name": "Python 3 (ipykernel)",
   "language": "python",
   "name": "python3"
  },
  "language_info": {
   "codemirror_mode": {
    "name": "ipython",
    "version": 3
   },
   "file_extension": ".py",
   "mimetype": "text/x-python",
   "name": "python",
   "nbconvert_exporter": "python",
   "pygments_lexer": "ipython3",
   "version": "3.10.12"
  }
 },
 "nbformat": 4,
 "nbformat_minor": 4
}
