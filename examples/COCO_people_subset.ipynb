{
 "cells": [
  {
   "attachments": {},
   "cell_type": "markdown",
   "id": "f9de6101",
   "metadata": {},
   "source": [
    "## Adding a subset of COCO people data"
   ]
  },
  {
   "cell_type": "code",
   "execution_count": 1,
   "id": "4c06d8fc",
   "metadata": {},
   "outputs": [],
   "source": [
    "import glob, json, os\n",
    "import numpy as np\n",
    "import cv2\n",
    "import pycocotools.mask as mask_util\n",
    "from PIL import Image, ImageDraw\n",
    "from copy import deepcopy\n",
    "\n",
    "from luxonis_ml.data import *"
   ]
  },
  {
   "attachments": {},
   "cell_type": "markdown",
   "id": "718c2791",
   "metadata": {},
   "source": [
    "### Download and extract data"
   ]
  },
  {
   "cell_type": "code",
   "execution_count": 2,
   "id": "5cc9ddf2",
   "metadata": {
    "scrolled": true
   },
   "outputs": [
    {
     "name": "stdout",
     "output_type": "stream",
     "text": [
      "Collecting gdown\n",
      "  Using cached gdown-4.7.1-py3-none-any.whl (15 kB)\n",
      "Requirement already satisfied: requests[socks] in /home/klemen/envs/test/lib/python3.8/site-packages (from gdown) (2.31.0)\n",
      "Requirement already satisfied: filelock in /home/klemen/envs/test/lib/python3.8/site-packages (from gdown) (3.12.2)\n",
      "Requirement already satisfied: tqdm in /home/klemen/envs/test/lib/python3.8/site-packages (from gdown) (4.65.0)\n",
      "Requirement already satisfied: six in /home/klemen/envs/test/lib/python3.8/site-packages (from gdown) (1.16.0)\n",
      "Collecting beautifulsoup4\n",
      "  Using cached beautifulsoup4-4.12.2-py3-none-any.whl (142 kB)\n",
      "Collecting soupsieve>1.2\n",
      "  Using cached soupsieve-2.4.1-py3-none-any.whl (36 kB)\n",
      "Requirement already satisfied: urllib3<3,>=1.21.1 in /home/klemen/envs/test/lib/python3.8/site-packages (from requests[socks]->gdown) (1.26.16)\n",
      "Requirement already satisfied: certifi>=2017.4.17 in /home/klemen/envs/test/lib/python3.8/site-packages (from requests[socks]->gdown) (2023.5.7)\n",
      "Requirement already satisfied: idna<4,>=2.5 in /home/klemen/envs/test/lib/python3.8/site-packages (from requests[socks]->gdown) (3.4)\n",
      "Requirement already satisfied: charset-normalizer<4,>=2 in /home/klemen/envs/test/lib/python3.8/site-packages (from requests[socks]->gdown) (3.1.0)\n",
      "Collecting PySocks!=1.5.7,>=1.5.6\n",
      "  Using cached PySocks-1.7.1-py3-none-any.whl (16 kB)\n",
      "Installing collected packages: soupsieve, PySocks, beautifulsoup4, gdown\n",
      "Successfully installed PySocks-1.7.1 beautifulsoup4-4.12.2 gdown-4.7.1 soupsieve-2.4.1\n",
      "\n",
      "\u001b[1m[\u001b[0m\u001b[34;49mnotice\u001b[0m\u001b[1;39;49m]\u001b[0m\u001b[39;49m A new release of pip is available: \u001b[0m\u001b[31;49m23.0.1\u001b[0m\u001b[39;49m -> \u001b[0m\u001b[32;49m23.1.2\u001b[0m\n",
      "\u001b[1m[\u001b[0m\u001b[34;49mnotice\u001b[0m\u001b[1;39;49m]\u001b[0m\u001b[39;49m To update, run: \u001b[0m\u001b[32;49mpip install --upgrade pip\u001b[0m\n",
      "Downloading...\n",
      "From: https://drive.google.com/uc?id=1XlvFK7aRmt8op6-hHkWVKIJQeDtOwoRT\n",
      "To: /home/klemen/luxonis/luxonis-ml/data/COCO_people_subset.zip\n",
      "100%|██████████████████████████████████████| 7.78M/7.78M [00:00<00:00, 55.5MB/s]\n",
      "Archive:  ../data/COCO_people_subset.zip\n",
      "replace ../data/person_keypoints_val2017.json? [y]es, [n]o, [A]ll, [N]one, [r]ename: ^C\n"
     ]
    }
   ],
   "source": [
    "! pip install gdown\n",
    "! gdown 1XlvFK7aRmt8op6-hHkWVKIJQeDtOwoRT -O ../data/COCO_people_subset.zip\n",
    "! unzip ../data/COCO_people_subset.zip -d ../data/"
   ]
  },
  {
   "attachments": {},
   "cell_type": "markdown",
   "id": "94150fc8",
   "metadata": {},
   "source": [
    "### Find image paths and load COCO annotations"
   ]
  },
  {
   "cell_type": "code",
   "execution_count": 3,
   "id": "7fa5d2b9",
   "metadata": {},
   "outputs": [],
   "source": [
    "img_dir = '../data/person_val2017_subset'\n",
    "annot_file = '../data/person_keypoints_val2017.json'\n",
    "\n",
    "# get paths to images sorted by number\n",
    "im_paths = glob.glob(img_dir+'/*.jpg')\n",
    "nums = np.array([int(path.split('/')[-1].split('.')[0]) for path in im_paths])\n",
    "idxs = np.argsort(nums)\n",
    "im_paths = list(np.array(im_paths)[idxs])\n",
    "\n",
    "# load \n",
    "with open(annot_file) as file:\n",
    "    data = json.load(file)\n",
    "imgs = data['images']\n",
    "anns = data['annotations']"
   ]
  },
  {
   "attachments": {},
   "cell_type": "markdown",
   "id": "2befa6b3",
   "metadata": {},
   "source": [
    "### Convert from COCO format\n",
    "\n",
    "The LDF will expect the following format:\n",
    "```\n",
    "additions (list[dict]): {\n",
    "    # path to the image on local storage\n",
    "    'filepath' (str): \"my_image.jpg\",\n",
    "    # list of boxes, which are length 6 lists of [class, x, y, width, height]\n",
    "    'boxes' (list[list]): [[\"apple\", 0.1, 0.2, 0.1, 0.2], ...],\n",
    "    # list of keypoint instances, which are length 2 [class, points] and points is a list of (x,y) tuples\n",
    "    'keypoints' (list[str|int, list[tuple]]): [[\"apple\", [(0.1, 0.2), (0.3, 0.4), ...], ...],\n",
    "    # an integer numpy array of HxW where the values correspond to classes\n",
    "    'segmentation' (np.ndarray): np.zeros((height, width))\n",
    "}\n",
    "```"
   ]
  },
  {
   "cell_type": "code",
   "execution_count": 4,
   "id": "4404049f",
   "metadata": {},
   "outputs": [],
   "source": [
    "# create some artificial splits\n",
    "splits = ['train' for _ in range(20)] + ['val' for _ in range(10)]\n",
    "\n",
    "additions = [] # list of additional training examples\n",
    "\n",
    "for i, path in enumerate(im_paths):\n",
    "    # find annotations matching the COCO image\n",
    "    gran = path.split('/')[-1]\n",
    "    img = [img for img in imgs if img['file_name']==gran][0]\n",
    "    img_id = img['id']\n",
    "    img_anns = [ann for ann in anns if ann['image_id'] == img_id]\n",
    "    \n",
    "    # load the image\n",
    "    im = cv2.imread(path)\n",
    "    height, width, _ = im.shape\n",
    "    \n",
    "    # initialize annotations for LDF\n",
    "    mask = np.zeros((height, width)) # segmentation mask is always a HxW numpy array\n",
    "    boxes = [] # bounding boxes are a list of [class, x, y, width, height] of the box\n",
    "    keypoints = [] # keypoints are a list of classes and (x,y) points\n",
    "    \n",
    "    for ann in img_anns:\n",
    "        # COCO-specific conversion for segmentation\n",
    "        seg = ann['segmentation']\n",
    "        if isinstance(seg, list):\n",
    "            for s in seg:\n",
    "                poly = np.array(s).reshape(-1,2)\n",
    "                poly = [(poly[i,0],poly[i,1]) for i in range(len(poly))]\n",
    "                m = Image.new('L', (width, height), 0)\n",
    "                ImageDraw.Draw(m).polygon(poly, outline=1, fill=1)\n",
    "                m = np.array(m)\n",
    "                mask[m==1] = 1\n",
    "        \n",
    "        # COCO-specific conversion for bounding boxes\n",
    "        x, y, w, h = ann['bbox']\n",
    "        boxes.append(['person', x/width, y/height, w/width, h/height])\n",
    "        \n",
    "        # COCO-specific conversion for keypoints\n",
    "        kps = np.array(ann['keypoints']).reshape(-1, 3)\n",
    "        keypoint = []\n",
    "        for kp in kps:\n",
    "            if kp[2] == 0:\n",
    "                keypoint.append((float('nan'), float('nan')))\n",
    "            else: \n",
    "                keypoint.append((kp[0]/width, kp[1]/height))  \n",
    "        keypoints.append(['person', keypoint])\n",
    "    \n",
    "    # dictionary structure expected by LDF\n",
    "    additions.append({\n",
    "        'image': {\n",
    "            'filepath': path,\n",
    "            'segmentation': mask,\n",
    "            'boxes': boxes,\n",
    "            'keypoints': keypoints,\n",
    "            'split': splits[i]\n",
    "        }\n",
    "    })\n",
    "    \n",
    "original_additions = deepcopy(additions)"
   ]
  },
  {
   "cell_type": "code",
   "execution_count": 5,
   "id": "8171a7f9",
   "metadata": {},
   "outputs": [
    {
     "name": "stdout",
     "output_type": "stream",
     "text": [
      "Dataset id: 64a3c86e0363aedcae0102d4\n"
     ]
    }
   ],
   "source": [
    "team_id = \"luxonis_team_id\"\n",
    "team_name = \"luxonis\"\n",
    "dataset_name = \"coco_test\"\n",
    "\n",
    "dataset_id = LuxonisDataset.create(\n",
    "    team_id=team_id,\n",
    "    team_name=team_name,\n",
    "    dataset_name=dataset_name\n",
    "\n",
    ")\n",
    "print(f\"Dataset id: {dataset_id}\")"
   ]
  },
  {
   "cell_type": "code",
   "execution_count": 6,
   "id": "9a30216e",
   "metadata": {
    "scrolled": false
   },
   "outputs": [
    {
     "name": "stdout",
     "output_type": "stream",
     "text": [
      "Checking for additions or modifications...\n"
     ]
    },
    {
     "name": "stderr",
     "output_type": "stream",
     "text": [
      "100%|██████████| 30/30 [00:03<00:00,  9.82it/s]\n"
     ]
    },
    {
     "name": "stdout",
     "output_type": "stream",
     "text": [
      "Extracting dataset media...\n"
     ]
    },
    {
     "name": "stderr",
     "output_type": "stream",
     "text": [
      "100%|██████████| 30/30 [00:00<00:00, 32.35it/s]\n"
     ]
    },
    {
     "name": "stdout",
     "output_type": "stream",
     "text": [
      " 100% |███████████████████| 30/30 [5.5s elapsed, 0s remaining, 14.0 samples/s]      \n"
     ]
    }
   ],
   "source": [
    "with LuxonisDataset(\n",
    "    team_id=team_id,\n",
    "    dataset_id=dataset_id,\n",
    "    team_name=team_name,\n",
    "    dataset_name=dataset_name,\n",
    "    bucket_type=\"local\"\n",
    ") as dataset:\n",
    "    \n",
    "    # defines the format of the COCO data source,\n",
    "    # which in this case is just a single image per training example\n",
    "    dataset.create_source(\n",
    "        'coco',\n",
    "        custom_components=[\n",
    "            LDFComponent('image', HType.IMAGE, IType.BGR)\n",
    "        ]\n",
    "    )\n",
    "    \n",
    "    dataset.set_classes(['person']) # needed for classification and detection\n",
    "    dataset.set_mask_targets({1:'person'}) # needed for segmentation\n",
    "    dataset.set_skeleton({\n",
    "        'labels': data['categories'][0]['keypoints'],\n",
    "        'edges': (np.array(data['categories'][0]['skeleton'])-1).tolist()\n",
    "    }) # optional for keypoints to define the skeleton visualization\n",
    "    \n",
    "    dataset.add(additions)\n",
    "    dataset.create_version(note=\"Initially adding data\")"
   ]
  },
  {
   "cell_type": "code",
   "execution_count": 7,
   "id": "58991ba0",
   "metadata": {},
   "outputs": [
    {
     "name": "stdout",
     "output_type": "stream",
     "text": [
      "Checking for additions or modifications...\n"
     ]
    },
    {
     "name": "stderr",
     "output_type": "stream",
     "text": [
      "100%|██████████| 30/30 [00:08<00:00,  3.62it/s]\n"
     ]
    },
    {
     "name": "stdout",
     "output_type": "stream",
     "text": [
      "Extracting dataset media...\n"
     ]
    },
    {
     "name": "stderr",
     "output_type": "stream",
     "text": [
      "100%|██████████| 30/30 [00:00<00:00, 30.78it/s]\n"
     ]
    }
   ],
   "source": [
    "with LuxonisDataset(\n",
    "    team_id=team_id,\n",
    "    dataset_id=dataset_id,\n",
    ") as dataset:\n",
    "    \n",
    "    additions = deepcopy(original_additions)\n",
    "    \n",
    "    # add a classification label to the dataset\n",
    "    for addition in additions:\n",
    "        addition['image']['class'] = 'person'\n",
    "    \n",
    "    dataset.add(additions)\n",
    "    dataset.create_version(note=\"Add classification labels\")"
   ]
  },
  {
   "cell_type": "code",
   "execution_count": 8,
   "id": "e60d5a44",
   "metadata": {},
   "outputs": [
    {
     "name": "stdout",
     "output_type": "stream",
     "text": [
      "Dataset version: 1.1\n",
      "Class attribute presence in version 1.0:\n",
      "[False, False, False, False, False, False, False, False, False, False, False, False, False, False, False, False, False, False, False, False, False, False, False, False, False, False, False, False, False, False]\n",
      "Class attribute presence in version 1.1:\n",
      "[True, True, True, True, True, True, True, True, True, True, True, True, True, True, True, True, True, True, True, True, True, True, True, True, True, True, True, True, True, True]\n"
     ]
    }
   ],
   "source": [
    "with LuxonisDataset(\n",
    "    team_id=team_id,\n",
    "    dataset_id=dataset_id,\n",
    ") as dataset:\n",
    "    \n",
    "    print(\"Dataset version:\", dataset.version)\n",
    "    v10 = dataset.fo_dataset.load_saved_view('version_1.0')\n",
    "    print(\"Class attribute presence in version 1.0:\")\n",
    "    print([sample['class'] is not None for sample in v10])\n",
    "    v11 = dataset.fo_dataset.load_saved_view('version_1.1')\n",
    "    print(\"Class attribute presence in version 1.1:\")\n",
    "    print([sample['class'] is not None for sample in v11])"
   ]
  },
  {
   "attachments": {},
   "cell_type": "markdown",
   "id": "cdcc8595",
   "metadata": {},
   "source": [
    "### Permanently delete dataset"
   ]
  },
  {
   "cell_type": "code",
   "execution_count": 9,
   "id": "2724865d",
   "metadata": {},
   "outputs": [],
   "source": [
    "with LuxonisDataset(\n",
    "    team_id=team_id,\n",
    "    dataset_id=dataset_id,\n",
    ") as dataset:\n",
    "    \n",
    "    dataset.delete_dataset()"
   ]
  }
 ],
 "metadata": {
  "kernelspec": {
   "display_name": "Python 3 (ipykernel)",
   "language": "python",
   "name": "python3"
  },
  "language_info": {
   "codemirror_mode": {
    "name": "ipython",
    "version": 3
   },
   "file_extension": ".py",
   "mimetype": "text/x-python",
   "name": "python",
   "nbconvert_exporter": "python",
   "pygments_lexer": "ipython3",
   "version": "3.8.17"
  }
 },
 "nbformat": 4,
 "nbformat_minor": 5
}
