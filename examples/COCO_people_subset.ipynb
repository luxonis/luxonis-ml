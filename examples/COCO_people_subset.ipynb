{
 "cells": [
  {
   "cell_type": "markdown",
   "id": "f9de6101",
   "metadata": {},
   "source": [
    "## Adding a subset of COCO people data"
   ]
  },
  {
   "cell_type": "code",
   "execution_count": 1,
   "id": "4c06d8fc",
   "metadata": {},
   "outputs": [],
   "source": [
    "import glob, json, os\n",
    "import numpy as np\n",
    "import cv2\n",
    "import pycocotools.mask as mask_util\n",
    "from PIL import Image, ImageDraw\n",
    "\n",
    "from luxonis_ml.ops import *"
   ]
  },
  {
   "cell_type": "markdown",
   "id": "718c2791",
   "metadata": {},
   "source": [
    "### Download and extract data"
   ]
  },
  {
   "cell_type": "code",
   "execution_count": 2,
   "id": "5cc9ddf2",
   "metadata": {
    "scrolled": true
   },
   "outputs": [
    {
     "name": "stdout",
     "output_type": "stream",
     "text": [
      "Requirement already satisfied: gdown in /home/conor/Luxonis/envs/fiftyone/lib/python3.9/site-packages (4.7.1)\n",
      "Requirement already satisfied: tqdm in /home/conor/Luxonis/envs/fiftyone/lib/python3.9/site-packages (from gdown) (4.65.0)\n",
      "Requirement already satisfied: six in /home/conor/Luxonis/envs/fiftyone/lib/python3.9/site-packages (from gdown) (1.16.0)\n",
      "Requirement already satisfied: requests[socks] in /home/conor/Luxonis/envs/fiftyone/lib/python3.9/site-packages (from gdown) (2.31.0)\n",
      "Requirement already satisfied: filelock in /home/conor/Luxonis/envs/fiftyone/lib/python3.9/site-packages (from gdown) (3.12.0)\n",
      "Requirement already satisfied: beautifulsoup4 in /home/conor/Luxonis/envs/fiftyone/lib/python3.9/site-packages (from gdown) (4.12.2)\n",
      "Requirement already satisfied: soupsieve>1.2 in /home/conor/Luxonis/envs/fiftyone/lib/python3.9/site-packages (from beautifulsoup4->gdown) (2.4.1)\n",
      "Requirement already satisfied: certifi>=2017.4.17 in /home/conor/Luxonis/envs/fiftyone/lib/python3.9/site-packages (from requests[socks]->gdown) (2023.5.7)\n",
      "Requirement already satisfied: charset-normalizer<4,>=2 in /home/conor/Luxonis/envs/fiftyone/lib/python3.9/site-packages (from requests[socks]->gdown) (3.1.0)\n",
      "Requirement already satisfied: urllib3<3,>=1.21.1 in /home/conor/Luxonis/envs/fiftyone/lib/python3.9/site-packages (from requests[socks]->gdown) (1.26.16)\n",
      "Requirement already satisfied: idna<4,>=2.5 in /home/conor/Luxonis/envs/fiftyone/lib/python3.9/site-packages (from requests[socks]->gdown) (3.4)\n",
      "Requirement already satisfied: PySocks!=1.5.7,>=1.5.6 in /home/conor/Luxonis/envs/fiftyone/lib/python3.9/site-packages (from requests[socks]->gdown) (1.7.1)\n",
      "\u001b[33mWARNING: You are using pip version 22.0.4; however, version 23.1.2 is available.\n",
      "You should consider upgrading via the '/home/conor/Luxonis/envs/fiftyone/bin/python3.9 -m pip install --upgrade pip' command.\u001b[0m\u001b[33m\n",
      "\u001b[0mDownloading...\n",
      "From: https://drive.google.com/uc?id=1XlvFK7aRmt8op6-hHkWVKIJQeDtOwoRT\n",
      "To: /home/conor/Luxonis/tmp/luxonis-ml/data/COCO_people_subset.zip\n",
      "100%|██████████████████████████████████████| 7.78M/7.78M [00:00<00:00, 29.9MB/s]\n",
      "Archive:  ../data/COCO_people_subset.zip\n",
      "  inflating: ../data/person_keypoints_val2017.json  \n",
      "   creating: ../data/person_val2017_subset/\n",
      "  inflating: ../data/person_val2017_subset/000000001490.jpg  \n",
      "  inflating: ../data/person_val2017_subset/000000003934.jpg  \n",
      "  inflating: ../data/person_val2017_subset/000000005060.jpg  \n",
      "  inflating: ../data/person_val2017_subset/000000003255.jpg  \n",
      "  inflating: ../data/person_val2017_subset/000000001761.jpg  \n",
      "  inflating: ../data/person_val2017_subset/000000001000.jpg  \n",
      "  inflating: ../data/person_val2017_subset/000000002431.jpg  \n",
      "  inflating: ../data/person_val2017_subset/000000002006.jpg  \n",
      "  inflating: ../data/person_val2017_subset/000000002261.jpg  \n",
      "  inflating: ../data/person_val2017_subset/000000004395.jpg  \n",
      "  inflating: ../data/person_val2017_subset/000000005001.jpg  \n",
      "  inflating: ../data/person_val2017_subset/000000000872.jpg  \n",
      "  inflating: ../data/person_val2017_subset/000000002685.jpg  \n",
      "  inflating: ../data/person_val2017_subset/000000001268.jpg  \n",
      "  inflating: ../data/person_val2017_subset/000000005037.jpg  \n",
      "  inflating: ../data/person_val2017_subset/000000002473.jpg  \n",
      "  inflating: ../data/person_val2017_subset/000000001296.jpg  \n",
      "  inflating: ../data/person_val2017_subset/000000002299.jpg  \n",
      "  inflating: ../data/person_val2017_subset/000000005193.jpg  \n",
      "  inflating: ../data/person_val2017_subset/000000003553.jpg  \n",
      "  inflating: ../data/person_val2017_subset/000000001584.jpg  \n",
      "  inflating: ../data/person_val2017_subset/000000002153.jpg  \n",
      "  inflating: ../data/person_val2017_subset/000000001353.jpg  \n",
      "  inflating: ../data/person_val2017_subset/000000004765.jpg  \n",
      "  inflating: ../data/person_val2017_subset/000000002532.jpg  \n",
      "  inflating: ../data/person_val2017_subset/000000000139.jpg  \n",
      "  inflating: ../data/person_val2017_subset/000000000785.jpg  \n",
      "  inflating: ../data/person_val2017_subset/000000000885.jpg  \n",
      "  inflating: ../data/person_val2017_subset/000000004134.jpg  \n",
      "  inflating: ../data/person_val2017_subset/000000003156.jpg  \n"
     ]
    }
   ],
   "source": [
    "! pip install gdown\n",
    "! gdown 1XlvFK7aRmt8op6-hHkWVKIJQeDtOwoRT -O ../data/COCO_people_subset.zip\n",
    "! unzip ../data/COCO_people_subset.zip -d ../data/"
   ]
  },
  {
   "cell_type": "markdown",
   "id": "94150fc8",
   "metadata": {},
   "source": [
    "### Find image paths and load COCO annotations"
   ]
  },
  {
   "cell_type": "code",
   "execution_count": 3,
   "id": "7fa5d2b9",
   "metadata": {},
   "outputs": [],
   "source": [
    "img_dir = '../data/person_val2017_subset'\n",
    "annot_file = '../data/person_keypoints_val2017.json'\n",
    "\n",
    "# get paths to images sorted by number\n",
    "im_paths = glob.glob(img_dir+'/*.jpg')\n",
    "nums = np.array([int(path.split('/')[-1].split('.')[0]) for path in im_paths])\n",
    "idxs = np.argsort(nums)\n",
    "im_paths = list(np.array(im_paths)[idxs])\n",
    "\n",
    "# load \n",
    "with open(annot_file) as file:\n",
    "    data = json.load(file)\n",
    "imgs = data['images']\n",
    "anns = data['annotations']"
   ]
  },
  {
   "cell_type": "markdown",
   "id": "2befa6b3",
   "metadata": {},
   "source": [
    "### Convert from COCO format\n",
    "\n",
    "The LDF will expect the following format:\n",
    "```\n",
    "additions (list[dict]): {\n",
    "    # path to the image on local storage\n",
    "    'filepath' (str): \"my_image.jpg\",\n",
    "    # list of boxes, which are length 6 lists of [class, x, y, width, height]\n",
    "    'boxes' (list[list]): [[\"apple\", 0.1, 0.2, 0.1, 0.2], ...],\n",
    "    # list of keypoint instances, which are length 2 [class, points] and points is a list of (x,y) tuples\n",
    "    'keypoints' (list[str|int, list[tuple]]): [[\"apple\", [(0.1, 0.2), (0.3, 0.4), ...], ...],\n",
    "    # an integer numpy array of HxW where the values correspond to classes\n",
    "    'segmentation' (np.ndarray): np.zeros((height, width))\n",
    "}\n",
    "```"
   ]
  },
  {
   "cell_type": "code",
   "execution_count": 4,
   "id": "4404049f",
   "metadata": {},
   "outputs": [],
   "source": [
    "# create some artificial splits\n",
    "splits = ['train' for _ in range(20)] + ['val' for _ in range(10)]\n",
    "\n",
    "additions = [] # list of additional training examples\n",
    "\n",
    "for i, path in enumerate(im_paths):\n",
    "    # find annotations matching the COCO image\n",
    "    gran = path.split('/')[-1]\n",
    "    img = [img for img in imgs if img['file_name']==gran][0]\n",
    "    img_id = img['id']\n",
    "    img_anns = [ann for ann in anns if ann['image_id'] == img_id]\n",
    "    \n",
    "    # load the image\n",
    "    im = cv2.imread(path)\n",
    "    height, width, _ = im.shape\n",
    "    \n",
    "    # initialize annotations for LDF\n",
    "    mask = np.zeros((height, width)) # segmentation mask is always a HxW numpy array\n",
    "    boxes = [] # bounding boxes are a list of [class, x, y, width, height] of the box\n",
    "    keypoints = [] # keypoints are a list of classes and (x,y) points\n",
    "    \n",
    "    for ann in img_anns:\n",
    "        # COCO-specific conversion for segmentation\n",
    "        seg = ann['segmentation']\n",
    "        if isinstance(seg, list):\n",
    "            for s in seg:\n",
    "                poly = np.array(s).reshape(-1,2)\n",
    "                poly = [(poly[i,0],poly[i,1]) for i in range(len(poly))]\n",
    "                m = Image.new('L', (width, height), 0)\n",
    "                ImageDraw.Draw(m).polygon(poly, outline=1, fill=1)\n",
    "                m = np.array(m)\n",
    "                mask[m==1] = 1\n",
    "        \n",
    "        # COCO-specific conversion for bounding boxes\n",
    "        x, y, w, h = ann['bbox']\n",
    "        boxes.append(['person', x/width, y/height, w/width, h/height])\n",
    "        \n",
    "        # COCO-specific conversion for keypoints\n",
    "        kps = np.array(ann['keypoints']).reshape(-1, 3)\n",
    "        keypoint = []\n",
    "        for kp in kps:\n",
    "            if kp[2] == 0:\n",
    "                keypoint.append((float('nan'), float('nan')))\n",
    "            else: \n",
    "                keypoint.append((kp[0]/width, kp[1]/height))  \n",
    "        keypoints.append(['person', keypoint])\n",
    "    \n",
    "    # dictionary structure expected by LDF\n",
    "    additions.append({\n",
    "        'image': {\n",
    "            'filepath': path,\n",
    "            'segmentation': mask,\n",
    "            'boxes': boxes,\n",
    "            'keypoints': keypoints,\n",
    "            'split': splits[i]\n",
    "        }\n",
    "    })"
   ]
  },
  {
   "cell_type": "code",
   "execution_count": 5,
   "id": "9a30216e",
   "metadata": {
    "scrolled": true
   },
   "outputs": [
    {
     "name": "stderr",
     "output_type": "stream",
     "text": [
      "/home/conor/Luxonis/tmp/luxonis-ml/src/luxonis_ml/ops/dataset.py:266: UserWarning: Updating from a previously saved source!\n",
      "  warnings.warn(f\"Updating from a previously saved source!\")\n"
     ]
    },
    {
     "name": "stdout",
     "output_type": "stream",
     "text": [
      "Checking for additions or modifications...\n"
     ]
    },
    {
     "name": "stderr",
     "output_type": "stream",
     "text": [
      "100%|█████████████████████████████████████████████████████████████████████████████████████████████████████████████████████| 30/30 [00:00<00:00, 38.69it/s]"
     ]
    },
    {
     "name": "stdout",
     "output_type": "stream",
     "text": [
      "No new additions!\n"
     ]
    },
    {
     "name": "stderr",
     "output_type": "stream",
     "text": [
      "\n"
     ]
    }
   ],
   "source": [
    "with LuxonisDataset('luxonis', 'coco_test', bucket_type='local') as dataset:\n",
    "    \n",
    "    # defines the format of the COCO data source,\n",
    "    # which in this case is just a single image per training example\n",
    "    dataset.create_source(\n",
    "        'coco',\n",
    "        custom_components=[\n",
    "            LDFComponent('image', HType.IMAGE, IType.BGR)\n",
    "        ]\n",
    "    )\n",
    "    \n",
    "    dataset.set_classes(['person']) # needed for classification and detection\n",
    "    dataset.set_mask_targets({1:'person'}) # needed for segmentation\n",
    "    dataset.set_skeleton({\n",
    "        'labels': data['categories'][0]['keypoints'],\n",
    "        'edges': (np.array(data['categories'][0]['skeleton'])-1).tolist()\n",
    "    }) # optional for keypoints to define the skeleton visualization\n",
    "    \n",
    "    dataset.add(additions, note=\"adding initial data :)\")"
   ]
  }
 ],
 "metadata": {
  "kernelspec": {
   "display_name": "Python 3 (ipykernel)",
   "language": "python",
   "name": "python3"
  },
  "language_info": {
   "codemirror_mode": {
    "name": "ipython",
    "version": 3
   },
   "file_extension": ".py",
   "mimetype": "text/x-python",
   "name": "python",
   "nbconvert_exporter": "python",
   "pygments_lexer": "ipython3",
   "version": "3.9.16"
  }
 },
 "nbformat": 4,
 "nbformat_minor": 5
}
