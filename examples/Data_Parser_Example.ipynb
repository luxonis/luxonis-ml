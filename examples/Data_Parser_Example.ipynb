{
 "cells": [
  {
   "cell_type": "markdown",
   "id": "f9de6101",
   "metadata": {},
   "source": [
    "## Adding Data Using COCO Parser"
   ]
  },
  {
   "cell_type": "code",
   "execution_count": null,
   "id": "4c06d8fc",
   "metadata": {},
   "outputs": [],
   "source": [
    "import os\n",
    "import zipfile\n",
    "from pathlib import Path\n",
    "\n",
    "import cv2\n",
    "import gdown\n",
    "import matplotlib.pyplot as plt\n",
    "import numpy as np\n",
    "\n",
    "from luxonis_ml.data import LuxonisLoader, LuxonisParser\n",
    "from luxonis_ml.enums import LabelType"
   ]
  },
  {
   "cell_type": "markdown",
   "id": "718c2791",
   "metadata": {},
   "source": [
    "### Download and extract data"
   ]
  },
  {
   "cell_type": "code",
   "execution_count": null,
   "id": "5cc9ddf2",
   "metadata": {
    "scrolled": true
   },
   "outputs": [],
   "source": [
    "url = \"https://drive.google.com/uc?id=1XlvFK7aRmt8op6-hHkWVKIJQeDtOwoRT\"\n",
    "output_zip = \"../data/COCO_people_subset.zip\"\n",
    "dataset_dir = \"../data/coco_test\"\n",
    "\n",
    "if not os.path.exists(dataset_dir):\n",
    "    Path(dataset_dir).mkdir(parents=True)\n",
    "# Check if the data already exists\n",
    "if not os.path.exists(output_zip) and not os.path.exists(\n",
    "    os.path.join(dataset_dir, \"COCO_people_subset\")\n",
    "):\n",
    "    # Download the file\n",
    "    gdown.download(url, output_zip, quiet=False)\n",
    "\n",
    "    # Unzip the file\n",
    "    with zipfile.ZipFile(output_zip, \"r\") as zip_ref:\n",
    "        zip_ref.extractall(dataset_dir)\n",
    "else:\n",
    "    print(\"Data already exists. Exiting.\")"
   ]
  },
  {
   "cell_type": "markdown",
   "id": "2befa6b3",
   "metadata": {},
   "source": [
    "### Convert from COCO using parsers\n",
    "\n",
    "If any of your data is coming from one of the following formats, we have some automatic parsers to add your data to `LuxonisDataset`:\n",
    "- COCO\n",
    "- YOLO\n",
    "- VOC\n",
    "- Darknet\n",
    "- CreateML\n",
    "- and more!"
   ]
  },
  {
   "cell_type": "code",
   "execution_count": null,
   "id": "4404049f",
   "metadata": {},
   "outputs": [],
   "source": [
    "dataset_name = \"coco_test\"\n",
    "parser = LuxonisParser(dataset_dir, dataset_name=dataset_name, delete_existing=True)\n",
    "dataset = parser.parse(random_split=True)"
   ]
  },
  {
   "cell_type": "markdown",
   "id": "828f6d36-d5f1-4c68-9f70-80d26d45690e",
   "metadata": {},
   "source": [
    "### Test Loader"
   ]
  },
  {
   "cell_type": "code",
   "execution_count": null,
   "id": "fda91cd6-9fe5-43ee-ab88-3dfc57ff89ef",
   "metadata": {},
   "outputs": [],
   "source": [
    "loader = LuxonisLoader(dataset, view=\"train\")\n",
    "for image, ann in loader:\n",
    "    cls = ann[LabelType.CLASSIFICATION]\n",
    "    box = ann[LabelType.BOUNDINGBOX]\n",
    "    seg = ann[LabelType.SEGMENTATION]\n",
    "    kps = ann[LabelType.KEYPOINT]\n",
    "\n",
    "    h, w, _ = image.shape\n",
    "    for b in box:\n",
    "        cv2.rectangle(\n",
    "            image,\n",
    "            (int(b[1] * w), int(b[2] * h)),\n",
    "            (int(b[1] * w + b[3] * w), int(b[2] * h + b[4] * h)),\n",
    "            (255, 0, 0),\n",
    "            2,\n",
    "        )\n",
    "    mask_viz = np.zeros((h, w, 3)).astype(np.uint8)\n",
    "    for mask in seg:\n",
    "        mask_viz[mask == 1, 2] = 255\n",
    "    image = cv2.addWeighted(image, 0.5, mask_viz, 0.5, 0)\n",
    "\n",
    "    for kp in kps:\n",
    "        kp = kp[1:].reshape(-1, 3)\n",
    "        for k in kp:\n",
    "            cv2.circle(image, (int(k[0] * w), int(k[1] * h)), 2, (0, 255, 0), 2)\n",
    "\n",
    "    plt.imshow(image)\n",
    "    plt.axis(\"off\")  # Optional: Hide axis\n",
    "    plt.show()"
   ]
  }
 ],
 "metadata": {
  "kernelspec": {
   "display_name": "Python 3 (ipykernel)",
   "language": "python",
   "name": "python3"
  },
  "language_info": {
   "codemirror_mode": {
    "name": "ipython",
    "version": 3
   },
   "file_extension": ".py",
   "mimetype": "text/x-python",
   "name": "python",
   "nbconvert_exporter": "python",
   "pygments_lexer": "ipython3",
   "version": "3.8.18"
  }
 },
 "nbformat": 4,
 "nbformat_minor": 5
}
